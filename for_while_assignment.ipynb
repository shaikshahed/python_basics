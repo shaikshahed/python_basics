{
 "cells": [
  {
   "cell_type": "code",
   "execution_count": 20,
   "metadata": {},
   "outputs": [
    {
     "name": "stdout",
     "output_type": "stream",
     "text": [
      "t\n",
      "h\n",
      "o\n"
     ]
    }
   ],
   "source": [
    "#2. WAP to print all the items present in the string between the range from m to n.\n",
    "st='python'\n",
    "m=2\n",
    "n=5\n",
    "if m<len(st) and n<len(st):\n",
    "    if m>n:\n",
    "        m,n=n,m\n",
    "    for i in range(m,n):\n",
    "        print(st[i])\n",
    "else:\n",
    "    print('m,n not in string length')\n",
    "\n"
   ]
  },
  {
   "cell_type": "code",
   "execution_count": 15,
   "metadata": {},
   "outputs": [
    {
     "name": "stdout",
     "output_type": "stream",
     "text": [
      "T\n",
      "H\n",
      "O\n"
     ]
    }
   ],
   "source": [
    "#3.  WAP to print the uppercase characters in a given string. \n",
    "st='pyTHOn'\n",
    "for i in st:\n",
    "    if 'A'<=i<='Z':\n",
    "        print(i)"
   ]
  },
  {
   "cell_type": "code",
   "execution_count": 16,
   "metadata": {},
   "outputs": [
    {
     "name": "stdout",
     "output_type": "stream",
     "text": [
      "p\n",
      "y\n",
      "n\n"
     ]
    }
   ],
   "source": [
    "#4. WAP to print the lowercase characters in a given string.\n",
    "st='pyTHOn'\n",
    "for i in st:\n",
    "    if 'a'<=i<='z':\n",
    "        print(i) "
   ]
  },
  {
   "cell_type": "code",
   "execution_count": 18,
   "metadata": {},
   "outputs": [
    {
     "name": "stdout",
     "output_type": "stream",
     "text": [
      "1\n",
      "2\n",
      "3\n",
      "4\n"
     ]
    }
   ],
   "source": [
    "#5. WAP to print the ascii numbers(Digits) characters in a given string. \n",
    "st='pyTHOn1&2@3%4'\n",
    "for i in st:\n",
    "    if '0'<=i<='9':\n",
    "        print(i)"
   ]
  },
  {
   "cell_type": "code",
   "execution_count": 19,
   "metadata": {},
   "outputs": [
    {
     "name": "stdout",
     "output_type": "stream",
     "text": [
      "&\n",
      "@\n",
      "%\n"
     ]
    }
   ],
   "source": [
    "#6. WAP to print the special characters in a given string. \n",
    "st='pyTHOn1&2@3%4'\n",
    "for i in st:\n",
    "    if not('A'<=i<='Z' or 'a'<=i<='z' or '0'<=i<='9'):\n",
    "        print(i)"
   ]
  },
  {
   "cell_type": "code",
   "execution_count": 30,
   "metadata": {},
   "outputs": [
    {
     "name": "stdout",
     "output_type": "stream",
     "text": [
      "a\n",
      "o\n",
      "i\n",
      "u\n",
      "E\n",
      "I\n",
      "O\n",
      "E\n"
     ]
    }
   ],
   "source": [
    "#7. WAP to print the vowels in the given string.\n",
    "st='pytawoifuETIJKOE'\n",
    "for i in st:\n",
    "    if i in ('aeiou'):\n",
    "        print(i)\n",
    "    elif i in ('AEIOU'):\n",
    "        print(i)"
   ]
  },
  {
   "cell_type": "code",
   "execution_count": 37,
   "metadata": {},
   "outputs": [
    {
     "name": "stdout",
     "output_type": "stream",
     "text": [
      "nohtyp\n"
     ]
    }
   ],
   "source": [
    "#9.  WAP to print the  reverse of the characters in a given string.\n",
    "st='python'\n",
    "rev=''\n",
    "for i in st:\n",
    "    rev=i+rev\n",
    "print(rev)"
   ]
  },
  {
   "cell_type": "code",
   "execution_count": 2,
   "metadata": {},
   "outputs": [
    {
     "name": "stdout",
     "output_type": "stream",
     "text": [
      "p\n",
      "t\n",
      "o\n"
     ]
    }
   ],
   "source": [
    "#10. WAP to print even position values characters in a given string.\n",
    "st='python'\n",
    "i=0\n",
    "while i<len(st):\n",
    "    if i%2==0:\n",
    "        print(st[i])\n",
    "    i+=1\n",
    "\n"
   ]
  },
  {
   "cell_type": "code",
   "execution_count": 4,
   "metadata": {},
   "outputs": [
    {
     "name": "stdout",
     "output_type": "stream",
     "text": [
      "y\n",
      "h\n",
      "N\n"
     ]
    }
   ],
   "source": [
    "#11. WAP to print odd position values characters in a given string.\n",
    "st='pythoN'\n",
    "i=0\n",
    "while i<len(st):\n",
    "    if i%2!=0:\n",
    "        print(st[i])\n",
    "    i+=1"
   ]
  },
  {
   "cell_type": "code",
   "execution_count": 11,
   "metadata": {},
   "outputs": [
    {
     "name": "stdout",
     "output_type": "stream",
     "text": [
      "6\n"
     ]
    }
   ],
   "source": [
    "#12.  WAP to count the total Number of characters in a given string.(with length function)\n",
    "st='python'\n",
    "count=0\n",
    "i=0\n",
    "while i<len(st):\n",
    "    if st[i]:\n",
    "        count+=1\n",
    "    i+=1\n",
    "print(count)\n",
    "\n",
    "\n",
    " "
   ]
  },
  {
   "cell_type": "code",
   "execution_count": 22,
   "metadata": {},
   "outputs": [
    {
     "name": "stdout",
     "output_type": "stream",
     "text": [
      "6\n",
      "6\n"
     ]
    }
   ],
   "source": [
    "#13. WAP to count the total Number of characters in a given string.(without length function)\n",
    "st='python'\n",
    "count=0\n",
    "while st:\n",
    "    count+=1\n",
    "    st=st[:-1]\n",
    "print(count)\n",
    "\n",
    "#or\n",
    "s='python'\n",
    "c=0\n",
    "for i in s:\n",
    "    c+=1\n",
    "print(c)\n",
    "\n"
   ]
  },
  {
   "cell_type": "code",
   "execution_count": 20,
   "metadata": {},
   "outputs": [
    {
     "name": "stdout",
     "output_type": "stream",
     "text": [
      "5\n"
     ]
    }
   ],
   "source": [
    "#14.  WAP to count alphabets in a given string. \n",
    "st='abCDE123@!@'\n",
    "count=0\n",
    "i=0\n",
    "while i<len(st):\n",
    "    if 'A'<=st[i]<='Z' or 'a'<=st[i]<='z':\n",
    "        count+=1\n",
    "    i+=1\n",
    "print(count)"
   ]
  },
  {
   "cell_type": "code",
   "execution_count": 22,
   "metadata": {},
   "outputs": [
    {
     "name": "stdout",
     "output_type": "stream",
     "text": [
      "3\n"
     ]
    }
   ],
   "source": [
    "#15. WAP to count Number of uppercase in a given string.\n",
    "st='pyTHOn123#@!'\n",
    "start=0\n",
    "count=0\n",
    "while start<len(st):\n",
    "    if 'A'<=st[start]<='Z':\n",
    "        count+=1\n",
    "    start+=1\n",
    "print(count) "
   ]
  },
  {
   "cell_type": "code",
   "execution_count": 25,
   "metadata": {},
   "outputs": [
    {
     "name": "stdout",
     "output_type": "stream",
     "text": [
      "3\n"
     ]
    }
   ],
   "source": [
    "#16. WAP to count Number of lowercase in a given string. \n",
    "st='pyTRHOn12#@'\n",
    "start=0\n",
    "count=0\n",
    "while start<len(st):\n",
    "    if 'a'<=st[start]<='z':\n",
    "        count+=1\n",
    "    start+=1\n",
    "print(count)"
   ]
  },
  {
   "cell_type": "code",
   "execution_count": 27,
   "metadata": {},
   "outputs": [
    {
     "name": "stdout",
     "output_type": "stream",
     "text": [
      "4\n"
     ]
    }
   ],
   "source": [
    "#17. WAP to count Number of special symbols in a given string. \n",
    "st='pyTHo@!#12e!'\n",
    "i=0\n",
    "count=0\n",
    "while i<len(st):\n",
    "    if not('A'<=st[i]<='Z' or 'a'<=st[i]<='z' or '0'<=st[i]<='9'):\n",
    "        count+=1\n",
    "    i+=1\n",
    "print(count)"
   ]
  },
  {
   "cell_type": "code",
   "execution_count": 28,
   "metadata": {},
   "outputs": [
    {
     "name": "stdout",
     "output_type": "stream",
     "text": [
      "6\n"
     ]
    }
   ],
   "source": [
    "#18. WAP to count uppercase and lowercase in a given string.\n",
    "st='py123TH@#oN'\n",
    "i=0\n",
    "count=0\n",
    "while i<len(st):\n",
    "    if ('A'<st[i]<='Z' or 'a'<=st[i]<='z'):\n",
    "        count+=1\n",
    "    i+=1\n",
    "print(count)"
   ]
  },
  {
   "cell_type": "code",
   "execution_count": 29,
   "metadata": {},
   "outputs": [
    {
     "name": "stdout",
     "output_type": "stream",
     "text": [
      "5\n"
     ]
    }
   ],
   "source": [
    "#19.  WAP to count Number of ascii numbers in a given string.\n",
    "st='py123TH98@ON'\n",
    "i=0\n",
    "count=0\n",
    "while i<len(st):\n",
    "    if '0'<=st[i]<='9':\n",
    "        count+=1\n",
    "    i+=1\n",
    "print(count)"
   ]
  },
  {
   "cell_type": "code",
   "execution_count": 30,
   "metadata": {},
   "outputs": [
    {
     "name": "stdout",
     "output_type": "stream",
     "text": [
      "3\n"
     ]
    }
   ],
   "source": [
    "#20. WAP to Count Total Number of Words in a String. \n",
    "st='i love india'\n",
    "i=0\n",
    "count=0\n",
    "while i<len(st):\n",
    "    if st[i]==' ':\n",
    "        count+=1\n",
    "    i+=1\n",
    "print(count+1)"
   ]
  },
  {
   "cell_type": "code",
   "execution_count": 31,
   "metadata": {},
   "outputs": [
    {
     "name": "stdout",
     "output_type": "stream",
     "text": [
      "2\n"
     ]
    }
   ],
   "source": [
    "#21. WAP to Count Total Number of spaces in a String.\n",
    "st='i love india'\n",
    "i=0\n",
    "count=0\n",
    "while i<len(st):\n",
    "    if st[i]==' ':\n",
    "        count+=1\n",
    "    i+=1\n",
    "print(count)"
   ]
  },
  {
   "cell_type": "code",
   "execution_count": 34,
   "metadata": {},
   "outputs": [
    {
     "name": "stdout",
     "output_type": "stream",
     "text": [
      "4\n"
     ]
    }
   ],
   "source": [
    "#22. WAP to Count Vowels in a String.\n",
    "st='aeITYG123@#$VvE'\n",
    "i=0\n",
    "count=0\n",
    "while i<len(st):\n",
    "    if st[i] in 'AEIOUaeiou':\n",
    "        count+=1\n",
    "    i+=1\n",
    "print(count)"
   ]
  },
  {
   "cell_type": "code",
   "execution_count": 51,
   "metadata": {},
   "outputs": [
    {
     "name": "stdout",
     "output_type": "stream",
     "text": [
      "5\n"
     ]
    }
   ],
   "source": [
    "#23. WAP to Count consonants in a String.\n",
    "st='trfae124@!'\n",
    "i=0\n",
    "count=0\n",
    "while i<len(st):\n",
    "    if st[i] not in ('AEIOUaeiou') and not('0'<=st[i]<='9'):\n",
    "        count+=1\n",
    "    i+=1\n",
    "print(count)"
   ]
  },
  {
   "cell_type": "code",
   "execution_count": 48,
   "metadata": {},
   "outputs": [
    {
     "name": "stdout",
     "output_type": "stream",
     "text": [
      "9\n"
     ]
    }
   ],
   "source": [
    "#24.  WAP to Count Vowels and Consonants in a String.\n",
    "st='aeITYG123@#$VvE'\n",
    "i=0\n",
    "count=0\n",
    "while i<len(st):\n",
    "    if 'a'<=st[i]<='z' or 'A'<=st[i]<='Z':\n",
    "        count+=1\n",
    "    i+=1\n",
    "print(count)"
   ]
  },
  {
   "cell_type": "code",
   "execution_count": 62,
   "metadata": {},
   "outputs": [
    {
     "name": "stdout",
     "output_type": "stream",
     "text": [
      "4\n"
     ]
    }
   ],
   "source": [
    "#25. WAP to count Number of new lines in a given string.\n",
    "st='''i love\n",
    "         my india\n",
    "          very much\n",
    "          hi \n",
    "          hello'''\n",
    "i=0\n",
    "count=0\n",
    "while i<len(st):\n",
    "    if st[i]=='\\n':\n",
    "        count+=1\n",
    "    i+=1\n",
    "print(count)"
   ]
  },
  {
   "cell_type": "code",
   "execution_count": 63,
   "metadata": {},
   "outputs": [
    {
     "name": "stdout",
     "output_type": "stream",
     "text": [
      "5\n"
     ]
    }
   ],
   "source": [
    "#26. WAP to count Number of lines in a given string.\n",
    "st='''i love\n",
    "         my india\n",
    "          very much\n",
    "          hi \n",
    "          hello'''\n",
    "i=0\n",
    "count=0\n",
    "while i<len(st):\n",
    "    if st[i]=='\\n':\n",
    "        count+=1\n",
    "    i+=1\n",
    "print(count+1)\n"
   ]
  },
  {
   "cell_type": "code",
   "execution_count": 64,
   "metadata": {},
   "outputs": [
    {
     "name": "stdout",
     "output_type": "stream",
     "text": [
      "12\n"
     ]
    }
   ],
   "source": [
    "#27.  WAP to count no of alphabets, numbers, and special characters in a given string.\n",
    "st='pyt123HO#$%N'\n",
    "i=0\n",
    "count=0\n",
    "while i<len(st):\n",
    "    if 'a'<=st[i]<='z' or 'A'<=st[i]<='Z' or '0'<=st[i]<='9' or not('a'<=st[i]<='z' or 'A'<=st[i]<='Z' or '0'<=st[i]<='9'):\n",
    "        count+=1\n",
    "    i+=1\n",
    "print(count)"
   ]
  },
  {
   "cell_type": "code",
   "execution_count": 47,
   "metadata": {},
   "outputs": [
    {
     "ename": "IndentationError",
     "evalue": "unindent does not match any outer indentation level (<tokenize>, line 8)",
     "output_type": "error",
     "traceback": [
      "\u001b[1;36m  File \u001b[1;32m<tokenize>:8\u001b[1;36m\u001b[0m\n\u001b[1;33m    i+=1\u001b[0m\n\u001b[1;37m    ^\u001b[0m\n\u001b[1;31mIndentationError\u001b[0m\u001b[1;31m:\u001b[0m unindent does not match any outer indentation level\n"
     ]
    }
   ],
   "source": [
    "#28. WAP to Count Total no of words in a first line of the Doc String.\n",
    "st='''i love my\n",
    "     my india'''\n",
    "i=0\n",
    "count=0\n",
    "while i<len(st) and st[i]==' ':\n",
    "        count+=1\n",
    "    i+=1\n",
    "print(count)\n",
    "    "
   ]
  },
  {
   "cell_type": "code",
   "execution_count": 2,
   "metadata": {},
   "outputs": [
    {
     "name": "stdout",
     "output_type": "stream",
     "text": [
      "6\n"
     ]
    }
   ],
   "source": [
    "#29.  WAP to sum of digits in a given string.\n",
    "st=123\n",
    "sum1=0\n",
    "while st:\n",
    "    ld=st%10\n",
    "    sum1+=ld\n",
    "    st=st//10\n",
    "print(sum1)\n"
   ]
  },
  {
   "cell_type": "code",
   "execution_count": 19,
   "metadata": {},
   "outputs": [
    {
     "name": "stdout",
     "output_type": "stream",
     "text": [
      "['h', 'e', 'l', 'o', 'w', 'r', 'd']\n"
     ]
    },
    {
     "ename": "KeyboardInterrupt",
     "evalue": "",
     "output_type": "error",
     "traceback": [
      "\u001b[1;31m---------------------------------------------------------------------------\u001b[0m",
      "\u001b[1;31mKeyboardInterrupt\u001b[0m                         Traceback (most recent call last)",
      "\u001b[1;32mc:\\Users\\SHAIK SHAHED\\Documents\\GitHub\\python_basics\\for_while_assignment.ipynb Cell 28\u001b[0m line \u001b[0;36m1\n\u001b[0;32m     <a href='vscode-notebook-cell:/c%3A/Users/SHAIK%20SHAHED/Documents/GitHub/python_basics/for_while_assignment.ipynb#X36sZmlsZQ%3D%3D?line=14'>15</a>\u001b[0m start\u001b[39m=\u001b[39m\u001b[39m0\u001b[39m\n\u001b[0;32m     <a href='vscode-notebook-cell:/c%3A/Users/SHAIK%20SHAHED/Documents/GitHub/python_basics/for_while_assignment.ipynb#X36sZmlsZQ%3D%3D?line=15'>16</a>\u001b[0m count\u001b[39m=\u001b[39m\u001b[39m0\u001b[39m\n\u001b[1;32m---> <a href='vscode-notebook-cell:/c%3A/Users/SHAIK%20SHAHED/Documents/GitHub/python_basics/for_while_assignment.ipynb#X36sZmlsZQ%3D%3D?line=16'>17</a>\u001b[0m \u001b[39mwhile\u001b[39;00m start\u001b[39m<\u001b[39m\u001b[39mlen\u001b[39m(st):\n\u001b[0;32m     <a href='vscode-notebook-cell:/c%3A/Users/SHAIK%20SHAHED/Documents/GitHub/python_basics/for_while_assignment.ipynb#X36sZmlsZQ%3D%3D?line=17'>18</a>\u001b[0m     \u001b[39mif\u001b[39;00m res[j]\u001b[39m==\u001b[39mst[start]:\n\u001b[0;32m     <a href='vscode-notebook-cell:/c%3A/Users/SHAIK%20SHAHED/Documents/GitHub/python_basics/for_while_assignment.ipynb#X36sZmlsZQ%3D%3D?line=18'>19</a>\u001b[0m         count\u001b[39m+\u001b[39m\u001b[39m=\u001b[39m\u001b[39m1\u001b[39m\n",
      "\u001b[1;31mKeyboardInterrupt\u001b[0m: "
     ]
    }
   ],
   "source": [
    "#30.  WAP to Print First Occurrence of a Character in a String.\n",
    "st='helloworld'\n",
    "d={}\n",
    "i=0\n",
    "while i<len(st):\n",
    "    if st[i] not in d:\n",
    "        d[st[i]]=1\n",
    "    else:\n",
    "        d[st[i]]+=1\n",
    "    i+=1\n",
    "res=list(d)\n",
    "print(res)\n",
    "j=0\n",
    "while j<len(res):\n",
    "    start=0\n",
    "    count=0\n",
    "    while start<len(st):\n",
    "        if res[j]==st[start]:\n",
    "            count+=1\n",
    "            if count==2:\n",
    "                break\n",
    "        start+=1\n",
    "print(res[j])\n",
    "j+=1\n",
    "\n"
   ]
  },
  {
   "cell_type": "code",
   "execution_count": null,
   "metadata": {},
   "outputs": [],
   "source": [
    "#31. WAP to Print Last Occurrence of a Character in a String."
   ]
  },
  {
   "cell_type": "code",
   "execution_count": 42,
   "metadata": {},
   "outputs": [
    {
     "name": "stdout",
     "output_type": "stream",
     "text": [
      "3\n",
      "10\n"
     ]
    }
   ],
   "source": [
    "#36.  WAP to count the occurrence of a specific character in a given string. \n",
    "st='helloworld'\n",
    "i=0\n",
    "ch='l'  \n",
    "count=0\n",
    "while i<len(st):\n",
    "    if st[i]==ch:\n",
    "        count+=1\n",
    "    i+=1\n",
    "print(count)\n",
    "\n",
    "#or\n",
    "\n",
    "s='helloworld'\n",
    "x='h'\n",
    "if type(s) in [str,list,tuple]:\n",
    "    c=0\n",
    "    for i in s:\n",
    "        if x in s:\n",
    "            c+=1\n",
    "print(c)"
   ]
  },
  {
   "cell_type": "code",
   "execution_count": 56,
   "metadata": {},
   "outputs": [
    {
     "name": "stdout",
     "output_type": "stream",
     "text": [
      "{'h': 1, 'e': 1, 'l': 3, 'o': 2, 'w': 1, 'r': 1, 'd': 1}\n",
      "l 3\n"
     ]
    }
   ],
   "source": [
    "#37.  WAP to count the max occurrence of a character in a given string.  \n",
    "st='helloworld'\n",
    "d={}\n",
    "for i in st:\n",
    "    if i not in d:\n",
    "        d[i]=1\n",
    "    else:\n",
    "        d[i]+=1\n",
    "print(d)\n",
    "ch=None\n",
    "max=0\n",
    "for i in d:\n",
    "    if max<d[i]:\n",
    "        max=d[i]\n",
    "        ch=i\n",
    "print(ch,max)"
   ]
  },
  {
   "cell_type": "code",
   "execution_count": 61,
   "metadata": {},
   "outputs": [
    {
     "name": "stdout",
     "output_type": "stream",
     "text": [
      "{'h': 1, 'e': 1, 'l': 3, 'o': 2, 'w': 1, 'r': 1, 'd': 1}\n",
      "h 1\n",
      "{'h': 1, 'e': 1, 'l': 3, 'o': 2, 'w': 1, 'r': 1, 'd': 1}\n",
      "[['e', 1], ['w', 1], ['r', 1], ['d', 1], ['h', 1]]\n"
     ]
    }
   ],
   "source": [
    "#38. WAP to count the min occurrence of a character in a given string. \n",
    "st='helloworld'\n",
    "d={}\n",
    "for i in st:\n",
    "    if i not in d:\n",
    "        d[i]=1\n",
    "    else:\n",
    "        d[i]+=1\n",
    "print(d)\n",
    "min=len(st)\n",
    "ch=None\n",
    "for i in d:\n",
    "    if min>d[i]:\n",
    "        min=d[i]\n",
    "        ch=i\n",
    "print(ch,min)\n",
    "\n",
    "#or\n",
    "st='helloworld'\n",
    "d={}\n",
    "for i in st:\n",
    "    if i not in d:\n",
    "        d[i]=1\n",
    "    else:\n",
    "        d[i]+=1\n",
    "print(d)\n",
    "u=[]\n",
    "min=len(st)\n",
    "ch=None\n",
    "for i in d:\n",
    "    if min>d[i]:\n",
    "        min=d[i]\n",
    "        ch=i\n",
    "    elif min==d[i]:\n",
    "        u+=[[i,d[i]]]\n",
    "u+=[[ch,min]]\n",
    "# print(ch,min)\n",
    "print(u)\n"
   ]
  },
  {
   "cell_type": "code",
   "execution_count": 44,
   "metadata": {},
   "outputs": [
    {
     "name": "stdout",
     "output_type": "stream",
     "text": [
      "4\n"
     ]
    }
   ],
   "source": [
    "#39. WAP to count the repeats of a specific character in a given string.\n",
    "st='malayalam'\n",
    "ch='a'\n",
    "count=0\n",
    "for i in st:\n",
    "    if i==ch:\n",
    "        count+=1\n",
    "print(count)"
   ]
  },
  {
   "cell_type": "code",
   "execution_count": 41,
   "metadata": {},
   "outputs": [
    {
     "name": "stdout",
     "output_type": "stream",
     "text": [
      "mxlxyxlxm\n"
     ]
    }
   ],
   "source": [
    "#42.  WAP to replace a specific character into a new character. \n",
    "st='malayalam'\n",
    "ch='a'\n",
    "res=''\n",
    "for i in st:\n",
    "    if i==ch:\n",
    "        res+='x'\n",
    "    else:\n",
    "        res+=i\n",
    "print(res)"
   ]
  },
  {
   "cell_type": "code",
   "execution_count": 3,
   "metadata": {},
   "outputs": [
    {
     "name": "stdout",
     "output_type": "stream",
     "text": [
      "HELLO@12WORLD\n"
     ]
    }
   ],
   "source": [
    "#43.  WAP to convert lowercase to uppercase in a given string. \n",
    "st='hello@12WORLD' \n",
    "res=''\n",
    "for i in st:\n",
    "    if 'a'<=i<='z':\n",
    "        res+=chr(ord(i)-32)\n",
    "    else:\n",
    "        res+=i\n",
    "print(res)\n"
   ]
  },
  {
   "cell_type": "code",
   "execution_count": 5,
   "metadata": {},
   "outputs": [
    {
     "name": "stdout",
     "output_type": "stream",
     "text": [
      "hello@12world\n"
     ]
    }
   ],
   "source": [
    "#44.  WAP to convert lowercase to uppercase in a given string.\n",
    "st='hello@12WORLD' \n",
    "res=''\n",
    "for i in st:\n",
    "    if 'A'<=i<='Z':\n",
    "        res+=chr(ord(i)+32)\n",
    "    else:\n",
    "        res+=i\n",
    "print(res)"
   ]
  },
  {
   "cell_type": "code",
   "execution_count": 37,
   "metadata": {},
   "outputs": [
    {
     "name": "stdout",
     "output_type": "stream",
     "text": [
      "hElLoWoRlD12eRdf#$\n"
     ]
    }
   ],
   "source": [
    "#45.  WAP to convert uppercase to lowercase in even position characters in a given string.\n",
    "st='HELLOWORLD12ERdf#$'\n",
    "res=''\n",
    "for i in range(0,len(st)):\n",
    "    if i%2==0 :\n",
    "        if 'A'<=st[i]<='Z':\n",
    "            res+=chr(ord(st[i])+32)\n",
    "        else:\n",
    "            res+=st[i]\n",
    "    else:\n",
    "        res+=st[i]\n",
    "print(res)\n",
    "    "
   ]
  },
  {
   "cell_type": "code",
   "execution_count": 14,
   "metadata": {},
   "outputs": [
    {
     "name": "stdout",
     "output_type": "stream",
     "text": [
      "elwrd2rf$\n"
     ]
    }
   ],
   "source": [
    "#46.  WAP to convert uppercase to lowercase in odd position characters in a given string.\n",
    "st='HELLOWORLD12ERdf#$'\n",
    "res=''\n",
    "for i in range(1,len(st),2):\n",
    "    if i%2!=0 :\n",
    "        if 'A'<=st[i]<='Z':\n",
    "            res+=chr(ord(st[i])+32)\n",
    "        else:\n",
    "            res+=st[i]\n",
    "    else:\n",
    "        res+=st[i]\n",
    "print(res)"
   ]
  },
  {
   "cell_type": "code",
   "execution_count": 17,
   "metadata": {},
   "outputs": [
    {
     "name": "stdout",
     "output_type": "stream",
     "text": [
      "helloWORLD12erDF**\n"
     ]
    }
   ],
   "source": [
    "''' 47. WAP to convert the uppercase letter to lowercase letter and lowercase \n",
    "    letter to uppercase letter,if the character is special symbol replace \n",
    "    with * for the given input string.'''\n",
    "st='HELLOworld12ERdf#$'\n",
    "res=''\n",
    "for i in st:\n",
    "    if 'a'<=i<='z':\n",
    "        res+=chr(ord(i)-32)\n",
    "    elif 'A'<=i<='Z':\n",
    "        res+=chr(ord(i)+32)\n",
    "    elif not('a'<=i<='z' or 'A'<=i<='Z' or '0'<=i<='9'):\n",
    "        res+='*'\n",
    "    else:\n",
    "        res+=i\n",
    "print(res)\n"
   ]
  },
  {
   "cell_type": "code",
   "execution_count": 23,
   "metadata": {},
   "outputs": [
    {
     "name": "stdout",
     "output_type": "stream",
     "text": [
      "HHHHHHHHHHHHHHH\n"
     ]
    }
   ],
   "source": [
    "#48.  WAP to convert title case in a given string.\n",
    "st='hello world hai'\n",
    "res=''\n",
    "for i in range(0,len(st)):\n",
    "    if 'A'<=st[0]<='Z':\n",
    "        res+=st[0]\n",
    "    elif 'a'<=st[0]<='z':\n",
    "        res+=chr(ord(st[0])-32)\n",
    "print(res)"
   ]
  },
  {
   "cell_type": "code",
   "execution_count": 41,
   "metadata": {},
   "outputs": [
    {
     "name": "stdout",
     "output_type": "stream",
     "text": [
      "elwrd\n"
     ]
    }
   ],
   "source": [
    "#57.  WAP to Remove even position Characters in a given String. \n",
    "s='helloworld'\n",
    "res=''\n",
    "for i in range(0,len(st)):\n",
    "    if i%2!=0:\n",
    "        res+=st[i]\n",
    "print(res)\n",
    "    \n"
   ]
  },
  {
   "cell_type": "code",
   "execution_count": 42,
   "metadata": {},
   "outputs": [
    {
     "name": "stdout",
     "output_type": "stream",
     "text": [
      "1234#@!97\n"
     ]
    }
   ],
   "source": [
    "#58.  WAP to Remove alphabets  in a given String.\n",
    "st='h1el23SF4#@!RG97'\n",
    "res=''\n",
    "for i in st:\n",
    "    if not('a'<=i<='z' or 'A'<=i<='Z'):\n",
    "        res+=i\n",
    "print(res)"
   ]
  },
  {
   "cell_type": "code",
   "execution_count": 43,
   "metadata": {},
   "outputs": [
    {
     "name": "stdout",
     "output_type": "stream",
     "text": [
      "helSF#@!RG\n"
     ]
    }
   ],
   "source": [
    "#59. WAP to Remove ascii numbers  in a given String. \n",
    "st='h1el23SF4#@!RG97'\n",
    "res=''\n",
    "for i in st:\n",
    "    if not('0'<=i<='9'):\n",
    "        res+=i\n",
    "print(res)"
   ]
  },
  {
   "cell_type": "code",
   "execution_count": 44,
   "metadata": {},
   "outputs": [
    {
     "name": "stdout",
     "output_type": "stream",
     "text": [
      "h1el23SF4RG97\n"
     ]
    }
   ],
   "source": [
    "#60.  WAP to Remove special characters in a given String. \n",
    "st='h1el23SF4#@!RG97'\n",
    "res=''\n",
    "for i in st:\n",
    "    if 'a'<=i<='z' or 'A'<=i<='Z' or '0'<=i<='9':\n",
    "        res+=i\n",
    "print(res)"
   ]
  },
  {
   "cell_type": "code",
   "execution_count": 61,
   "metadata": {},
   "outputs": [
    {
     "name": "stdout",
     "output_type": "stream",
     "text": [
      "palindrome\n",
      "palindrome\n"
     ]
    }
   ],
   "source": [
    "#61. WAP to check if the given string is Palindrome or Not. \n",
    "st='madam'\n",
    "rev=''\n",
    "for i in st:\n",
    "    rev=i+rev\n",
    "if rev==st:\n",
    "    print('palindrome')\n",
    "else:\n",
    "    print('Not a palindrome')\n",
    "\n",
    "#or\n",
    "if st[0:]==st[::-1]:\n",
    "    print('palindrome')\n",
    "else:\n",
    "    print('Not a palindrome')"
   ]
  },
  {
   "cell_type": "code",
   "execution_count": 36,
   "metadata": {},
   "outputs": [
    {
     "name": "stdout",
     "output_type": "stream",
     "text": [
      "string is in lowercase\n",
      "string is in lowercase\n",
      "string is in lowercase\n",
      "string is in lowercase\n",
      "string is in lowercase\n",
      "lowercase\n"
     ]
    }
   ],
   "source": [
    "#62.  WAP to check whether the given string is lowercase or not.\n",
    "st='hello'\n",
    "for i in st:\n",
    "    if 'a'<=i<='z':\n",
    "        print('string is in lowercase')\n",
    "    else:\n",
    "        print('string is not in lowercase')\n",
    "st='hello'\n",
    "if st.islower():\n",
    "    print('lowercase')\n",
    "else:\n",
    "    print('not a lowercase')"
   ]
  },
  {
   "cell_type": "code",
   "execution_count": 79,
   "metadata": {},
   "outputs": [
    {
     "name": "stdout",
     "output_type": "stream",
     "text": [
      "Not a string\n"
     ]
    }
   ],
   "source": [
    "#63. WAP to check whether the given number is string or not.\n",
    "st=121\n",
    "if type(st)==str:\n",
    "    print('it is a string')\n",
    "else:\n",
    "    print('Not a string') "
   ]
  },
  {
   "cell_type": "code",
   "execution_count": 81,
   "metadata": {},
   "outputs": [
    {
     "name": "stdout",
     "output_type": "stream",
     "text": [
      "eoo123aii\n"
     ]
    }
   ],
   "source": [
    "#64.  I/p: ‘hello world 123 haii’ \n",
    "#      o/p:’eoo123aii’\n",
    "#logic = only vowels and numbers are printing.\n",
    "st='hello world 123 haii'\n",
    "res=''\n",
    "for i in st:\n",
    "    if i in ('AEIOUaeiou'):\n",
    "        res+=i\n",
    "    elif '0'<=i<='9':\n",
    "        res+=i\n",
    "print(res)"
   ]
  },
  {
   "cell_type": "code",
   "execution_count": 82,
   "metadata": {},
   "outputs": [
    {
     "name": "stdout",
     "output_type": "stream",
     "text": [
      "eo o  aii\n"
     ]
    }
   ],
   "source": [
    "#65.  I/p: ‘hello world 123 haii’ \n",
    "#     o/p:’eo o  aii’\n",
    "#logic = only vowels are printing in every word including space\n",
    "st='hello world 123 haii'\n",
    "res=''\n",
    "for i in st:\n",
    "    if i in 'aeiouAEIOU':\n",
    "        res+=i\n",
    "    elif i==' ':\n",
    "        res+=' '\n",
    "print(res)"
   ]
  },
  {
   "cell_type": "code",
   "execution_count": 85,
   "metadata": {},
   "outputs": [
    {
     "name": "stdout",
     "output_type": "stream",
     "text": [
      "hll wrld\n",
      "eoo\n"
     ]
    }
   ],
   "source": [
    "#68.  i/p:’hello world’ \n",
    "#     o/p:’hll wrld’ \n",
    "#     o/p:’eoo’ \n",
    "#logic = 1. delete e and o and print remaining string, 2. delete remaining string except e and o \n",
    "st='hello world'\n",
    "res1=''\n",
    "res2=''\n",
    "for i in st:\n",
    "    if i not in ('e','o'):\n",
    "        res1+=i\n",
    "    elif i in ('e','o'):\n",
    "        res2+=i\n",
    "print(res1)\n",
    "print(res2)"
   ]
  },
  {
   "cell_type": "code",
   "execution_count": 86,
   "metadata": {},
   "outputs": [
    {
     "name": "stdout",
     "output_type": "stream",
     "text": [
      "hll wrld\n",
      "eoo\n",
      "12344\n"
     ]
    }
   ],
   "source": [
    "#69. i/p:’12hello3 4world4’ \n",
    "#    o/p:’hll wrld’ \n",
    "#    o/p:’eoo’ \n",
    "#    o/p:’12344’ \n",
    "#logic = 1. delete e and o and print remaining string, 2. delete remaining string except e and o  3. print only numbers\n",
    "st='12hello3 4world4'\n",
    "res1=''\n",
    "res2=''\n",
    "res3=''\n",
    "for i in st:\n",
    "    if i not in ('e','o') and not('0'<=i<='9'):\n",
    "        res1+=i\n",
    "    elif i in ('e','o') and not('0'<=i<='9'):\n",
    "        res2+=i\n",
    "    elif '0'<=i<='9':\n",
    "        res3+=i\n",
    "print(res1)\n",
    "print(res2)\n",
    "print(res3)"
   ]
  },
  {
   "cell_type": "code",
   "execution_count": 177,
   "metadata": {},
   "outputs": [
    {
     "name": "stdout",
     "output_type": "stream",
     "text": [
      "hllwrld\n",
      "eoo\n",
      "12344\n",
      "(*$ $#*)\n"
     ]
    }
   ],
   "source": [
    "#70. i/p:’(*12hello3$ $4#world4*)’ \n",
    "st=\"(*12hello3$ $4#world4*)\"\n",
    "res1=''\n",
    "res2=''\n",
    "res3=''\n",
    "res4=''\n",
    "for i in st:\n",
    "    if i not in ('e','o') and not('0'<=i<='9') and ('a'<=i<='z' or 'A'<=i<='Z' or '0'<=i<='9'):\n",
    "        res1+=i\n",
    "    elif i in ('e','o'):\n",
    "        res2+=i\n",
    "    elif '0'<=i<='9':\n",
    "        res3+=i\n",
    "    elif not('a'<=i<='z' or 'A'<=i<='Z' or '0'<=i<='9'):\n",
    "        res4+=i\n",
    "print(res1)\n",
    "print(res2)\n",
    "print(res3)\n",
    "print(res4)"
   ]
  },
  {
   "cell_type": "code",
   "execution_count": 31,
   "metadata": {},
   "outputs": [
    {
     "name": "stdout",
     "output_type": "stream",
     "text": [
      ")*#$ $*(,44321,ooe,dlrwllh\n",
      ")*#$ $*(,44321,ooe,dlrwllh\n"
     ]
    }
   ],
   "source": [
    "#71. i/p: ’(*12hello3$ $4#world4*)’\n",
    "#    o/p: ')*#$ $*(,44321,ooe,dlrwllh'\n",
    "st=\"(*12hello3$ $4#world4*)\"\n",
    "a,b,c,d,res1,res2,res3,res4='','','','','','','',''\n",
    "for i in st:\n",
    "    if not('a'<=i<='z' or 'A'<=i<='Z' or '0'<=i<='9'):\n",
    "        a+=i\n",
    "        res1=a[::-1]\n",
    "    elif '0'<=i<='9':\n",
    "        b+=i\n",
    "        res2=b[::-1]\n",
    "    elif i in ('o','e'):\n",
    "        c+=i\n",
    "        res3=c[::-1]\n",
    "    else:\n",
    "        d+=i\n",
    "        res4=d[::-1]\n",
    "print(res1+','+res2+','+res3+','+res4)\n",
    "print(\")*#$ $*(,44321,ooe,dlrwllh\")"
   ]
  },
  {
   "cell_type": "code",
   "execution_count": 30,
   "metadata": {},
   "outputs": [
    {
     "name": "stdout",
     "output_type": "stream",
     "text": [
      "hllwrld,eoo,12344,(*$ $#*)\n",
      "hllwrld,eoo,12344,(*$ $#*)\n"
     ]
    }
   ],
   "source": [
    "#72.  i/p:’(*12hello3$ $4#world4*)’ \n",
    "#     o/p:’hllwrld,eoo,12344,(*$ $#*)’ \n",
    "st=\"(*12hello3$ $4#world4*)\"\n",
    "res1,res2,res3,res4='','','',''\n",
    "for i in st:\n",
    "    if i not in ('e','o') and not('0'<=i<='9') and ('a'<=i<='z' or 'A'<=i<='Z' or '0'<=i<='9'):\n",
    "        res1+=i\n",
    "    elif i in ('e','o'):\n",
    "        res2+=i\n",
    "    elif '0'<=i<='9':\n",
    "        res3+=i\n",
    "    else:\n",
    "        res4+=i\n",
    "print(res1+','+res2+','+res3+','+res4)\n",
    "print(\"hllwrld,eoo,12344,(*$ $#*)\")\n"
   ]
  },
  {
   "cell_type": "code",
   "execution_count": 33,
   "metadata": {},
   "outputs": [
    {
     "name": "stdout",
     "output_type": "stream",
     "text": [
      ",hllwrld,)*#$ $*(,eoo,44321\n",
      ",hllwrld,)*#$ $*(’,eoo,44321\n"
     ]
    }
   ],
   "source": [
    "#73.  i/p: ’(*12hello3$ $4#world4*)’\n",
    "#    o/p:’,hllwrld,)*#$ $*(’,eoo,44321’\n",
    "st=\"(*12hello3$ $4#world4*)\"\n",
    "res1,res2,res3,res4='','','',''\n",
    "a,b='',''\n",
    "for i in st:\n",
    "    if i not in ('e','o') and not('0'<=i<='9') and ('a'<=i<='z' or 'A'<=i<='Z' or '0'<=i<='9'):\n",
    "        res1+=i\n",
    "    elif not('a'<=i<='z' or 'A'<=i<='Z' or '0'<=i<='9'):\n",
    "        a+=i\n",
    "        res2=a[::-1]\n",
    "    elif i in ('e','o'):\n",
    "        res3+=i\n",
    "    else:\n",
    "        b+=i\n",
    "        res4=b[::-1]\n",
    "print(','+res1+','+res2+','+res3+','+res4)\n",
    "print(\",hllwrld,)*#$ $*(’,eoo,44321\")"
   ]
  },
  {
   "cell_type": "code",
   "execution_count": 29,
   "metadata": {},
   "outputs": [
    {
     "name": "stdout",
     "output_type": "stream",
     "text": [
      ")*#$ $*(,44321,ooe,dlrwllh\n",
      ")*#$ $*(,44321,ooe,dlrwllh\n"
     ]
    }
   ],
   "source": [
    "#74. i/p: ’(*12hello3$ $4#world4*)’\n",
    "#    o/p: ')*#$ $*(,44321,ooe,dlrwllh'\n",
    "st=\"(*12hello3$ $4#world4*)\"\n",
    "a,b,c,d,res1,res2,res3,res4='','','','','','','',''\n",
    "for i in st:\n",
    "    if not('a'<=i<='z' or 'A'<=i<='Z' or '0'<=i<='9'):\n",
    "        a+=i\n",
    "        res1=a[::-1]\n",
    "    elif '0'<=i<='9':\n",
    "        b+=i\n",
    "        res2=b[::-1]\n",
    "    elif i in ('o','e'):\n",
    "        c+=i\n",
    "        res3=c[::-1]\n",
    "    else:\n",
    "        d+=i\n",
    "        res4=d[::-1]\n",
    "print(res1+','+res2+','+res3+','+res4)\n",
    "print(\")*#$ $*(,44321,ooe,dlrwllh\")"
   ]
  },
  {
   "cell_type": "code",
   "execution_count": 23,
   "metadata": {},
   "outputs": [
    {
     "name": "stdout",
     "output_type": "stream",
     "text": [
      "dlrwllh)*#$ $*(ooe44321\n",
      "dlrwllh)*#$ $*(ooe44321\n"
     ]
    }
   ],
   "source": [
    "#75.  i/p: ’(*12hello3$ $4#world4*)’\n",
    "#     o/p: ’dlrwllh)*#$ $*(ooe44321’\n",
    "st=\"(*12hello3$ $4#world4*)\"\n",
    "res1,res2,res3,res4=\"\",\"\",\"\",\"\" \n",
    "a,b,c,d='','','',''\n",
    "for i in st:\n",
    "    if i not in ('e','o')  and not('0'<=i<='9') and ('a'<=i<='z' or 'A'<=i<='Z' or '0'<=i<='9'):\n",
    "        a+=i\n",
    "        res1=a[::-1]\n",
    "    elif not('a'<=i<='z' or 'A'<=i<='Z' or '0'<=i<='9'):\n",
    "        b+=i\n",
    "        res2=b[::-1]\n",
    "    elif i in ('e','o'):\n",
    "        c+=i\n",
    "        res3=c[::-1]\n",
    "    else:\n",
    "        d+=i\n",
    "        res4=d[::-1]\n",
    "print(res1,res2,res3,res4)\n",
    "print(\"dlrwllh)*#$ $*(ooe44321\")\n"
   ]
  },
  {
   "cell_type": "code",
   "execution_count": 18,
   "metadata": {},
   "outputs": [
    {
     "name": "stdout",
     "output_type": "stream",
     "text": [
      "h*ll*w*rld\n"
     ]
    }
   ],
   "source": [
    "#76.\n",
    "st='HELLOWORLD'\n",
    "res=''\n",
    "for i in st:\n",
    "    if 'A'<=i<='Z':\n",
    "        if i in 'AEIOUaeiou':\n",
    "            res+='*'\n",
    "        else:\n",
    "            res+=chr(ord(i)+32)\n",
    "    else:\n",
    "        res+=i\n",
    "print(res)"
   ]
  },
  {
   "cell_type": "code",
   "execution_count": 55,
   "metadata": {},
   "outputs": [
    {
     "name": "stdout",
     "output_type": "stream",
     "text": [
      "helloworld123456\n"
     ]
    }
   ],
   "source": [
    "#77.\n",
    "st=\"123HELLO WORLD456\"\n",
    "res=''\n",
    "a=''\n",
    "for i in range(0,len(st)):\n",
    "    if 'A'<=st[i]<='Z':\n",
    "        res+=chr(ord(st[i])+32)\n",
    "    elif '0'<=st[i]<='9':\n",
    "        a+=st[i]\n",
    "print(res+a)"
   ]
  },
  {
   "cell_type": "code",
   "execution_count": null,
   "metadata": {},
   "outputs": [],
   "source": [
    "st='123456'\n",
    "sum1=0\n"
   ]
  }
 ],
 "metadata": {
  "kernelspec": {
   "display_name": "Python 3",
   "language": "python",
   "name": "python3"
  },
  "language_info": {
   "codemirror_mode": {
    "name": "ipython",
    "version": 3
   },
   "file_extension": ".py",
   "mimetype": "text/x-python",
   "name": "python",
   "nbconvert_exporter": "python",
   "pygments_lexer": "ipython3",
   "version": "3.11.4"
  },
  "orig_nbformat": 4
 },
 "nbformat": 4,
 "nbformat_minor": 2
}
