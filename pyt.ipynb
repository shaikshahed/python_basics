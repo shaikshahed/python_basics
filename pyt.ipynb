{
 "cells": [
  {
   "cell_type": "code",
   "execution_count": null,
   "metadata": {},
   "outputs": [],
   "source": [
    "a={b:10,c:30,d:40}\n",
    "a[c]=100\n",
    "print(a)"
   ]
  },
  {
   "cell_type": "code",
   "execution_count": 3,
   "metadata": {},
   "outputs": [
    {
     "name": "stdout",
     "output_type": "stream",
     "text": [
      "{'b': 10, 'c': 100, 'd': 40}\n"
     ]
    }
   ],
   "source": [
    "a={'b':10,'c':30,'d':40}\n",
    "a['c']=100\n",
    "print(a)"
   ]
  },
  {
   "cell_type": "code",
   "execution_count": 3,
   "metadata": {},
   "outputs": [
    {
     "data": {
      "text/plain": [
       "'str'"
      ]
     },
     "execution_count": 3,
     "metadata": {},
     "output_type": "execute_result"
    }
   ],
   "source": [
    "([5*2,2**2] or ('str'<'Pys')) and ({10,20} and 'str')"
   ]
  },
  {
   "cell_type": "code",
   "execution_count": 5,
   "metadata": {},
   "outputs": [
    {
     "data": {
      "text/plain": [
       "[10, 4]"
      ]
     },
     "execution_count": 5,
     "metadata": {},
     "output_type": "execute_result"
    }
   ],
   "source": [
    "([5*2,2**2] or ('str'<'Pys'))"
   ]
  },
  {
   "cell_type": "code",
   "execution_count": 6,
   "metadata": {},
   "outputs": [
    {
     "data": {
      "text/plain": [
       "'str'"
      ]
     },
     "execution_count": 6,
     "metadata": {},
     "output_type": "execute_result"
    }
   ],
   "source": [
    "[10, 4] and 'str'"
   ]
  },
  {
   "cell_type": "code",
   "execution_count": 12,
   "metadata": {},
   "outputs": [
    {
     "name": "stdout",
     "output_type": "stream",
     "text": [
      "[115, 'pys', {'A': 14, (10,): {10, 50}}, (15, 625), [15.06, 80]]\n",
      "[115, 'pys', {'A': 14, (10,): {10, 50}}, (15, 625), [15.06, 80]]\n"
     ]
    },
    {
     "ename": "TypeError",
     "evalue": "can only concatenate tuple (not \"int\") to tuple",
     "output_type": "error",
     "traceback": [
      "\u001b[1;31m---------------------------------------------------------------------------\u001b[0m",
      "\u001b[1;31mTypeError\u001b[0m                                 Traceback (most recent call last)",
      "Cell \u001b[1;32mIn[12], line 7\u001b[0m\n\u001b[0;32m      5\u001b[0m x[\u001b[39m2\u001b[39m][(\u001b[39m10\u001b[39m,)]\u001b[39m|\u001b[39m\u001b[39m=\u001b[39m{\u001b[39m60\u001b[39m,\u001b[39m70\u001b[39m}\n\u001b[0;32m      6\u001b[0m y[\u001b[39m-\u001b[39m\u001b[39m1\u001b[39m]\u001b[39m+\u001b[39m\u001b[39m=\u001b[39m[\u001b[39m'\u001b[39m\u001b[39ma\u001b[39m\u001b[39m'\u001b[39m,\u001b[39m'\u001b[39m\u001b[39mb\u001b[39m\u001b[39m'\u001b[39m]\n\u001b[1;32m----> 7\u001b[0m y[\u001b[39m-\u001b[39;49m\u001b[39m2\u001b[39;49m][\u001b[39m-\u001b[39;49m\u001b[39m1\u001b[39;49m:\u001b[39m-\u001b[39;49m\u001b[39m3\u001b[39;49m]\u001b[39m+\u001b[39;49m(\u001b[39m50\u001b[39;49m)\n\u001b[0;32m      8\u001b[0m \u001b[39mprint\u001b[39m(x)\n",
      "\u001b[1;31mTypeError\u001b[0m: can only concatenate tuple (not \"int\") to tuple"
     ]
    }
   ],
   "source": [
    "x=[115,\"pys\",{'A':14,(10,):{10,50}},(15,625),[15.06,80]]\n",
    "y=x.copy()\n",
    "print(x)\n",
    "print(y)\n",
    "x[2][(10,)]|={60,70}\n",
    "y[-1]+=['a','b']\n",
    "y[-2][-1:-3]+(50)\n",
    "print(x)"
   ]
  },
  {
   "cell_type": "code",
   "execution_count": 14,
   "metadata": {},
   "outputs": [
    {
     "ename": "IndexError",
     "evalue": "tuple index out of range",
     "output_type": "error",
     "traceback": [
      "\u001b[1;31m---------------------------------------------------------------------------\u001b[0m",
      "\u001b[1;31mIndexError\u001b[0m                                Traceback (most recent call last)",
      "Cell \u001b[1;32mIn[14], line 1\u001b[0m\n\u001b[1;32m----> 1\u001b[0m ([\u001b[39m100\u001b[39m,\u001b[39m200\u001b[39m,\u001b[39m300\u001b[39m,\u001b[39m400\u001b[39m][\u001b[39m-\u001b[39m\u001b[39m1\u001b[39m]\u001b[39m/\u001b[39m\u001b[39m/\u001b[39m\u001b[39m10\u001b[39m \u001b[39mand\u001b[39;00m (\u001b[39m10\u001b[39;49m,\u001b[39m20\u001b[39;49m,\u001b[39m30\u001b[39;49m)[\u001b[39m-\u001b[39;49m\u001b[39m1\u001b[39;49m:\u001b[39m-\u001b[39;49m\u001b[39m3\u001b[39;49m][\u001b[39m0\u001b[39;49m]\u001b[39m*\u001b[39m\u001b[39m*\u001b[39m\u001b[39m2\u001b[39m) \u001b[39mor\u001b[39;00m (\u001b[39m'\u001b[39m\u001b[39mMan\u001b[39m\u001b[39m'\u001b[39m\u001b[39m<\u001b[39m\u001b[39m'\u001b[39m\u001b[39mWoman\u001b[39m\u001b[39m'\u001b[39m)\n",
      "\u001b[1;31mIndexError\u001b[0m: tuple index out of range"
     ]
    }
   ],
   "source": [
    "([100,200,300,400][-1]//10 and (10,20,30)[-1:-3][0]**2) or ('Man'<'Woman')"
   ]
  },
  {
   "cell_type": "code",
   "execution_count": 15,
   "metadata": {},
   "outputs": [
    {
     "ename": "IndexError",
     "evalue": "tuple index out of range",
     "output_type": "error",
     "traceback": [
      "\u001b[1;31m---------------------------------------------------------------------------\u001b[0m",
      "\u001b[1;31mIndexError\u001b[0m                                Traceback (most recent call last)",
      "Cell \u001b[1;32mIn[15], line 1\u001b[0m\n\u001b[1;32m----> 1\u001b[0m ((\u001b[39m10\u001b[39;49m,\u001b[39m20\u001b[39;49m,\u001b[39m30\u001b[39;49m)[\u001b[39m-\u001b[39;49m\u001b[39m1\u001b[39;49m:\u001b[39m-\u001b[39;49m\u001b[39m3\u001b[39;49m][\u001b[39m0\u001b[39;49m]\u001b[39m*\u001b[39m\u001b[39m*\u001b[39m\u001b[39m2\u001b[39m)\n",
      "\u001b[1;31mIndexError\u001b[0m: tuple index out of range"
     ]
    }
   ],
   "source": [
    "((10,20,30)[-1:-3][0]**2)"
   ]
  },
  {
   "cell_type": "code",
   "execution_count": 4,
   "metadata": {},
   "outputs": [
    {
     "data": {
      "text/plain": [
       "'str'"
      ]
     },
     "execution_count": 4,
     "metadata": {},
     "output_type": "execute_result"
    }
   ],
   "source": [
    "({10,20} and 'str')"
   ]
  },
  {
   "cell_type": "code",
   "execution_count": 32,
   "metadata": {},
   "outputs": [
    {
     "name": "stdout",
     "output_type": "stream",
     "text": [
      "('(65+9j)', '(55+7j)')\n"
     ]
    }
   ],
   "source": [
    "a=65+9j\n",
    "b=55+7j\n",
    "\n",
    "if(type(a)==type(b) and type(a)==list and type(b)==list):\n",
    "    a+=b\n",
    "    print(a)\n",
    "elif(type(a) ==dict and type(b)==dict):\n",
    "    a=b\n",
    "    print(a)\n",
    "elif(type(a)!=type(b)):\n",
    "    a+=b\n",
    "    print(a)\n",
    "elif(type(a) and type(b) in [int,float]):\n",
    "    print(a*b)\n",
    "elif(type(a) or type(b) in [bool,type(None)]):\n",
    "    c=(str(a),str(b))\n",
    "    print(c)\n",
    "elif(type(a) and type(b) in complex):\n",
    "    print(a,b)\n",
    "elif(type(a) or type(b) in bytes):\n",
    "    print(ord(a))\n"
   ]
  }
 ],
 "metadata": {
  "kernelspec": {
   "display_name": "Python 3",
   "language": "python",
   "name": "python3"
  },
  "language_info": {
   "codemirror_mode": {
    "name": "ipython",
    "version": 3
   },
   "file_extension": ".py",
   "mimetype": "text/x-python",
   "name": "python",
   "nbconvert_exporter": "python",
   "pygments_lexer": "ipython3",
   "version": "3.11.4"
  },
  "orig_nbformat": 4
 },
 "nbformat": 4,
 "nbformat_minor": 2
}
