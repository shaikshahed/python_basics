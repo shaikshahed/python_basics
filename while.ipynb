{
 "cells": [
  {
   "cell_type": "code",
   "execution_count": 1,
   "metadata": {},
   "outputs": [
    {
     "name": "stdout",
     "output_type": "stream",
     "text": [
      "4\n",
      "9\n",
      "6\n",
      "5\n",
      "1\n"
     ]
    }
   ],
   "source": [
    "#1. WAP TO EXTRACT EACH DIGIT FROM THE GIVEN NUMBER.\n",
    "n=15694\n",
    "while n:\n",
    "    var=n%10\n",
    "    print(var)\n",
    "    n=n//10"
   ]
  },
  {
   "cell_type": "code",
   "execution_count": 2,
   "metadata": {},
   "outputs": [
    {
     "name": "stdout",
     "output_type": "stream",
     "text": [
      "1\n",
      "5\n",
      "6\n",
      "9\n",
      "4\n"
     ]
    }
   ],
   "source": [
    "#2. WAP TO EXTRACT THE DIGITS FROM LEFT TO RIGHT BY USING TYPECASTING.\n",
    "n=15694\n",
    "n=str(n)\n",
    "i=0 \n",
    "while i<len(n):\n",
    "    print(n[i])\n",
    "    i+=1"
   ]
  },
  {
   "cell_type": "code",
   "execution_count": 3,
   "metadata": {},
   "outputs": [
    {
     "name": "stdout",
     "output_type": "stream",
     "text": [
      "1\n",
      "5\n",
      "6\n",
      "9\n",
      "4\n"
     ]
    }
   ],
   "source": [
    "#3. WAP TO EXTRACT THE DIGITS FROM RIGHT TO LEFT BY USING NEGATIVE SLICING.\n",
    "n=15694\n",
    "n=str(n)[::1]\n",
    "i=0 \n",
    "while i<len(n):\n",
    "    print(n[i])\n",
    "    i+=1"
   ]
  },
  {
   "cell_type": "code",
   "execution_count": 4,
   "metadata": {},
   "outputs": [
    {
     "name": "stdout",
     "output_type": "stream",
     "text": [
      "4\n",
      "9\n",
      "6\n",
      "5\n",
      "1\n"
     ]
    }
   ],
   "source": [
    "#4. WAP TO EXTRACT THE DIGITS FROM LEFT TO RIGHT BY USING NEGATIVE VALUES OR NEGATIVE INDEXING.\n",
    "n=15694\n",
    "n=str(n)\n",
    "i=-1\n",
    "while i>-(len(n)+1):\n",
    "    print(n[i])\n",
    "    i-=1"
   ]
  },
  {
   "cell_type": "code",
   "execution_count": 5,
   "metadata": {},
   "outputs": [
    {
     "name": "stdout",
     "output_type": "stream",
     "text": [
      "9\n"
     ]
    }
   ],
   "source": [
    "#5. WAP TO FIND OUT THE LARGEST DIGIT IN A GIVEN NUMBER.\n",
    "num=15694\n",
    "res=0 \n",
    "while num:\n",
    "    ld=num%10\n",
    "    if res<ld:\n",
    "        res=ld\n",
    "    num=num//10\n",
    "print(res)"
   ]
  },
  {
   "cell_type": "code",
   "execution_count": 6,
   "metadata": {},
   "outputs": [
    {
     "name": "stdout",
     "output_type": "stream",
     "text": [
      "1\n"
     ]
    }
   ],
   "source": [
    "#6. WAP TO FIND OUT THE SMALLEST DIGIT IN A GIVEN NUMBER.\n",
    "num=15694\n",
    "res=9 \n",
    "while num:\n",
    "    sd=num%10\n",
    "    if res>sd:\n",
    "        res=sd \n",
    "    num=num//10\n",
    "print(res)"
   ]
  },
  {
   "cell_type": "code",
   "execution_count": 7,
   "metadata": {},
   "outputs": [
    {
     "name": "stdout",
     "output_type": "stream",
     "text": [
      "6\n"
     ]
    }
   ],
   "source": [
    "#7. WAP TO FIND OUT THE EVEN LARGEST DIGIT IN GIVEN NUMBER.\n",
    "num=15694\n",
    "res=0 \n",
    "while num:\n",
    "    ed=num%10\n",
    "    if res<ed and ed%2==0:\n",
    "        res=ed\n",
    "    num=num//10\n",
    "print(res)"
   ]
  },
  {
   "cell_type": "code",
   "execution_count": 8,
   "metadata": {},
   "outputs": [
    {
     "name": "stdout",
     "output_type": "stream",
     "text": [
      "25\n"
     ]
    }
   ],
   "source": [
    "#8. WAP TO FIND SUM OF ALL THE DIGITS IN GIVEN NUMBER.\n",
    "num=15694\n",
    "res=0 \n",
    "while num:\n",
    "    su=num%10\n",
    "    res+=su\n",
    "    num=num//10\n",
    "print(res)"
   ]
  },
  {
   "cell_type": "code",
   "execution_count": 9,
   "metadata": {},
   "outputs": [
    {
     "name": "stdout",
     "output_type": "stream",
     "text": [
      "1080\n"
     ]
    }
   ],
   "source": [
    "#9. WAP TO FIND OUT THE PRODUCT OF ALL THE DIGITS IN A GIVEN NUMBER.\n",
    "num=15694\n",
    "res=1 \n",
    "while num:\n",
    "    pr=num%10\n",
    "    res*=pr\n",
    "    num=num//10\n",
    "print(res)"
   ]
  },
  {
   "cell_type": "code",
   "execution_count": 10,
   "metadata": {},
   "outputs": [
    {
     "name": "stdout",
     "output_type": "stream",
     "text": [
      "-17\n"
     ]
    }
   ],
   "source": [
    "#10. WAP TO FIND OUT THE DIFFERENCE VALUES FROM GIVEN NUMBER(FROM RIGHT TO LEFT).\n",
    "num=15694\n",
    "res=num%10\n",
    "num=num//10\n",
    "while num:\n",
    "    df=num%10\n",
    "    res-=df\n",
    "    num=num//10\n",
    "print(res)"
   ]
  },
  {
   "cell_type": "code",
   "execution_count": 11,
   "metadata": {},
   "outputs": [
    {
     "name": "stdout",
     "output_type": "stream",
     "text": [
      "-23\n"
     ]
    }
   ],
   "source": [
    "#11. WAP TO FIND OUT THE DIFFERENCE OF VALUES FROM GIVEN NUMBER(FROM LEFT TO RIGHT).\n",
    "num=15694\n",
    "temp=str(num)\n",
    "res=int(temp[0])\n",
    "i=1 \n",
    "while i<len(temp):\n",
    "    res-=int(temp[i])\n",
    "    i+=1 \n",
    "print(res)"
   ]
  },
  {
   "cell_type": "code",
   "execution_count": 12,
   "metadata": {},
   "outputs": [
    {
     "name": "stdout",
     "output_type": "stream",
     "text": [
      "4\n",
      "6\n"
     ]
    }
   ],
   "source": [
    "#12. WAP TO EXTRACT EVEN DIGITS FROM GIVEN NUMBER.\n",
    "num=15694\n",
    "while num:\n",
    "    ed=num%10\n",
    "    if ed%2==0:\n",
    "        print(ed)\n",
    "    num=num//10"
   ]
  },
  {
   "cell_type": "code",
   "execution_count": 13,
   "metadata": {},
   "outputs": [
    {
     "name": "stdout",
     "output_type": "stream",
     "text": [
      "9\n",
      "5\n",
      "1\n"
     ]
    }
   ],
   "source": [
    "#13. WAP TO EXTRACT SUM OF ODD DIGITS IN GIVEN NUMBER.\n",
    "num=15694\n",
    "res=0\n",
    "while num:\n",
    "    su=num%10\n",
    "    if su%2!=0:\n",
    "        print(su)\n",
    "    num=num//10"
   ]
  },
  {
   "cell_type": "code",
   "execution_count": 18,
   "metadata": {},
   "outputs": [
    {
     "name": "stdout",
     "output_type": "stream",
     "text": [
      "10\n",
      "11\n",
      "12\n",
      "13\n",
      "14\n",
      "15\n",
      "16\n",
      "17\n",
      "18\n",
      "19\n",
      "20\n",
      "15\n",
      "16\n",
      "17\n",
      "18\n",
      "19\n",
      "20\n",
      "21\n",
      "22\n",
      "23\n",
      "24\n",
      "25\n",
      "26\n",
      "27\n",
      "28\n",
      "29\n",
      "30\n"
     ]
    }
   ],
   "source": [
    "#14. WAP TO GENERATE THE SEQUENCE OF VALUES FROM M TO N.\n",
    "m=10\n",
    "n=20\n",
    "while m<=n:\n",
    "        print(m)\n",
    "        m+=1\n",
    "\n",
    "#IF M IS GREATER AND N IS SMALLER\n",
    "m=30\n",
    "n=15 \n",
    "if m>n:\n",
    "    m,n=n,m \n",
    "while m<=n:\n",
    "    print(m)\n",
    "    m+=1"
   ]
  },
  {
   "cell_type": "code",
   "execution_count": 19,
   "metadata": {},
   "outputs": [
    {
     "name": "stdout",
     "output_type": "stream",
     "text": [
      "1\n",
      "2\n",
      "3\n",
      "4\n",
      "5\n",
      "6\n",
      "7\n",
      "8\n",
      "9\n",
      "10\n",
      "11\n",
      "12\n",
      "13\n",
      "14\n",
      "15\n",
      "16\n",
      "17\n",
      "18\n",
      "19\n",
      "20\n"
     ]
    }
   ],
   "source": [
    "#15. WAP TO GENERATE THE SEQUENCE OF VALUES FROM 1 TO N.\n",
    "m=1 \n",
    "n=20 \n",
    "while m<=n:\n",
    "    print(m)\n",
    "    m+=1"
   ]
  },
  {
   "cell_type": "code",
   "execution_count": 20,
   "metadata": {},
   "outputs": [
    {
     "name": "stdout",
     "output_type": "stream",
     "text": [
      "10\n"
     ]
    }
   ],
   "source": [
    "#16. WAP TO PRINT SUM OF DIGITS FROM 1 TO N. \n",
    "m=1 \n",
    "n=5 \n",
    "s=0\n",
    "while m<n:\n",
    "    s+=m \n",
    "    m+=1 \n",
    "print(s)"
   ]
  },
  {
   "cell_type": "code",
   "execution_count": 21,
   "metadata": {},
   "outputs": [
    {
     "name": "stdout",
     "output_type": "stream",
     "text": [
      "120\n"
     ]
    }
   ],
   "source": [
    "#17. WAP TO FIND PRODUCT OF ALL THE DIGITS FROM 1 TO N.\n",
    "                #OR \n",
    "#WAP TO FIND OUT FACTORIAL OF GIVEN NUMBER.\n",
    "m=1 \n",
    "n=5 \n",
    "pr=1 \n",
    "while m<=n:\n",
    "    pr*=m \n",
    "    m+=1 \n",
    "print(pr)"
   ]
  },
  {
   "cell_type": "code",
   "execution_count": 22,
   "metadata": {},
   "outputs": [
    {
     "name": "stdout",
     "output_type": "stream",
     "text": [
      "2\n",
      "prime\n"
     ]
    }
   ],
   "source": [
    "#18. WAP TO FIND OUT THE GIVEN NUMBER IS A PRIME NUMBER.\n",
    "m=1 \n",
    "n=5\n",
    "count=0 \n",
    "while m<=n:\n",
    "    if n%m==0:\n",
    "        count+=1 \n",
    "    m+=1\n",
    "print(count)\n",
    "if count==2:\n",
    "    print('prime')\n",
    "else:\n",
    "    print('not a prime')"
   ]
  },
  {
   "cell_type": "code",
   "execution_count": 23,
   "metadata": {},
   "outputs": [
    {
     "name": "stdout",
     "output_type": "stream",
     "text": [
      "1\n",
      "2\n",
      "3\n",
      "6\n"
     ]
    }
   ],
   "source": [
    "#19. WAP TO FIND OUT THE FACTORS OF THE GIVEN NUMBER.\n",
    "m=1 \n",
    "n=6 \n",
    "while m<=n:\n",
    "    if n%m==0:\n",
    "        print(m)\n",
    "    m+=1"
   ]
  },
  {
   "cell_type": "code",
   "execution_count": 24,
   "metadata": {},
   "outputs": [
    {
     "name": "stdout",
     "output_type": "stream",
     "text": [
      "4\n"
     ]
    }
   ],
   "source": [
    "#20. WAP TO COUNT THE NO.OF FACTORS IN GIVEN NUMBER.\n",
    "m=1 \n",
    "n=6 \n",
    "count=0 \n",
    "while m<=n:\n",
    "    if n%m==0:\n",
    "        count+=1 \n",
    "    m+=1 \n",
    "print(count)"
   ]
  },
  {
   "cell_type": "code",
   "execution_count": 25,
   "metadata": {},
   "outputs": [
    {
     "name": "stdout",
     "output_type": "stream",
     "text": [
      "12\n"
     ]
    }
   ],
   "source": [
    "#21. WAP TO PRINT SUM OF FACTORS IN GIVEN NUMBER.\n",
    "m=1 \n",
    "n=6 \n",
    "su=0\n",
    "while m<=n:\n",
    "    if n%m==0:\n",
    "        su+=m  \n",
    "    m+=1 \n",
    "print(su)"
   ]
  },
  {
   "cell_type": "code",
   "execution_count": 27,
   "metadata": {},
   "outputs": [
    {
     "name": "stdout",
     "output_type": "stream",
     "text": [
      "15\n",
      "not a prime\n"
     ]
    }
   ],
   "source": [
    "#22. WAP TO PRINT SUM OF ALL THE DIGITS IN GIVEN NUMBER AND IT IS PRIME OR NOT.\n",
    "m=12345\n",
    "n=0\n",
    "while m:\n",
    "    var=m%10\n",
    "    n+=var\n",
    "    m=m//10\n",
    "print(n)\n",
    "x=1\n",
    "y=12345\n",
    "count=0\n",
    "while x<=y:\n",
    "    if y%x==0:\n",
    "        count+=1\n",
    "    x+=1 \n",
    "if count==2:\n",
    "    print('prime')\n",
    "else:\n",
    "    print('not a prime')"
   ]
  },
  {
   "cell_type": "code",
   "execution_count": 28,
   "metadata": {},
   "outputs": [
    {
     "name": "stdout",
     "output_type": "stream",
     "text": [
      "120\n"
     ]
    }
   ],
   "source": [
    "#23. WAP TO FIND OUT THE PRODUCT OF ALL THE DIGITS IN GIVEN NUMBER.THE FINAL RESULTANT VALUE IS PERFECT NUMBER OR NOT.\n",
    "m=1 \n",
    "n=12345\n",
    "pr=1 \n",
    "while n:\n",
    "    res=n%10\n",
    "    pr*=res\n",
    "    n=n//10\n",
    "print(pr)"
   ]
  }
 ],
 "metadata": {
  "kernelspec": {
   "display_name": "Python 3",
   "language": "python",
   "name": "python3"
  },
  "language_info": {
   "codemirror_mode": {
    "name": "ipython",
    "version": 3
   },
   "file_extension": ".py",
   "mimetype": "text/x-python",
   "name": "python",
   "nbconvert_exporter": "python",
   "pygments_lexer": "ipython3",
   "version": "3.11.4"
  },
  "orig_nbformat": 4
 },
 "nbformat": 4,
 "nbformat_minor": 2
}
