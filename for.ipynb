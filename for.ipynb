{
 "cells": [
  {
   "cell_type": "code",
   "execution_count": 2,
   "metadata": {},
   "outputs": [
    {
     "name": "stdout",
     "output_type": "stream",
     "text": [
      "H\n",
      "E\n",
      "L\n",
      "L\n",
      "O\n"
     ]
    }
   ],
   "source": [
    "#1. WAP to extract each and every character from the string.\n",
    "st='HELLO'\n",
    "for i in st:\n",
    "    print(i)"
   ]
  },
  {
   "cell_type": "code",
   "execution_count": 3,
   "metadata": {},
   "outputs": [
    {
     "name": "stdout",
     "output_type": "stream",
     "text": [
      "10\n",
      "15.05\n",
      "True\n",
      "[10, 20, 30]\n",
      "{10, 20}\n",
      "{'a': 20}\n",
      "b'1010'\n"
     ]
    }
   ],
   "source": [
    "#2. WAP to extract each data item from the collection(list).\n",
    "l=[10,15.05,True,[10,20,30],{10,20},{'a':20},b'1010']\n",
    "for i in l:\n",
    "    print(i)"
   ]
  },
  {
   "cell_type": "code",
   "execution_count": 4,
   "metadata": {},
   "outputs": [
    {
     "name": "stdout",
     "output_type": "stream",
     "text": [
      "10\n",
      "15.05\n",
      "True\n",
      "[10, 20, 30]\n",
      "{10, 20}\n",
      "{'a': 20}\n",
      "b'1010'\n"
     ]
    }
   ],
   "source": [
    "#3. WAP to extract each data item from the collection(tuple).\n",
    "l=(10,15.05,True,[10,20,30],{10,20},{'a':20},b'1010')\n",
    "for i in l:\n",
    "    print(i)"
   ]
  },
  {
   "cell_type": "code",
   "execution_count": 9,
   "metadata": {},
   "outputs": [
    {
     "name": "stdout",
     "output_type": "stream",
     "text": [
      "True\n",
      "10\n",
      "(1, 2, 3)\n",
      "(15+10j)\n",
      "b'1010'\n",
      "15.05\n"
     ]
    }
   ],
   "source": [
    "#4. WAP to extract each data item from the collection(set).\n",
    "l={10,15.05,True,b'1010',15+10j,(1,2,3)}\n",
    "for i in l:\n",
    "    print(i)"
   ]
  },
  {
   "cell_type": "code",
   "execution_count": 13,
   "metadata": {},
   "outputs": [
    {
     "name": "stdout",
     "output_type": "stream",
     "text": [
      "10\n",
      "True\n",
      "(15+10j)\n",
      "pys\n"
     ]
    }
   ],
   "source": [
    "#5. WAP to extract each data item from the collection(dict)\n",
    "l={10:15.05,True:b'1010',15+10j:(1,2,3),'pys':{5,6,7}}\n",
    "for i in l:\n",
    "    print(i)       #keys"
   ]
  },
  {
   "cell_type": "code",
   "execution_count": 14,
   "metadata": {},
   "outputs": [
    {
     "name": "stdout",
     "output_type": "stream",
     "text": [
      "15.05\n",
      "b'1010'\n",
      "(1, 2, 3)\n",
      "{5, 6, 7}\n"
     ]
    }
   ],
   "source": [
    "#6. WAP to extract each data item from the collection(dict)\n",
    "l={10:15.05,True:b'1010',15+10j:(1,2,3),'pys':{5,6,7}}\n",
    "for i in l:\n",
    "    print(l[i])       #values"
   ]
  },
  {
   "cell_type": "code",
   "execution_count": 15,
   "metadata": {},
   "outputs": [
    {
     "name": "stdout",
     "output_type": "stream",
     "text": [
      "B\n",
      "D\n",
      "F\n"
     ]
    }
   ],
   "source": [
    "#7. WAP to extract uppercase characters from given string.\n",
    "st='aBcDeF'\n",
    "for i in st:\n",
    "    if 'A'<=i<='Z':\n",
    "        print(i)"
   ]
  },
  {
   "cell_type": "code",
   "execution_count": 20,
   "metadata": {},
   "outputs": [
    {
     "name": "stdout",
     "output_type": "stream",
     "text": [
      "a$b#c\n"
     ]
    }
   ],
   "source": [
    "#8. WAP to extract and store the special characters and lowercase characters from given string.\n",
    "st='a$b#cDE'\n",
    "res=''\n",
    "for i in st:\n",
    "    if 'a'<=i<='z' or not('A'<=i<='Z' or '0'<=i<='9'):\n",
    "        res+=i\n",
    "print(res)"
   ]
  },
  {
   "cell_type": "code",
   "execution_count": 21,
   "metadata": {},
   "outputs": [
    {
     "name": "stdout",
     "output_type": "stream",
     "text": [
      "ACF\n",
      "bde\n",
      "123\n",
      "#$%\n"
     ]
    }
   ],
   "source": [
    "#9. WAP to segregate the characters from given string.\n",
    "st='AbCdeF123#$%'\n",
    "up=''\n",
    "lw=''\n",
    "num=''\n",
    "sp=''\n",
    "for i in st:\n",
    "    if 'A'<=i<'Z':\n",
    "        up+=i \n",
    "    elif 'a'<=i<='z':\n",
    "        lw+=i \n",
    "    elif '0'<=i<='9':\n",
    "        num+=i \n",
    "    else:\n",
    "        sp+=i \n",
    "print(up)\n",
    "print(lw)\n",
    "print(num)\n",
    "print(sp)"
   ]
  },
  {
   "cell_type": "code",
   "execution_count": 28,
   "metadata": {},
   "outputs": [
    {
     "name": "stdout",
     "output_type": "stream",
     "text": [
      "valid password\n"
     ]
    }
   ],
   "source": [
    "#10. WAP to check given password is valid or invalid.\n",
    "     #Constarints\n",
    "# 1. min 1 num character\n",
    "# 2. min 2 special characters except .,(),[],{},space. \n",
    "# 3. starting and ending character should be uppercase characters.\n",
    "# 4. maximum 5 lowercase characters and minimum 1. \n",
    "# 5. given input is string and length of the string is min 8 and max 20. \n",
    "s='Shai@#123D'\n",
    "if type(s)==str and 8<=len(s)<=20 and 'A'<=s[0]<='Z' and 'A'<=s[-1]<='Z':\n",
    "    uc,lc,nu,sp='','','',''\n",
    "    ps=''\n",
    "    for i in s:\n",
    "        if 'A'<=i<='Z':\n",
    "            uc+=i \n",
    "        elif 'a'<=i<='z':\n",
    "            lc+=i \n",
    "        elif '0'<=i<='9':\n",
    "            nu+=i \n",
    "        elif i not in '. () [] {}':\n",
    "            sp+=i\n",
    "        else:\n",
    "            ps+=i \n",
    "    if len(nu)>=1 and 1<=len(uc)<=5 and len(sp)>=2 and len(ps)==0:\n",
    "        print('valid password')\n",
    "    else:\n",
    "        print('invalid password')\n",
    "else:\n",
    "    print('invalid password')\n",
    "\n",
    " "
   ]
  },
  {
   "cell_type": "code",
   "execution_count": 30,
   "metadata": {},
   "outputs": [
    {
     "name": "stdout",
     "output_type": "stream",
     "text": [
      "password first and last character should be uppercase\n"
     ]
    }
   ],
   "source": [
    "#11. WAP to check given password is valid or invalid. if it is invalid display the reason.\n",
    "s='Abcdf123@#'\n",
    "if not(type(s)==str):\n",
    "    print('value should be string')\n",
    "elif not(8<=len(s)<=20):\n",
    "    print('password min 8 characters and max 20 characters')\n",
    "elif not('A'<=s[0]<'Z' and 'A'<=s[-1]<='Z'):\n",
    "    print('password first and last character should be uppercase')\n",
    "else:\n",
    "    uc,lc,nu,sp='','','',''\n",
    "    ps=''\n",
    "    for i in s:\n",
    "        if 'A'<=i<='Z':\n",
    "            uc+=i \n",
    "        elif 'a'<=i<='z':\n",
    "            lc+=i \n",
    "        elif '0'<=i<='9':\n",
    "            nu+=i \n",
    "        elif i not in '. () [] {}':\n",
    "            sp+=i\n",
    "        else:\n",
    "            ps+=i \n",
    "    if not(len(nu)>=1):\n",
    "        print('password should be min 1 numeric character')\n",
    "    if not(1<=len(lc)<=5):\n",
    "        print('password should be min 1 lowercase and max 5 lowercase characters')\n",
    "    if not(len(sp)>=2):\n",
    "        print('password should be min 2 special characters')\n",
    "    if not(len(ps)==0):\n",
    "        print('password should not be space () [] {}')\n",
    "    "
   ]
  },
  {
   "cell_type": "code",
   "execution_count": 31,
   "metadata": {},
   "outputs": [
    {
     "name": "stdout",
     "output_type": "stream",
     "text": [
      "5\n"
     ]
    }
   ],
   "source": [
    "#12. WAP to count the no.of data items in given collection without length function.\n",
    "st='abcdE' \n",
    "count=0\n",
    "for i in st:\n",
    "    count+=1\n",
    "print(count)"
   ]
  },
  {
   "cell_type": "code",
   "execution_count": 38,
   "metadata": {},
   "outputs": [
    {
     "name": "stdout",
     "output_type": "stream",
     "text": [
      "3\n"
     ]
    }
   ],
   "source": [
    "#13. WAP to count specific dataitems in given collection.\n",
    "st=eval(input('enter the value:'))\n",
    "x=eval(input('enter the value:'))\n",
    "if type(st) in [str,list,tuple]:\n",
    "    count=0\n",
    "    for i in st:\n",
    "        if x in st:\n",
    "            count+=1\n",
    "print(count)"
   ]
  },
  {
   "cell_type": "code",
   "execution_count": 4,
   "metadata": {},
   "outputs": [
    {
     "name": "stdout",
     "output_type": "stream",
     "text": [
      "helo\n"
     ]
    }
   ],
   "source": [
    "#14. WAP to extract unique data items from the given collection(string).\n",
    "st='hello'\n",
    "uni=''\n",
    "for i in st:\n",
    "    if i not in uni:\n",
    "        uni+=i\n",
    "print(uni)"
   ]
  },
  {
   "cell_type": "code",
   "execution_count": 6,
   "metadata": {},
   "outputs": [
    {
     "name": "stdout",
     "output_type": "stream",
     "text": [
      "[10, 20, 30, 40]\n"
     ]
    }
   ],
   "source": [
    "#15. WAP to extract unique data items from the given collection(list).\n",
    "st=[10,20,30,10,40,20,30]\n",
    "uni=[]\n",
    "for i in st:\n",
    "    if i not in uni:\n",
    "        uni+=[i]\n",
    "print(uni)"
   ]
  },
  {
   "cell_type": "code",
   "execution_count": 7,
   "metadata": {},
   "outputs": [
    {
     "name": "stdout",
     "output_type": "stream",
     "text": [
      "(10, 20, 30, 40)\n"
     ]
    }
   ],
   "source": [
    "#16. WAP to extract unique data items from the given collection(tuple).\n",
    "st=(10,20,30,20,10,40,20)\n",
    "uni=()\n",
    "for i in st:\n",
    "    if i not in uni:\n",
    "        uni+=(i,)\n",
    "print(uni)"
   ]
  },
  {
   "cell_type": "code",
   "execution_count": 9,
   "metadata": {},
   "outputs": [
    {
     "name": "stdout",
     "output_type": "stream",
     "text": [
      "{'h', 'o', 'l', 'e'}\n"
     ]
    }
   ],
   "source": [
    "#17. WAP to extract unique data items from the given collection(string) with typecasting.\n",
    "st='hello'\n",
    "res=set(st)\n",
    "print(res)"
   ]
  },
  {
   "cell_type": "code",
   "execution_count": 23,
   "metadata": {},
   "outputs": [
    {
     "name": "stdout",
     "output_type": "stream",
     "text": [
      "helo wrd\n",
      "[['h', 1], ['e', 1], ['l', 3], ['o', 2], [' ', 1], ['w', 1], ['r', 1], ['d', 1]]\n",
      "{'h': 1, 'e': 1, 'l': 3, 'o': 2, ' ': 1, 'w': 1, 'r': 1, 'd': 1}\n",
      "2\n"
     ]
    }
   ],
   "source": [
    "#18.  WAP to count each data item in the given collection.\n",
    "                   #or\n",
    "#WAP to count the frequency of each data item in the given collection.\n",
    "st='hello world'\n",
    "uni=''\n",
    "for i in st:\n",
    "    if i not in uni:\n",
    "        uni+=i \n",
    "print(uni)\n",
    "li=[]\n",
    "for i in uni:\n",
    "    count=0\n",
    "    for j in st:\n",
    "        if i==j:\n",
    "            count+=1\n",
    "    li+=[[i,count]]\n",
    "print(li)\n",
    "u=dict(li)\n",
    "print(u)\n",
    "print(u['o'])\n",
    "    \n"
   ]
  },
  {
   "cell_type": "code",
   "execution_count": 27,
   "metadata": {},
   "outputs": [
    {
     "name": "stdout",
     "output_type": "stream",
     "text": [
      "{'h': 1, 'e': 1, 'l': 3, 'o': 2, ' ': 1, 'w': 1, 'r': 1, 'd': 1}\n",
      "2\n"
     ]
    }
   ],
   "source": [
    "#19.  WAP to count each data item in the given collection.\n",
    "                   #or\n",
    "#WAP to count the frequency of each data item in the given collection.\n",
    "st='hello world'\n",
    "d={}\n",
    "for i in st:\n",
    "    if i not in d:\n",
    "        d[i]=1\n",
    "    else:\n",
    "        d[i]+=1\n",
    "print(d)\n",
    "print(d['o'])"
   ]
  },
  {
   "cell_type": "code",
   "execution_count": 30,
   "metadata": {},
   "outputs": [
    {
     "name": "stdout",
     "output_type": "stream",
     "text": [
      "{'h': 1, 'e': 1, 'l': 3, 'o': 2, ' ': 1, 'w': 1, 'r': 1, 'd': 1}\n",
      "l 3\n"
     ]
    }
   ],
   "source": [
    "#20. WAP to find out the maximum occurence in given string.\n",
    "st='hello world'\n",
    "d={}\n",
    "for i in st:\n",
    "    if i not in d:\n",
    "        d[i]=1\n",
    "    else:\n",
    "        d[i]+=1\n",
    "print(d)\n",
    "max=0\n",
    "ch=None\n",
    "for i in d:\n",
    "    if max<d[i]:\n",
    "        max=d[i]\n",
    "        ch=i\n",
    "print(ch,max)"
   ]
  },
  {
   "cell_type": "code",
   "execution_count": 32,
   "metadata": {},
   "outputs": [
    {
     "name": "stdout",
     "output_type": "stream",
     "text": [
      "{'h': 1, 'e': 1, 'l': 3, 'o': 2, ' ': 1, 'w': 1, 'r': 1, 'd': 1}\n",
      "h 1\n"
     ]
    }
   ],
   "source": [
    "#21. WAP to find out minimum occurence in given string.\n",
    "st='hello world'\n",
    "d={}\n",
    "for i in st:\n",
    "    if i not in d:\n",
    "        d[i]=1\n",
    "    else:\n",
    "        d[i]+=1\n",
    "print(d)\n",
    "min=len(st)\n",
    "ch=None\n",
    "for i in d:\n",
    "    if min>d[i]:\n",
    "        min=d[i]\n",
    "        ch=i\n",
    "print(ch,min)"
   ]
  },
  {
   "cell_type": "code",
   "execution_count": 34,
   "metadata": {},
   "outputs": [
    {
     "name": "stdout",
     "output_type": "stream",
     "text": [
      "{'h': 1, 'e': 1, 'l': 3, 'o': 2, ' ': 1, 'w': 1, 'r': 1, 'd': 1}\n",
      "h 1\n",
      "[['e', 1], [' ', 1], ['w', 1], ['r', 1], ['d', 1], ['h', 1]]\n"
     ]
    }
   ],
   "source": [
    "#22. WAP to find out all the minimum occurences in given string.\n",
    "st='hello world'\n",
    "d={}\n",
    "for i in st:\n",
    "    if i not in d:\n",
    "        d[i]=1\n",
    "    else:\n",
    "        d[i]+=1\n",
    "print(d)\n",
    "u=[]\n",
    "min=len(st)\n",
    "ch=None\n",
    "for i in d:\n",
    "    if min>d[i]:\n",
    "        min=d[i]\n",
    "        ch=i\n",
    "    elif min==d[i]:\n",
    "        u+=[[i,d[i]]]\n",
    "u+=[[ch,min]]\n",
    "print(ch,min)\n",
    "print(u)"
   ]
  },
  {
   "cell_type": "code",
   "execution_count": 38,
   "metadata": {},
   "outputs": [
    {
     "name": "stdout",
     "output_type": "stream",
     "text": [
      "{'h': 1, 'e': 1, 'l': 3, 'o': 2, ' ': 1, 'w': 1, 'r': 1, 'd': 1}\n",
      "{1: ['h', 'e', ' ', 'w', 'r', 'd'], 3: ['l'], 2: ['o']}\n"
     ]
    }
   ],
   "source": [
    "#23. I/P:{'h': 1, 'e': 1, 'l': 3, 'o': 2, ' ': 1, 'w': 1, 'r': 1, 'd': 1}\n",
    "    #O/P:{1: ['h', 'e', ' ', 'w', 'r', 'd'], 3: ['l'], 2: ['o']}\n",
    "\n",
    "st='hello world'\n",
    "d={}\n",
    "for i in st:\n",
    "    if i not in d:\n",
    "        d[i]=1\n",
    "    else:\n",
    "        d[i]+=1\n",
    "print(d)\n",
    "res={}\n",
    "for j in d:\n",
    "    if d[j] not in res:\n",
    "        res[d[j]]=[j]\n",
    "    else:\n",
    "        res[d[j]]+=[j]\n",
    "print(res)"
   ]
  },
  {
   "cell_type": "code",
   "execution_count": 40,
   "metadata": {},
   "outputs": [
    {
     "name": "stdout",
     "output_type": "stream",
     "text": [
      "{'h': 1, 'e': 1, 'l': 3, 'o': 2, ' ': 1, 'w': 1, 'r': 1, 'd': 1}\n",
      "h 1\n",
      "6\n"
     ]
    }
   ],
   "source": [
    "#24. WAP to count the least occurence characters from given string.\n",
    "st='hello world'\n",
    "d={}\n",
    "for i in st:\n",
    "    if i not in d:\n",
    "        d[i]=1\n",
    "    else:\n",
    "        d[i]+=1\n",
    "print(d)\n",
    "u=[]\n",
    "min=len(st)\n",
    "ch=None\n",
    "for i in d:\n",
    "    if min>d[i]:\n",
    "        min=d[i]\n",
    "        ch=i\n",
    "    elif min==d[i]:\n",
    "        u+=[[i,d[i]]]\n",
    "u+=[[ch,min]]\n",
    "print(ch,min)\n",
    "print(len(u))"
   ]
  },
  {
   "cell_type": "code",
   "execution_count": 41,
   "metadata": {},
   "outputs": [
    {
     "name": "stdout",
     "output_type": "stream",
     "text": [
      "dlrow olleh\n"
     ]
    }
   ],
   "source": [
    "#25. WAP to reverse the string without slicing.\n",
    "st='hello world'\n",
    "rev=''\n",
    "for i in st:\n",
    "    rev=i+rev\n",
    "print(rev)"
   ]
  },
  {
   "cell_type": "code",
   "execution_count": 46,
   "metadata": {},
   "outputs": [
    {
     "name": "stdout",
     "output_type": "stream",
     "text": [
      "palindrome\n"
     ]
    }
   ],
   "source": [
    "#26. WAP to check the given string is palindrome is not.\n",
    "st='madam'\n",
    "rev=''\n",
    "for i in st:\n",
    "    rev=i+rev\n",
    "if st==rev:\n",
    "    print('palindrome')\n",
    "else:\n",
    "    print('Not palindrome')"
   ]
  },
  {
   "cell_type": "code",
   "execution_count": 14,
   "metadata": {},
   "outputs": [
    {
     "name": "stdout",
     "output_type": "stream",
     "text": [
      "m\n",
      "mo\n",
      "mob\n",
      "mobi\n",
      "mobil\n",
      "mobile\n"
     ]
    }
   ],
   "source": [
    "#27.\n",
    "st='mobile'\n",
    "pos=1\n",
    "for i in st:\n",
    "    print(st[0:pos])\n",
    "    pos+=1\n",
    "    "
   ]
  },
  {
   "cell_type": "code",
   "execution_count": 3,
   "metadata": {},
   "outputs": [
    {
     "name": "stdout",
     "output_type": "stream",
     "text": [
      "m\n",
      "mo\n",
      "mob\n",
      "mobi\n",
      "mobil\n",
      "mobile\n"
     ]
    }
   ],
   "source": [
    "#28.\n",
    "st='mobile'\n",
    "res=''\n",
    "for i in st:\n",
    "    res+=i\n",
    "    print(res)"
   ]
  },
  {
   "cell_type": "code",
   "execution_count": 7,
   "metadata": {},
   "outputs": [
    {
     "data": {
      "text/plain": [
       "range(0, 10)"
      ]
     },
     "execution_count": 7,
     "metadata": {},
     "output_type": "execute_result"
    }
   ],
   "source": [
    "#29.\n",
    "range(0,10)\n"
   ]
  },
  {
   "cell_type": "code",
   "execution_count": 10,
   "metadata": {},
   "outputs": [
    {
     "data": {
      "text/plain": [
       "[0, 1, 2, 3, 4, 5, 6, 7, 8, 9]"
      ]
     },
     "execution_count": 10,
     "metadata": {},
     "output_type": "execute_result"
    }
   ],
   "source": [
    "#30\n",
    "list(range(0,10))"
   ]
  },
  {
   "cell_type": "code",
   "execution_count": 9,
   "metadata": {},
   "outputs": [
    {
     "data": {
      "text/plain": [
       "[0, 1, 2, 3, 4, 5, 6, 7, 8, 9]"
      ]
     },
     "execution_count": 9,
     "metadata": {},
     "output_type": "execute_result"
    }
   ],
   "source": [
    "#31.\n",
    "list(range(0,10,1))"
   ]
  },
  {
   "cell_type": "code",
   "execution_count": 11,
   "metadata": {},
   "outputs": [
    {
     "data": {
      "text/plain": [
       "[0, 2, 4, 6, 8]"
      ]
     },
     "execution_count": 11,
     "metadata": {},
     "output_type": "execute_result"
    }
   ],
   "source": [
    "#32.\n",
    "list(range(0,10,2))"
   ]
  },
  {
   "cell_type": "code",
   "execution_count": 13,
   "metadata": {},
   "outputs": [
    {
     "data": {
      "text/plain": [
       "[10, 9, 8, 7, 6, 5, 4, 3, 2, 1]"
      ]
     },
     "execution_count": 13,
     "metadata": {},
     "output_type": "execute_result"
    }
   ],
   "source": [
    "#33.\n",
    "list(range(10,0,-1))"
   ]
  },
  {
   "cell_type": "code",
   "execution_count": 21,
   "metadata": {},
   "outputs": [
    {
     "data": {
      "text/plain": [
       "[-10, -9, -8, -7, -6, -5, -4, -3, -2, -1]"
      ]
     },
     "execution_count": 21,
     "metadata": {},
     "output_type": "execute_result"
    }
   ],
   "source": [
    "#34.\n",
    "list(range(-10,0,1))"
   ]
  },
  {
   "cell_type": "code",
   "execution_count": 22,
   "metadata": {},
   "outputs": [
    {
     "data": {
      "text/plain": [
       "[-10, -9, -8, -7, -6, -5, -4, -3, -2]"
      ]
     },
     "execution_count": 22,
     "metadata": {},
     "output_type": "execute_result"
    }
   ],
   "source": [
    "#35.\n",
    "list(range(-10,-1,1))"
   ]
  },
  {
   "cell_type": "code",
   "execution_count": 15,
   "metadata": {},
   "outputs": [
    {
     "data": {
      "text/plain": [
       "[-1, -2, -3, -4, -5, -6, -7, -8, -9]"
      ]
     },
     "execution_count": 15,
     "metadata": {},
     "output_type": "execute_result"
    }
   ],
   "source": [
    "#36.\n",
    "list(range(-1,-10,-1))"
   ]
  },
  {
   "cell_type": "code",
   "execution_count": 24,
   "metadata": {},
   "outputs": [
    {
     "data": {
      "text/plain": [
       "[-10, -8, -6, -4, -2]"
      ]
     },
     "execution_count": 24,
     "metadata": {},
     "output_type": "execute_result"
    }
   ],
   "source": [
    "#37.\n",
    "list(range(-10,-1,2))"
   ]
  },
  {
   "cell_type": "code",
   "execution_count": 26,
   "metadata": {},
   "outputs": [
    {
     "name": "stdout",
     "output_type": "stream",
     "text": [
      "10\n",
      "9\n",
      "8\n",
      "7\n",
      "6\n",
      "5\n",
      "4\n",
      "3\n",
      "2\n",
      "1\n"
     ]
    }
   ],
   "source": [
    "#38.\n",
    "for i in range(10,0,-1):\n",
    "    print(i)"
   ]
  },
  {
   "cell_type": "code",
   "execution_count": 27,
   "metadata": {},
   "outputs": [
    {
     "data": {
      "text/plain": [
       "[0, 1, 2, 3, 4, 5, 6, 7, 8, 9]"
      ]
     },
     "execution_count": 27,
     "metadata": {},
     "output_type": "execute_result"
    }
   ],
   "source": [
    "#39.\n",
    "list(range(10))"
   ]
  },
  {
   "cell_type": "code",
   "execution_count": 29,
   "metadata": {},
   "outputs": [
    {
     "name": "stdout",
     "output_type": "stream",
     "text": [
      "l\n",
      "e\n",
      "v\n",
      "e\n",
      "l\n"
     ]
    }
   ],
   "source": [
    "#40. WAP to extract each character by using range.\n",
    "st='level'\n",
    "for i in range(0,len(st)):\n",
    "    print(st[i])"
   ]
  },
  {
   "cell_type": "code",
   "execution_count": 32,
   "metadata": {},
   "outputs": [
    {
     "name": "stdout",
     "output_type": "stream",
     "text": [
      "l\n",
      "le\n",
      "lev\n",
      "leve\n",
      "level\n"
     ]
    }
   ],
   "source": [
    "#41. WAP to extract each character by using range in special pattern.\n",
    "st='level'\n",
    "res=''\n",
    "for i in range(0,len(st)):\n",
    "    res+=st[i]\n",
    "    print(res)"
   ]
  },
  {
   "cell_type": "code",
   "execution_count": 37,
   "metadata": {},
   "outputs": [
    {
     "name": "stdout",
     "output_type": "stream",
     "text": [
      "l\n",
      "le\n",
      "lev\n",
      "leve\n",
      "level\n"
     ]
    }
   ],
   "source": [
    "#42. WAP to extract each character by using range in special pattern.\n",
    "st='level'\n",
    "for i in range(1,len(st)+1):\n",
    "    print(st[0:i])"
   ]
  },
  {
   "cell_type": "code",
   "execution_count": 39,
   "metadata": {},
   "outputs": [
    {
     "name": "stdout",
     "output_type": "stream",
     "text": [
      "l\n",
      "le\n",
      "lev\n",
      "leve\n",
      "level\n",
      "\n",
      "e\n",
      "ev\n",
      "eve\n",
      "evel\n",
      "\n",
      "\n",
      "v\n",
      "ve\n",
      "vel\n",
      "\n",
      "\n",
      "\n",
      "e\n",
      "el\n",
      "\n",
      "\n",
      "\n",
      "\n",
      "l\n",
      "\n",
      "\n",
      "\n",
      "\n",
      "\n"
     ]
    }
   ],
   "source": [
    "#43.\n",
    "for j in range(0,len(st)):\n",
    "    st='level'\n",
    "    for i in range(1,len(st)+1):\n",
    "        print(st[j:i])"
   ]
  },
  {
   "cell_type": "code",
   "execution_count": 5,
   "metadata": {},
   "outputs": [
    {
     "name": "stdout",
     "output_type": "stream",
     "text": [
      "['abcdcba', 'bcdcb', 'cdc', 'xyzzyx', 'yzzy', '5445']\n",
      "6\n"
     ]
    }
   ],
   "source": [
    "#44. WAP to check the elements inside the string are palindrome or not.\n",
    "st='abcdcbalfixyzzyx15445#$5'\n",
    "l=[]\n",
    "for i in range(0,len(st)):\n",
    "    for j in range(i+1,len(st)+1):\n",
    "        res=st[i:j:1]\n",
    "        if len(res)>=3 and res==res[::-1]:\n",
    "            l+=[res]\n",
    "print(l)\n",
    "print(len(l))"
   ]
  },
  {
   "cell_type": "code",
   "execution_count": 10,
   "metadata": {},
   "outputs": [
    {
     "name": "stdout",
     "output_type": "stream",
     "text": [
      "4 9\n",
      "4 3\n",
      "4 2\n",
      "4 1\n",
      "9 3\n",
      "9 2\n",
      "9 1\n",
      "3 2\n",
      "3 1\n",
      "2 1\n"
     ]
    }
   ],
   "source": [
    "#45.\n",
    "st='49321'\n",
    "for i in range(0,len(st)):\n",
    "    for j in range(i+1,len(st)):\n",
    "        print(int(st[i]),int(st[j]))\n"
   ]
  },
  {
   "cell_type": "code",
   "execution_count": 13,
   "metadata": {},
   "outputs": [
    {
     "name": "stdout",
     "output_type": "stream",
     "text": [
      "2\n"
     ]
    }
   ],
   "source": [
    "#46.\n",
    "st='49321'\n",
    "count=0\n",
    "for i in range(0,len(st)):\n",
    "    for j in range(i+1,len(st)):\n",
    "        if int(st[i])+int(st[j])==5:\n",
    "            count+=1\n",
    "print(count)\n",
    "        "
   ]
  },
  {
   "cell_type": "code",
   "execution_count": 14,
   "metadata": {},
   "outputs": [
    {
     "name": "stdout",
     "output_type": "stream",
     "text": [
      "('4', '1') 5\n",
      "('3', '2') 5\n",
      "2\n"
     ]
    }
   ],
   "source": [
    "#47. Combinations\n",
    "from itertools import combinations\n",
    "st='49321'\n",
    "count=0\n",
    "for k in range(2,len(st)):\n",
    "    for i in list(combinations(st,k)):\n",
    "        sum1=0\n",
    "        for j in i:\n",
    "            sum1+=int(j)\n",
    "        if sum1==5:\n",
    "            count+=1\n",
    "            print(i,sum1)\n",
    "print(count)"
   ]
  },
  {
   "cell_type": "code",
   "execution_count": 15,
   "metadata": {},
   "outputs": [
    {
     "name": "stdout",
     "output_type": "stream",
     "text": [
      "14 5\n",
      "32 5\n",
      "23 5\n",
      "122 5\n",
      "221 5\n"
     ]
    }
   ],
   "source": [
    "#48.\n",
    "st='143231221'\n",
    "count=0\n",
    "for i in range(0,len(st)):\n",
    "    for j in range(i+1,len(st)+1):\n",
    "        temp=int(st[i:j])\n",
    "        res=temp\n",
    "        sum1=0\n",
    "        while res:\n",
    "            ld=res%10\n",
    "            sum1+=ld\n",
    "            res=res//10\n",
    "        if sum1==5:\n",
    "            print(temp,sum1)"
   ]
  },
  {
   "cell_type": "code",
   "execution_count": 19,
   "metadata": {},
   "outputs": [
    {
     "name": "stdout",
     "output_type": "stream",
     "text": [
      "a 0\n",
      "a 3\n",
      "a 5\n"
     ]
    }
   ],
   "source": [
    "st='abcada'\n",
    "s='a'\n",
    "for i in range(0,len(st)):\n",
    "        if st[i]==s:\n",
    "            print(st[i],i)"
   ]
  },
  {
   "cell_type": "code",
   "execution_count": 18,
   "metadata": {},
   "outputs": [
    {
     "name": "stdout",
     "output_type": "stream",
     "text": [
      "a 0\n"
     ]
    }
   ],
   "source": [
    "st='abcda'\n",
    "s='a'\n",
    "for i in range(0,len(st)):\n",
    "        if st[i]==s:\n",
    "            print(st[i],i)\n",
    "            break"
   ]
  },
  {
   "cell_type": "code",
   "execution_count": 17,
   "metadata": {},
   "outputs": [
    {
     "name": "stdout",
     "output_type": "stream",
     "text": [
      "a 13\n"
     ]
    }
   ],
   "source": [
    "st='laptop is a hardware'\n",
    "ch='a'\n",
    "n=3\n",
    "count=0\n",
    "for i in range(0,len(st)):\n",
    "    if st[i]==ch:\n",
    "        count+=1\n",
    "        if n==count:\n",
    "            print(ch,i)\n"
   ]
  },
  {
   "cell_type": "code",
   "execution_count": 30,
   "metadata": {},
   "outputs": [
    {
     "name": "stdout",
     "output_type": "stream",
     "text": [
      "a 1\n",
      "p 2\n",
      "p 5\n"
     ]
    }
   ],
   "source": [
    "st='laptop'\n",
    "s='ap'\n",
    "for i in range(0,len(st)):\n",
    "        for j in range(0,len(s)):\n",
    "                if st[i]==s[j]:\n",
    "                    print(st[i],i)"
   ]
  },
  {
   "cell_type": "code",
   "execution_count": 32,
   "metadata": {},
   "outputs": [
    {
     "name": "stdout",
     "output_type": "stream",
     "text": [
      "a 1\n",
      "p 2\n"
     ]
    }
   ],
   "source": [
    "st='laptop'\n",
    "s='ap'\n",
    "for i in range(0,len(s)):\n",
    "        for j in range(0,len(st)):\n",
    "                if s[i]==st[j]:\n",
    "                    print(st[j],j)\n",
    "                    break"
   ]
  },
  {
   "cell_type": "code",
   "execution_count": 50,
   "metadata": {},
   "outputs": [
    {
     "ename": "IndexError",
     "evalue": "string index out of range",
     "output_type": "error",
     "traceback": [
      "\u001b[1;31m---------------------------------------------------------------------------\u001b[0m",
      "\u001b[1;31mIndexError\u001b[0m                                Traceback (most recent call last)",
      "\u001b[1;32mc:\\Users\\SHAIK SHAHED\\Documents\\GitHub\\python_basics\\for.ipynb Cell 54\u001b[0m line \u001b[0;36m8\n\u001b[0;32m      <a href='vscode-notebook-cell:/c%3A/Users/SHAIK%20SHAHED/Documents/GitHub/python_basics/for.ipynb#Y104sZmlsZQ%3D%3D?line=5'>6</a>\u001b[0m \u001b[39mif\u001b[39;00m st[i]\u001b[39m==\u001b[39ms[j]:\n\u001b[0;32m      <a href='vscode-notebook-cell:/c%3A/Users/SHAIK%20SHAHED/Documents/GitHub/python_basics/for.ipynb#Y104sZmlsZQ%3D%3D?line=6'>7</a>\u001b[0m     m\u001b[39m=\u001b[39ms[j]\n\u001b[1;32m----> <a href='vscode-notebook-cell:/c%3A/Users/SHAIK%20SHAHED/Documents/GitHub/python_basics/for.ipynb#Y104sZmlsZQ%3D%3D?line=7'>8</a>\u001b[0m     \u001b[39mprint\u001b[39m(m,m[j])\n",
      "\u001b[1;31mIndexError\u001b[0m: string index out of range"
     ]
    }
   ],
   "source": [
    "st='python is a programming language'\n",
    "s='is a '\n",
    "m=''\n",
    "for i in range(0,len(st)):\n",
    "    for j in range(0,len(s)):\n",
    "        if st[i]==s[j]:\n",
    "            m=s[j]\n",
    "            print(m,m[j])"
   ]
  }
 ],
 "metadata": {
  "kernelspec": {
   "display_name": "Python 3",
   "language": "python",
   "name": "python3"
  },
  "language_info": {
   "codemirror_mode": {
    "name": "ipython",
    "version": 3
   },
   "file_extension": ".py",
   "mimetype": "text/x-python",
   "name": "python",
   "nbconvert_exporter": "python",
   "pygments_lexer": "ipython3",
   "version": "3.11.4"
  },
  "orig_nbformat": 4
 },
 "nbformat": 4,
 "nbformat_minor": 2
}
