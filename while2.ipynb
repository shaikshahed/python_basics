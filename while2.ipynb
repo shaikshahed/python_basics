{
 "cells": [
  {
   "cell_type": "code",
   "execution_count": 24,
   "metadata": {},
   "outputs": [
    {
     "name": "stdout",
     "output_type": "stream",
     "text": [
      "abcdXY 6\n",
      "12345 5\n",
      "$%# 3\n"
     ]
    }
   ],
   "source": [
    "#84. WAP to count no. alphabets , numbers and special symbols in a given string.\n",
    "st='abcdXY12345$%#'\n",
    "al=''\n",
    "num=''\n",
    "sp=''\n",
    "start=0\n",
    "end=len(st)\n",
    "count=0\n",
    "coun=0\n",
    "cou=0\n",
    "while start<end:\n",
    "    if 'A'<=st[start]<='Z' or 'a'<=st[start]<='z':\n",
    "        count+=1\n",
    "        al+=st[start]\n",
    "    elif '0'<=st[start]<='9':\n",
    "        coun+=1\n",
    "        num+=st[start]\n",
    "    else:\n",
    "        cou+=1\n",
    "        sp+=st[start]\n",
    "    start+=1\n",
    "print(al,count)\n",
    "print(num,coun)\n",
    "print(sp,cou)"
   ]
  },
  {
   "cell_type": "code",
   "execution_count": null,
   "metadata": {},
   "outputs": [],
   "source": [
    "#85. WAP to count total no. of words in a first line of the Doc string."
   ]
  },
  {
   "cell_type": "code",
   "execution_count": 29,
   "metadata": {},
   "outputs": [
    {
     "name": "stdout",
     "output_type": "stream",
     "text": [
      "15\n"
     ]
    }
   ],
   "source": [
    "#86. WAP to sum of digits in  agiven string.\n",
    "st='abcd123#$45'\n",
    "start=0\n",
    "end=len(st)\n",
    "sum1=0\n",
    "while start<end:\n",
    "    if '0'<=st[start]<='9':\n",
    "        sum1+=int(st[start])\n",
    "    start+=1\n",
    "print(sum1)"
   ]
  },
  {
   "cell_type": "code",
   "execution_count": 36,
   "metadata": {},
   "outputs": [
    {
     "name": "stdout",
     "output_type": "stream",
     "text": [
      "helowrd\n",
      "h 1\n",
      "e 1\n",
      "l 3\n",
      "o 2\n",
      "w 1\n",
      "r 1\n",
      "d 1\n"
     ]
    }
   ],
   "source": [
    "#WAP to count each character in  a given string.(occurence)\n",
    "st='helloworld'\n",
    "start=0\n",
    "end=len(st)\n",
    "uni=''\n",
    "while start<end:\n",
    "    if st[start] not in uni:\n",
    "        uni+=st[start]\n",
    "    start+=1\n",
    "print(uni)\n",
    "i=0\n",
    "while i<len(uni):\n",
    "    j=0\n",
    "    count=0\n",
    "    while j<len(st):\n",
    "        if uni[i]==st[j]:\n",
    "            count+=1\n",
    "        j+=1\n",
    "    print(uni[i],count)\n",
    "    i+=1"
   ]
  },
  {
   "cell_type": "code",
   "execution_count": 52,
   "metadata": {},
   "outputs": [
    {
     "name": "stdout",
     "output_type": "stream",
     "text": [
      "helowrd\n",
      "l 3\n"
     ]
    }
   ],
   "source": [
    "#WAP to count the first occurence of the given string.\n",
    "st='helloworld'\n",
    "start=0\n",
    "end=len(st)\n",
    "uni=''\n",
    "while start<end:\n",
    "    if st[start] not in uni:\n",
    "        uni+=st[start]\n",
    "    start+=1\n",
    "print(uni)\n",
    "i=0\n",
    "while i<len(uni):\n",
    "    j=0\n",
    "    count=0\n",
    "    while j<len(st):\n",
    "        if uni[i]==st[j]:\n",
    "            count+=1\n",
    "        j+=1\n",
    "    if count>1:\n",
    "        print(uni[i],count)\n",
    "        break\n",
    "    i+=1"
   ]
  },
  {
   "cell_type": "code",
   "execution_count": 78,
   "metadata": {},
   "outputs": [
    {
     "name": "stdout",
     "output_type": "stream",
     "text": [
      "abcd\n"
     ]
    },
    {
     "ename": "KeyboardInterrupt",
     "evalue": "",
     "output_type": "error",
     "traceback": [
      "\u001b[1;31m---------------------------------------------------------------------------\u001b[0m",
      "\u001b[1;31mKeyboardInterrupt\u001b[0m                         Traceback (most recent call last)",
      "Cell \u001b[1;32mIn[78], line 16\u001b[0m\n\u001b[0;32m     14\u001b[0m j\u001b[39m=\u001b[39m\u001b[39m0\u001b[39m\n\u001b[0;32m     15\u001b[0m count\u001b[39m=\u001b[39m\u001b[39m0\u001b[39m\n\u001b[1;32m---> 16\u001b[0m \u001b[39mwhile\u001b[39;00m j\u001b[39m<\u001b[39m\u001b[39mlen\u001b[39m(st):\n\u001b[0;32m     17\u001b[0m     \u001b[39mif\u001b[39;00m uni[i]\u001b[39m==\u001b[39mst[j]:\n\u001b[0;32m     18\u001b[0m         count\u001b[39m+\u001b[39m\u001b[39m=\u001b[39m\u001b[39m1\u001b[39m\n",
      "\u001b[1;31mKeyboardInterrupt\u001b[0m: "
     ]
    }
   ],
   "source": [
    "#WAP to print the last occurence of the given string.\n",
    "st='abcdabc'\n",
    "start=0\n",
    "end=len(st)\n",
    "uni=''\n",
    "while start<end:\n",
    "    if st[start] not in uni:\n",
    "        uni+=st[start]\n",
    "    start+=1\n",
    "print(uni)\n",
    "i=0\n",
    "s=''\n",
    "while i<len(uni):\n",
    "    j=0\n",
    "    count=0\n",
    "    while j<len(st):\n",
    "        if uni[i]==st[j]:\n",
    "            count+=1\n",
    "        j+=1\n",
    "    if count>1:\n",
    "        s=i\n",
    "    print(uni[s],count)\n",
    "    i+=1\n"
   ]
  },
  {
   "cell_type": "code",
   "execution_count": null,
   "metadata": {},
   "outputs": [],
   "source": []
  },
  {
   "cell_type": "code",
   "execution_count": null,
   "metadata": {},
   "outputs": [],
   "source": []
  },
  {
   "cell_type": "code",
   "execution_count": null,
   "metadata": {},
   "outputs": [],
   "source": []
  },
  {
   "cell_type": "code",
   "execution_count": null,
   "metadata": {},
   "outputs": [],
   "source": []
  },
  {
   "cell_type": "code",
   "execution_count": 20,
   "metadata": {},
   "outputs": [
    {
     "name": "stdout",
     "output_type": "stream",
     "text": [
      "['hai', 'hello', 'world', 'i', 'love', 'india', 'i', 'like', 'python']\n",
      "hwilp\n",
      "[['hai', 'hello'], ['world'], ['i', 'india', 'i'], ['love', 'like'], ['python']]\n"
     ]
    }
   ],
   "source": [
    "st='  hai hello world i love india i      like python'\n",
    "sp=' '\n",
    "res=''\n",
    "l=[]\n",
    "i=0\n",
    "while i<len(st):\n",
    "    if st[i]!=sp:\n",
    "        res+=st[i]\n",
    "    else:\n",
    "        if len(res)!=0:\n",
    "            l+=[res]\n",
    "            res=''\n",
    "    i+=1\n",
    "if len(res)!=0:\n",
    "    l+=[res]\n",
    "print(l)\n",
    "\n",
    "uni=''\n",
    "j=0\n",
    "while j<len(l):\n",
    "    if l[j][0] not in uni:\n",
    "        uni+=l[j][0]\n",
    "    j+=1\n",
    "print(uni)\n",
    "\n",
    "d=[]\n",
    "k=0\n",
    "while k<len(uni):\n",
    "    d+=[[]]\n",
    "    x=0\n",
    "    while x<len(l):\n",
    "        if uni[k]==l[x][0]:\n",
    "            d[-1]+=[l[x]]\n",
    "            # print(d)\n",
    "        x+=1\n",
    "    k+=1\n",
    "print(d)\n"
   ]
  },
  {
   "cell_type": "code",
   "execution_count": 32,
   "metadata": {},
   "outputs": [
    {
     "name": "stdout",
     "output_type": "stream",
     "text": [
      "['hai', 'hello', 'world', 'i', 'love', 'india', 'i', 'like', 'python']\n",
      "['h', 'a', 'i']\n"
     ]
    }
   ],
   "source": [
    "st='  hai hello world i love india i      like python'\n",
    "sp=' '\n",
    "res=''\n",
    "l=[]\n",
    "i=0\n",
    "while i<len(st):\n",
    "    if st[i]!=sp:\n",
    "        res+=st[i]\n",
    "    else:\n",
    "        if len(res)!=0:\n",
    "            l+=[res]\n",
    "            res=''\n",
    "    i+=1\n",
    "if len(res)!=0:\n",
    "    l+=[res]\n",
    "print(l)\n",
    "\n",
    "li=[]\n",
    "x=0\n",
    "k=0\n",
    "while x<len(l):\n",
    "    if len(l[x])==len(l[k]):\n",
    "        li+=l[x]\n",
    "    x+=1\n",
    "print(li)\n",
    "k+=1\n",
    "        \n",
    "\n"
   ]
  },
  {
   "cell_type": "code",
   "execution_count": 8,
   "metadata": {},
   "outputs": [
    {
     "name": "stdout",
     "output_type": "stream",
     "text": [
      "['hai', 'bye']\n"
     ]
    }
   ],
   "source": [
    "l=['hai','hello','bye']\n",
    "li=[]\n",
    "if len(l[0])==len(l[2]):\n",
    "    li+=l[0],l[2]\n",
    "    print(li)\n",
    "else:\n",
    "    print('no')"
   ]
  },
  {
   "cell_type": "code",
   "execution_count": 39,
   "metadata": {},
   "outputs": [
    {
     "ename": "IndexError",
     "evalue": "list index out of range",
     "output_type": "error",
     "traceback": [
      "\u001b[1;31m---------------------------------------------------------------------------\u001b[0m",
      "\u001b[1;31mIndexError\u001b[0m                                Traceback (most recent call last)",
      "Cell \u001b[1;32mIn[39], line 5\u001b[0m\n\u001b[0;32m      3\u001b[0m x\u001b[39m=\u001b[39m\u001b[39m0\u001b[39m\n\u001b[0;32m      4\u001b[0m \u001b[39mwhile\u001b[39;00m x\u001b[39m<\u001b[39m\u001b[39mlen\u001b[39m(l):\n\u001b[1;32m----> 5\u001b[0m     \u001b[39mif\u001b[39;00m \u001b[39mlen\u001b[39m(l[x])\u001b[39m==\u001b[39m\u001b[39mlen\u001b[39m(l[x\u001b[39m+\u001b[39;49m\u001b[39m1\u001b[39;49m]):\n\u001b[0;32m      6\u001b[0m         uni\u001b[39m+\u001b[39m\u001b[39m=\u001b[39ml[x]\n\u001b[0;32m      7\u001b[0m     x\u001b[39m+\u001b[39m\u001b[39m=\u001b[39m\u001b[39m1\u001b[39m\n",
      "\u001b[1;31mIndexError\u001b[0m: list index out of range"
     ]
    }
   ],
   "source": [
    "l=['hai','hello','world','egh']\n",
    "uni=''\n",
    "x=0\n",
    "while x<len(l):\n",
    "    if len(l[x])==len(l[x+1]):\n",
    "        uni+=l[x]\n",
    "    x+=1\n",
    "print(uni)"
   ]
  }
 ],
 "metadata": {
  "kernelspec": {
   "display_name": "Python 3",
   "language": "python",
   "name": "python3"
  },
  "language_info": {
   "codemirror_mode": {
    "name": "ipython",
    "version": 3
   },
   "file_extension": ".py",
   "mimetype": "text/x-python",
   "name": "python",
   "nbconvert_exporter": "python",
   "pygments_lexer": "ipython3",
   "version": "3.11.4"
  },
  "orig_nbformat": 4
 },
 "nbformat": 4,
 "nbformat_minor": 2
}
