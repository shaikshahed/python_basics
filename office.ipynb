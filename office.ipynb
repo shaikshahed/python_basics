{
 "cells": [
  {
   "cell_type": "code",
   "execution_count": 80,
   "metadata": {},
   "outputs": [
    {
     "name": "stdout",
     "output_type": "stream",
     "text": [
      "ba ck gro-u-nd is an isogram\n"
     ]
    }
   ],
   "source": [
    "# st='ba ck gro-u-nd'\n",
    "# def isogram(coll):\n",
    "#     uni=''\n",
    "#     i=0\n",
    "#     while i<len(coll):\n",
    "#         if coll[i] not in uni or coll[i] in [' ','-']:\n",
    "#             uni+=st[i]\n",
    "#         i+=1\n",
    "#     if uni==coll:\n",
    "#         print(coll,'is an isogram')\n",
    "#     else:\n",
    "#         print(coll,'is not an isogram')\n",
    "# isogram(st)\n"
   ]
  },
  {
   "cell_type": "code",
   "execution_count": 85,
   "metadata": {},
   "outputs": [
    {
     "name": "stdout",
     "output_type": "stream",
     "text": [
      "10 is not an armstrong number\n"
     ]
    }
   ],
   "source": [
    "# num=10\n",
    "# temp=num\n",
    "# count=0\n",
    "# while temp:\n",
    "#     count+=1\n",
    "#     temp=temp//10\n",
    "# sum1=0\n",
    "# res=num\n",
    "# while res:\n",
    "#     ld=res%10\n",
    "#     sum1=ld**count+sum1\n",
    "#     res=res//10\n",
    "# if sum1==num:\n",
    "#     print(num,'is an armstrong number')\n",
    "# else:\n",
    "#     print(num,'is not an armstrong number')"
   ]
  },
  {
   "cell_type": "code",
   "execution_count": 90,
   "metadata": {},
   "outputs": [
    {
     "name": "stdout",
     "output_type": "stream",
     "text": [
      "154 is not an armstrong number\n"
     ]
    }
   ],
   "source": [
    "# num=154\n",
    "# def armstrong(st):\n",
    "#     temp=st\n",
    "#     count=0\n",
    "#     while temp:\n",
    "#         count+=1\n",
    "#         temp=temp//10\n",
    "#     sum1=0\n",
    "#     res=st\n",
    "#     while res:\n",
    "#         ld=res%10\n",
    "#         sum1=ld**count+sum1\n",
    "#         res=res//10\n",
    "#     if sum1==st:\n",
    "#         print(st,'is an armstrong number')\n",
    "#     else:\n",
    "#         print(st,'is not an armstrong number')\n",
    "# armstrong(num)"
   ]
  },
  {
   "cell_type": "code",
   "execution_count": 98,
   "metadata": {},
   "outputs": [
    {
     "data": {
      "text/plain": [
       "13"
      ]
     },
     "execution_count": 98,
     "metadata": {},
     "output_type": "execute_result"
    }
   ],
   "source": [
    "# st='13'\n",
    "# def answer(question):\n",
    "#     # Iteration 0\n",
    "#     if question.isnumeric():\n",
    "#         return int(question)\n",
    "\n",
    "#     # Iteration 1\n",
    "#     if \"plus\" in question:\n",
    "#         numbers = [int(num) for num in question.split() if num.isdigit()]\n",
    "#         return sum(numbers)\n",
    "\n",
    "#     # Iteration 2\n",
    "#     if \"minus\" in question:\n",
    "#         numbers = [int(num) for num in question.split() if num.isdigit()]\n",
    "#         return numbers[0] - numbers[1]\n",
    "    \n",
    "#     if \"multiplied by\" in question:\n",
    "#         numbers = [int(num) for num in question.split() if num.isdigit()]\n",
    "#         return numbers[0] * numbers[1]\n",
    "\n",
    "#     if \"divided by\" in question:\n",
    "#         numbers = [int(num) for num in question.split() if num.isdigit()]\n",
    "#         return numbers[0] / numbers[1]\n",
    "\n",
    "#     # Iteration 3\n",
    "#     if \"plus\" in question and \"multiplied by\" in question:\n",
    "#         numbers = [int(num) for num in question.split() if num.isdigit()]\n",
    "#         result = numbers[0]\n",
    "#         for i in range(1, len(numbers), 2):\n",
    "#             if question.split()[i] == \"plus\":\n",
    "#                 result += numbers[i + 1]\n",
    "#             elif question.split()[i] == \"multiplied\":\n",
    "#                 result *= numbers[i + 2]\n",
    "#         return result\n",
    "\n",
    "#     # Iteration 4\n",
    "#     raise ValueError(\"unknown operation\")\n",
    "# answer(st)\n"
   ]
  },
  {
   "cell_type": "code",
   "execution_count": 47,
   "metadata": {},
   "outputs": [
    {
     "name": "stdout",
     "output_type": "stream",
     "text": [
      "3 3 megaohms 2\n"
     ]
    }
   ],
   "source": [
    "d={'black':0,'brown':1,'red':2,'orange':3,'yellow':4,'green':5,'blue':6,'violet':7,'grey':8,'white':9}\n",
    "t={'grey':0.05,'violet':0.10,'blue':0.25,'green':0.5,'brown':1,'red':2,'gold':5,'silver':10}\n",
    "band=int(input())\n",
    "if band==1:\n",
    "    print(d['black'])\n",
    "elif band==3:\n",
    "    s1,s2,s3=input(),input(),input()\n",
    "    print(d[s1],d[s2],d[s3]*'0')\n",
    "elif band==4:\n",
    "    s1,s2,s3,s4=input(),input(),input(),input()\n",
    "    if s3=='black':\n",
    "        print(d[s1],d[s2],'ohms',t[s4],'% tolerance')\n",
    "    elif s3=='orange':\n",
    "        print(d[s1],d[s2],'kiloohms',t[s4])\n",
    "    elif s3=='blue':\n",
    "        print(d[s1],d[s2],'megaohms',t[s4])\n",
    "    else:\n",
    "        print(d[s1],d[s2],d[s3]*'0',t[s4],'% tolerance')\n",
    "elif band==5:\n",
    "    s1,s2,s3,s4,s5=input(),input(),input(),input(),input()\n",
    "    if s4=='black':\n",
    "        print(d[s1],d[s2],d[s3],t[s5])\n",
    "    elif s4=='blue':\n",
    "        print(d[s1],d[s2],d[s3],'M',t[s5])"
   ]
  }
 ],
 "metadata": {
  "kernelspec": {
   "display_name": "Python 3",
   "language": "python",
   "name": "python3"
  },
  "language_info": {
   "codemirror_mode": {
    "name": "ipython",
    "version": 3
   },
   "file_extension": ".py",
   "mimetype": "text/x-python",
   "name": "python",
   "nbconvert_exporter": "python",
   "pygments_lexer": "ipython3",
   "version": "3.11.4"
  }
 },
 "nbformat": 4,
 "nbformat_minor": 2
}
