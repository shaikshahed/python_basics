{
 "cells": [
  {
   "cell_type": "code",
   "execution_count": 80,
   "metadata": {},
   "outputs": [
    {
     "name": "stdout",
     "output_type": "stream",
     "text": [
      "ba ck gro-u-nd is an isogram\n"
     ]
    }
   ],
   "source": [
    "# st='ba ck gro-u-nd'\n",
    "# def isogram(coll):\n",
    "#     uni=''\n",
    "#     i=0\n",
    "#     while i<len(coll):\n",
    "#         if coll[i] not in uni or coll[i] in [' ','-']:\n",
    "#             uni+=st[i]\n",
    "#         i+=1\n",
    "#     if uni==coll:\n",
    "#         print(coll,'is an isogram')\n",
    "#     else:\n",
    "#         print(coll,'is not an isogram')\n",
    "# isogram(st)\n"
   ]
  },
  {
   "cell_type": "code",
   "execution_count": 85,
   "metadata": {},
   "outputs": [
    {
     "name": "stdout",
     "output_type": "stream",
     "text": [
      "10 is not an armstrong number\n"
     ]
    }
   ],
   "source": [
    "# num=10\n",
    "# temp=num\n",
    "# count=0\n",
    "# while temp:\n",
    "#     count+=1\n",
    "#     temp=temp//10\n",
    "# sum1=0\n",
    "# res=num\n",
    "# while res:\n",
    "#     ld=res%10\n",
    "#     sum1=ld**count+sum1\n",
    "#     res=res//10\n",
    "# if sum1==num:\n",
    "#     print(num,'is an armstrong number')\n",
    "# else:\n",
    "#     print(num,'is not an armstrong number')"
   ]
  },
  {
   "cell_type": "code",
   "execution_count": 90,
   "metadata": {},
   "outputs": [
    {
     "name": "stdout",
     "output_type": "stream",
     "text": [
      "154 is not an armstrong number\n"
     ]
    }
   ],
   "source": [
    "# num=154\n",
    "# def armstrong(st):\n",
    "#     temp=st\n",
    "#     count=0\n",
    "#     while temp:\n",
    "#         count+=1\n",
    "#         temp=temp//10\n",
    "#     sum1=0\n",
    "#     res=st\n",
    "#     while res:\n",
    "#         ld=res%10\n",
    "#         sum1=ld**count+sum1\n",
    "#         res=res//10\n",
    "#     if sum1==st:\n",
    "#         print(st,'is an armstrong number')\n",
    "#     else:\n",
    "#         print(st,'is not an armstrong number')\n",
    "# armstrong(num)"
   ]
  },
  {
   "cell_type": "code",
   "execution_count": 98,
   "metadata": {},
   "outputs": [
    {
     "data": {
      "text/plain": [
       "13"
      ]
     },
     "execution_count": 98,
     "metadata": {},
     "output_type": "execute_result"
    }
   ],
   "source": [
    "# st='13'\n",
    "# def answer(question):\n",
    "#     # Iteration 0\n",
    "#     if question.isnumeric():\n",
    "#         return int(question)\n",
    "\n",
    "#     # Iteration 1\n",
    "#     if \"plus\" in question:\n",
    "#         numbers = [int(num) for num in question.split() if num.isdigit()]\n",
    "#         return sum(numbers)\n",
    "\n",
    "#     # Iteration 2\n",
    "#     if \"minus\" in question:\n",
    "#         numbers = [int(num) for num in question.split() if num.isdigit()]\n",
    "#         return numbers[0] - numbers[1]\n",
    "    \n",
    "#     if \"multiplied by\" in question:\n",
    "#         numbers = [int(num) for num in question.split() if num.isdigit()]\n",
    "#         return numbers[0] * numbers[1]\n",
    "\n",
    "#     if \"divided by\" in question:\n",
    "#         numbers = [int(num) for num in question.split() if num.isdigit()]\n",
    "#         return numbers[0] / numbers[1]\n",
    "\n",
    "#     # Iteration 3\n",
    "#     if \"plus\" in question and \"multiplied by\" in question:\n",
    "#         numbers = [int(num) for num in question.split() if num.isdigit()]\n",
    "#         result = numbers[0]\n",
    "#         for i in range(1, len(numbers), 2):\n",
    "#             if question.split()[i] == \"plus\":\n",
    "#                 result += numbers[i + 1]\n",
    "#             elif question.split()[i] == \"multiplied\":\n",
    "#                 result *= numbers[i + 2]\n",
    "#         return result\n",
    "\n",
    "#     # Iteration 4\n",
    "#     raise ValueError(\"unknown operation\")\n",
    "# answer(st)\n"
   ]
  },
  {
   "cell_type": "code",
   "execution_count": 133,
   "metadata": {},
   "outputs": [
    {
     "ename": "SyntaxError",
     "evalue": "invalid syntax (3234702516.py, line 8)",
     "output_type": "error",
     "traceback": [
      "\u001b[1;36m  Cell \u001b[1;32mIn[133], line 8\u001b[1;36m\u001b[0m\n\u001b[1;33m    s=for i in st.split():\u001b[0m\n\u001b[1;37m      ^\u001b[0m\n\u001b[1;31mSyntaxError\u001b[0m\u001b[1;31m:\u001b[0m invalid syntax\n"
     ]
    }
   ],
   "source": [
    "st='13 plus 5'\n",
    "sol1=''\n",
    "if st.isnumeric():\n",
    "    print(int(st))\n",
    "\n",
    "if 'plus' in st:\n",
    "    res1=int(i)\n",
    "    s=for i in st.split():\n",
    "        if i.isdigit():\n",
    "            print(sum(s))\n"
   ]
  }
 ],
 "metadata": {
  "kernelspec": {
   "display_name": "Python 3",
   "language": "python",
   "name": "python3"
  },
  "language_info": {
   "codemirror_mode": {
    "name": "ipython",
    "version": 3
   },
   "file_extension": ".py",
   "mimetype": "text/x-python",
   "name": "python",
   "nbconvert_exporter": "python",
   "pygments_lexer": "ipython3",
   "version": "3.11.4"
  }
 },
 "nbformat": 4,
 "nbformat_minor": 2
}
