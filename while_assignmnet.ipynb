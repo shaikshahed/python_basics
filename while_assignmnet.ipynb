{
 "cells": [
  {
   "cell_type": "code",
   "execution_count": 1,
   "metadata": {},
   "outputs": [
    {
     "name": "stdout",
     "output_type": "stream",
     "text": [
      "hello world\n",
      "hello world\n",
      "hello world\n",
      "hello world\n",
      "hello world\n"
     ]
    }
   ],
   "source": [
    "#1. WAP to print the 'hello world for 5 times by using while loop. \n",
    "start=0\n",
    "end=5\n",
    "while start<end:\n",
    "    print('hello world')\n",
    "    start+=1 "
   ]
  },
  {
   "cell_type": "code",
   "execution_count": 2,
   "metadata": {},
   "outputs": [
    {
     "name": "stdout",
     "output_type": "stream",
     "text": [
      "1\n",
      "2\n",
      "3\n",
      "4\n",
      "5\n",
      "6\n",
      "7\n",
      "8\n",
      "9\n",
      "10\n"
     ]
    }
   ],
   "source": [
    "#2. WAP to print the numbers from 1 to 10 by using while loop. \n",
    "start=1\n",
    "end=10\n",
    "while start<=end:\n",
    "    print(start)\n",
    "    start+=1\n"
   ]
  },
  {
   "cell_type": "code",
   "execution_count": 4,
   "metadata": {},
   "outputs": [
    {
     "name": "stdout",
     "output_type": "stream",
     "text": [
      "1\n",
      "2\n",
      "3\n",
      "4\n",
      "5\n"
     ]
    }
   ],
   "source": [
    "#3. WAP to print the natural numbers until 1 to nth times by using while loop. \n",
    "start=1\n",
    "end=int(input())\n",
    "while start<=end:\n",
    "    print(start)\n",
    "    start+=1"
   ]
  },
  {
   "cell_type": "code",
   "execution_count": 8,
   "metadata": {},
   "outputs": [
    {
     "name": "stdout",
     "output_type": "stream",
     "text": [
      "5\n",
      "4\n",
      "3\n",
      "2\n",
      "1\n"
     ]
    }
   ],
   "source": [
    "\n",
    "#4. WAP to print the reverse of the natural number nth to 0 times by using a while loop. \n",
    "start=int(input())\n",
    "end=0\n",
    "while start>end:\n",
    "    print(start)\n",
    "    start-=1"
   ]
  },
  {
   "cell_type": "code",
   "execution_count": 10,
   "metadata": {},
   "outputs": [
    {
     "name": "stdout",
     "output_type": "stream",
     "text": [
      "0\n",
      "1\n",
      "2\n",
      "3\n",
      "4\n",
      "5\n"
     ]
    }
   ],
   "source": [
    "#5. WAP to print the whole numbers until nth times by using while loop.\n",
    "start=0\n",
    "end=int(input())\n",
    "while start<=end:\n",
    "    print(start)\n",
    "    start+=1"
   ]
  },
  {
   "cell_type": "code",
   "execution_count": 2,
   "metadata": {},
   "outputs": [
    {
     "name": "stdout",
     "output_type": "stream",
     "text": [
      "5\n",
      "4\n",
      "3\n",
      "2\n",
      "1\n",
      "0\n"
     ]
    }
   ],
   "source": [
    "#6. WAP to print the reverse of the whole number until nth times by using a while loop.\n",
    "start=int(input())\n",
    "end=0\n",
    "while start>=end:\n",
    "    print(start)\n",
    "    start-=1"
   ]
  },
  {
   "cell_type": "code",
   "execution_count": 12,
   "metadata": {},
   "outputs": [
    {
     "name": "stdout",
     "output_type": "stream",
     "text": [
      "0\n",
      "2\n",
      "4\n",
      "6\n",
      "8\n"
     ]
    }
   ],
   "source": [
    "#7. WAP to print the even number until nth times by using a while loop.\n",
    "start=0\n",
    "end=int(input())\n",
    "while start<=end:\n",
    "    if start%2==0:\n",
    "        print(start)\n",
    "    start+=1"
   ]
  },
  {
   "cell_type": "code",
   "execution_count": 13,
   "metadata": {},
   "outputs": [
    {
     "name": "stdout",
     "output_type": "stream",
     "text": [
      "8\n",
      "6\n",
      "4\n",
      "2\n",
      "0\n"
     ]
    }
   ],
   "source": [
    "#8. WAP to print reverse the even number until nth times by using a while loop.\n",
    "start=int(input())\n",
    "end=0\n",
    "while start>=end:\n",
    "    if start%2==0:\n",
    "        print(start)\n",
    "    start-=1"
   ]
  },
  {
   "cell_type": "code",
   "execution_count": 14,
   "metadata": {},
   "outputs": [
    {
     "name": "stdout",
     "output_type": "stream",
     "text": [
      "1\n",
      "3\n",
      "5\n",
      "7\n",
      "9\n"
     ]
    }
   ],
   "source": [
    "#9. WAP to print the odd number until nth times by using a while loop.\n",
    "start=1\n",
    "end=int(input())\n",
    "while start<=end:\n",
    "    if start%2!=0:\n",
    "        print(start)\n",
    "    start+=1"
   ]
  },
  {
   "cell_type": "code",
   "execution_count": 15,
   "metadata": {},
   "outputs": [
    {
     "name": "stdout",
     "output_type": "stream",
     "text": [
      "9\n",
      "7\n",
      "5\n",
      "3\n",
      "1\n"
     ]
    }
   ],
   "source": [
    "#10. WAP to print reverse the odd numeber until the nth times by using a while loop.\n",
    "start=int(input())\n",
    "end=1\n",
    "while start>=end:\n",
    "    if start%2!=0:\n",
    "        print(start)\n",
    "    start-=1"
   ]
  },
  {
   "cell_type": "code",
   "execution_count": 22,
   "metadata": {},
   "outputs": [
    {
     "name": "stdout",
     "output_type": "stream",
     "text": [
      "5 * 1 = 5\n",
      "5 * 2 = 10\n",
      "5 * 3 = 15\n",
      "5 * 4 = 20\n",
      "5 * 5 = 25\n",
      "5 * 6 = 30\n",
      "5 * 7 = 35\n",
      "5 * 8 = 40\n",
      "5 * 9 = 45\n",
      "5 * 10 = 50\n",
      "5 * 11 = 55\n",
      "5 * 12 = 60\n",
      "5 * 13 = 65\n",
      "5 * 14 = 70\n",
      "5 * 15 = 75\n",
      "5 * 16 = 80\n",
      "5 * 17 = 85\n",
      "5 * 18 = 90\n",
      "5 * 19 = 95\n",
      "5 * 20 = 100\n"
     ]
    }
   ],
   "source": [
    "#11. WAP to print nth table 1 to 20,format 5*1=5 to 5*20=100.\n",
    "num=int(input())\n",
    "start=1\n",
    "end=20\n",
    "while start<=end:\n",
    "    num2=num*start\n",
    "    print(num,'*',start,'=',num2)\n",
    "    start+=1"
   ]
  },
  {
   "cell_type": "code",
   "execution_count": 23,
   "metadata": {},
   "outputs": [
    {
     "name": "stdout",
     "output_type": "stream",
     "text": [
      "5 * 20 = 100\n",
      "5 * 19 = 95\n",
      "5 * 18 = 90\n",
      "5 * 17 = 85\n",
      "5 * 16 = 80\n",
      "5 * 15 = 75\n",
      "5 * 14 = 70\n",
      "5 * 13 = 65\n",
      "5 * 12 = 60\n",
      "5 * 11 = 55\n",
      "5 * 10 = 50\n",
      "5 * 9 = 45\n",
      "5 * 8 = 40\n",
      "5 * 7 = 35\n",
      "5 * 6 = 30\n",
      "5 * 5 = 25\n",
      "5 * 4 = 20\n",
      "5 * 3 = 15\n",
      "5 * 2 = 10\n",
      "5 * 1 = 5\n"
     ]
    }
   ],
   "source": [
    "#12. WAP to print the nth table 20 to 1,format 5*20=100 to 5*1=5.\n",
    "num=int(input())\n",
    "start=20\n",
    "end=1\n",
    "while start>=end:\n",
    "    num2=num*start\n",
    "    print(num,'*',start,'=',num2)\n",
    "    start-=1"
   ]
  },
  {
   "cell_type": "code",
   "execution_count": 25,
   "metadata": {},
   "outputs": [
    {
     "name": "stdout",
     "output_type": "stream",
     "text": [
      "27\n",
      "30\n",
      "33\n",
      "36\n",
      "39\n",
      "42\n",
      "45\n",
      "48\n",
      "51\n",
      "54\n",
      "57\n",
      "60\n",
      "63\n",
      "66\n"
     ]
    }
   ],
   "source": [
    "#13. WAP to  print the numbers which are divisible by 3 from 25 to 66.\n",
    "start=25\n",
    "end=66\n",
    "while start<=end:\n",
    "    if start%3==0:\n",
    "        print(start)\n",
    "    start+=1"
   ]
  },
  {
   "cell_type": "code",
   "execution_count": 26,
   "metadata": {},
   "outputs": [
    {
     "name": "stdout",
     "output_type": "stream",
     "text": [
      "15\n",
      "30\n",
      "45\n",
      "60\n",
      "75\n"
     ]
    }
   ],
   "source": [
    "#14. WAP to print the numbers which are divisible by 3 and 5 from 15 to 76.\n",
    "start=15\n",
    "end=76\n",
    "while start<=end:\n",
    "    if start%3==0 and start%5==0:\n",
    "        print(start)\n",
    "    start+=1"
   ]
  },
  {
   "cell_type": "code",
   "execution_count": 28,
   "metadata": {},
   "outputs": [
    {
     "name": "stdout",
     "output_type": "stream",
     "text": [
      "70\n",
      "35\n"
     ]
    }
   ],
   "source": [
    "#15. WAP to print the numbers which are divisible by 5 and 7 from 77 to 22.\n",
    "start=77\n",
    "end=22\n",
    "while start>=end:\n",
    "    if start%5==0 and start%7==0:\n",
    "        print(start)\n",
    "    start-=1"
   ]
  },
  {
   "cell_type": "code",
   "execution_count": 35,
   "metadata": {},
   "outputs": [
    {
     "name": "stdout",
     "output_type": "stream",
     "text": [
      "3 love you\n",
      "5 hate you\n",
      "6 love you\n",
      "9 love you\n",
      "10 hate you\n",
      "12 love you\n",
      "15 love you\n",
      "15 hate you\n",
      "15 i like you\n",
      "18 love you\n",
      "20 hate you\n",
      "21 love you\n",
      "24 love you\n",
      "25 hate you\n",
      "27 love you\n",
      "30 love you\n",
      "30 hate you\n",
      "30 i like you\n"
     ]
    }
   ],
   "source": [
    "#16. WAP to print the \"love you\" if divisible by 3, or print \"hate you\" value if divisible by 5, to print \"i like you\" if divisible by 3 and 5, from 1 to 30.\n",
    "start=1\n",
    "end=30\n",
    "while start<=end:\n",
    "    if start%3==0:\n",
    "        print(start, \"love you\")\n",
    "    if start%5==0:\n",
    "        print(start, \"hate you\")\n",
    "    if start%3==0 and start%5==0:\n",
    "        print(start, \"i like you\")\n",
    "    start+=1"
   ]
  },
  {
   "cell_type": "code",
   "execution_count": 45,
   "metadata": {},
   "outputs": [
    {
     "name": "stdout",
     "output_type": "stream",
     "text": [
      "1\n",
      "3\n",
      "6\n",
      "10\n",
      "15\n",
      "21\n",
      "28\n",
      "36\n",
      "45\n",
      "55\n"
     ]
    }
   ],
   "source": [
    "#17. WAP to print the sum of 1 to nth natural numbers.\n",
    "start=1\n",
    "end=int(input())   #10\n",
    "sum1=0\n",
    "while start<=end:\n",
    "    sum1+=start\n",
    "    start+=1\n",
    "print(sum1)\n",
    "#or\n",
    "# start=1\n",
    "# end=int(input())   #10\n",
    "# sum1=0\n",
    "# while start<=end:\n",
    "#     sum1+=start\n",
    "#     print(sum1)\n",
    "#     start+=1\n"
   ]
  },
  {
   "cell_type": "code",
   "execution_count": 62,
   "metadata": {},
   "outputs": [
    {
     "name": "stdout",
     "output_type": "stream",
     "text": [
      "110\n"
     ]
    }
   ],
   "source": [
    "#18. WAP to print sum of the even numbers 1 to 20 numbers.\n",
    "start=0\n",
    "end=20\n",
    "sum1=0\n",
    "while start<=end:\n",
    "    if start%2==0:\n",
    "        sum1+=start\n",
    "    start+=1\n",
    "print(sum1)"
   ]
  },
  {
   "cell_type": "code",
   "execution_count": 94,
   "metadata": {},
   "outputs": [
    {
     "name": "stdout",
     "output_type": "stream",
     "text": [
      "720\n"
     ]
    }
   ],
   "source": [
    "#19. WAP to print products of 1 to 6 numbers.\n",
    "start=1\n",
    "end=6\n",
    "pr=1\n",
    "while start<=end:  \n",
    "    pr*=start\n",
    "    start+=1\n",
    "print(pr)\n"
   ]
  },
  {
   "cell_type": "code",
   "execution_count": 77,
   "metadata": {},
   "outputs": [
    {
     "name": "stdout",
     "output_type": "stream",
     "text": [
      "15\n"
     ]
    }
   ],
   "source": [
    "#20. WAP to count the no of odd values from 1 to 30.\n",
    "start=1\n",
    "end=30\n",
    "count=0\n",
    "while start<=end:\n",
    "    if start%2!=0:\n",
    "        count+=1\n",
    "    start+=1\n",
    "print(count)"
   ]
  },
  {
   "cell_type": "code",
   "execution_count": 2,
   "metadata": {},
   "outputs": [
    {
     "name": "stdout",
     "output_type": "stream",
     "text": [
      "1\n",
      "2\n",
      "3\n"
     ]
    }
   ],
   "source": [
    "#21. WAP to print the factors of the given number. \n",
    "num=int(input())     \n",
    "i=1 \n",
    "while i<num:\n",
    "    if num%i==0:\n",
    "        print(i)\n",
    "    i+=1"
   ]
  },
  {
   "cell_type": "code",
   "execution_count": 3,
   "metadata": {},
   "outputs": [
    {
     "name": "stdout",
     "output_type": "stream",
     "text": [
      "8\n"
     ]
    }
   ],
   "source": [
    "#22. WAP to print sum of factors of the given number. \n",
    "num=int(input())    #10\n",
    "i=1 \n",
    "sum1=0\n",
    "while i<num:\n",
    "    if num%i==0:\n",
    "        sum1+=i\n",
    "    i+=1 \n",
    "print(sum1)"
   ]
  },
  {
   "cell_type": "code",
   "execution_count": 4,
   "metadata": {},
   "outputs": [
    {
     "name": "stdout",
     "output_type": "stream",
     "text": [
      "144\n"
     ]
    }
   ],
   "source": [
    "#23. WAP to print product of factors of the given number.\n",
    "num=int(input())       #12\n",
    "i=1 \n",
    "pr=1 \n",
    "while i<num:\n",
    "    if num%i==0:\n",
    "        pr*=i \n",
    "    i+=1 \n",
    "print(pr)"
   ]
  },
  {
   "cell_type": "code",
   "execution_count": 5,
   "metadata": {},
   "outputs": [
    {
     "name": "stdout",
     "output_type": "stream",
     "text": [
      "0\n",
      "1\n",
      "1\n",
      "2\n",
      "3\n",
      "5\n",
      "8\n"
     ]
    }
   ],
   "source": [
    "#24. WAP to print Fibonacci series 0 to nth.\n",
    "num=int(input())     #5\n",
    "a=0\n",
    "b=1\n",
    "print(a)\n",
    "print(b)\n",
    "while num:\n",
    "    c=a+b \n",
    "    print(c)\n",
    "    a,b=b,c\n",
    "    num-=1"
   ]
  },
  {
   "cell_type": "code",
   "execution_count": 6,
   "metadata": {},
   "outputs": [
    {
     "name": "stdout",
     "output_type": "stream",
     "text": [
      "120\n"
     ]
    }
   ],
   "source": [
    "#25. WAP to print factorial of a given number.\n",
    "start=1                #5\n",
    "num=int(input())\n",
    "pr=1 \n",
    "while start<=num:\n",
    "    pr*=start\n",
    "    start+=1 \n",
    "print(pr)"
   ]
  },
  {
   "cell_type": "code",
   "execution_count": 35,
   "metadata": {},
   "outputs": [
    {
     "name": "stdout",
     "output_type": "stream",
     "text": [
      "6 720\n",
      "7 5040\n",
      "8 40320\n",
      "9 362880\n"
     ]
    }
   ],
   "source": [
    "#26. WAP to print the factorial in the given range m to n. \n",
    "m=6\n",
    "n=9\n",
    "while m<=n:\n",
    "    # a=m\n",
    "    b=1\n",
    "    pr=1\n",
    "    while b<=m:\n",
    "        pr*=b\n",
    "        b+=1\n",
    "    print(f'{m} {pr}')\n",
    "    m+=1"
   ]
  },
  {
   "cell_type": "code",
   "execution_count": 56,
   "metadata": {},
   "outputs": [
    {
     "name": "stdout",
     "output_type": "stream",
     "text": [
      "prime\n"
     ]
    }
   ],
   "source": [
    "#27. WAP to check whether a given number is a prime or not. \n",
    "m=1\n",
    "n=7\n",
    "count=0\n",
    "while m<=n:\n",
    "    if n%m==0:\n",
    "        count+=1\n",
    "    m+=1\n",
    "if count==2:\n",
    "    print('prime')\n",
    "else:\n",
    "    print('not prime')"
   ]
  },
  {
   "cell_type": "code",
   "execution_count": 101,
   "metadata": {},
   "outputs": [
    {
     "name": "stdout",
     "output_type": "stream",
     "text": [
      "7\n",
      "11\n",
      "13\n",
      "17\n",
      "19\n",
      "23\n"
     ]
    }
   ],
   "source": [
    "#28. WAP to print the prime numbers in the given range. \n",
    "m=6\n",
    "n=26\n",
    "while m<=n:\n",
    "    start=m\n",
    "    i=1\n",
    "    count=0\n",
    "    while i<=start:\n",
    "        if start%i==0:\n",
    "            count+=1\n",
    "        i+=1\n",
    "    if count==2:\n",
    "        print(m)\n",
    "    m+=1\n",
    "\n",
    "# m=101\n",
    "# n=200\n",
    "# while(m<=n):\n",
    "#     i=1\n",
    "#     k=m\n",
    "#     count=0\n",
    "#     while(i<=k):\n",
    "#          if(k%i==0):\n",
    "#             count+=1\n",
    "#          i+=1     \n",
    "             \n",
    "               \n",
    "  \n",
    "#     if(count==2):\n",
    "#         print(k)\n",
    "        \n",
    "#     m+=1\n"
   ]
  },
  {
   "cell_type": "code",
   "execution_count": 3,
   "metadata": {},
   "outputs": [
    {
     "name": "stdout",
     "output_type": "stream",
     "text": [
      "153\n"
     ]
    }
   ],
   "source": [
    "#29. WAP to check whether a given number is an armstrong number or not.\n",
    "n=153\n",
    "temp=n\n",
    "sum1=0\n",
    "while n:\n",
    "    ld=n%10\n",
    "    sum1+=ld**3\n",
    "    n=n//10\n",
    "if temp==sum1:\n",
    "    print(temp)\n",
    "else:\n",
    "    print('not a armstrong number')\n",
    "\n"
   ]
  },
  {
   "cell_type": "code",
   "execution_count": 113,
   "metadata": {},
   "outputs": [
    {
     "name": "stdout",
     "output_type": "stream",
     "text": [
      "153\n",
      "370\n",
      "371\n",
      "407\n"
     ]
    }
   ],
   "source": [
    "#30. WAP to print armstrong numbers in a given range from m to n.\n",
    "start=100\n",
    "end=1000\n",
    "while start<=end:\n",
    "    n=start \n",
    "    s=start\n",
    "    temp=start\n",
    "    s1=0\n",
    "    count=0\n",
    "    while s:\n",
    "        count+=1\n",
    "        s=s//10\n",
    "    while n:\n",
    "        ld=n%10\n",
    "        s1+=ld**count\n",
    "        n=n//10\n",
    "    if s1==temp:\n",
    "        print(s1)\n",
    "    start+=1\n",
    "\n",
    "\n"
   ]
  },
  {
   "cell_type": "code",
   "execution_count": 122,
   "metadata": {},
   "outputs": [
    {
     "name": "stdout",
     "output_type": "stream",
     "text": [
      "11\n",
      "13\n",
      "17\n",
      "19\n"
     ]
    }
   ],
   "source": [
    "#31. WAP to print prime numbers in a given range.\n",
    "start=10\n",
    "end=20\n",
    "while start<=end:\n",
    "    m=start\n",
    "    count=0\n",
    "    i=1\n",
    "    while i<=m:\n",
    "        if m%i==0:\n",
    "            count+=1\n",
    "        i+=1\n",
    "    if count==2:\n",
    "        print(m)\n",
    "    start+=1\n"
   ]
  },
  {
   "cell_type": "code",
   "execution_count": 123,
   "metadata": {},
   "outputs": [
    {
     "name": "stdout",
     "output_type": "stream",
     "text": [
      "0\n",
      "1\n",
      "1\n",
      "2\n",
      "3\n",
      "5\n",
      "8\n",
      "13\n",
      "21\n",
      "34\n",
      "55\n",
      "89\n",
      "144\n",
      "233\n",
      "377\n",
      "610\n",
      "987\n",
      "1597\n",
      "2584\n",
      "4181\n",
      "6765\n",
      "10946\n",
      "17711\n",
      "28657\n",
      "46368\n",
      "75025\n",
      "121393\n",
      "196418\n",
      "317811\n",
      "514229\n",
      "832040\n",
      "1346269\n",
      "2178309\n",
      "3524578\n",
      "5702887\n",
      "9227465\n",
      "14930352\n",
      "24157817\n",
      "39088169\n",
      "63245986\n",
      "102334155\n",
      "165580141\n",
      "267914296\n",
      "433494437\n",
      "701408733\n",
      "1134903170\n",
      "1836311903\n",
      "2971215073\n",
      "4807526976\n",
      "7778742049\n",
      "12586269025\n",
      "20365011074\n",
      "32951280099\n",
      "53316291173\n",
      "86267571272\n",
      "139583862445\n",
      "225851433717\n",
      "365435296162\n",
      "591286729879\n",
      "956722026041\n",
      "1548008755920\n",
      "2504730781961\n",
      "4052739537881\n",
      "6557470319842\n",
      "10610209857723\n",
      "17167680177565\n",
      "27777890035288\n",
      "44945570212853\n",
      "72723460248141\n",
      "117669030460994\n",
      "190392490709135\n",
      "308061521170129\n",
      "498454011879264\n",
      "806515533049393\n",
      "1304969544928657\n",
      "2111485077978050\n",
      "3416454622906707\n",
      "5527939700884757\n",
      "8944394323791464\n",
      "14472334024676221\n",
      "23416728348467685\n",
      "37889062373143906\n",
      "61305790721611591\n",
      "99194853094755497\n",
      "160500643816367088\n",
      "259695496911122585\n",
      "420196140727489673\n",
      "679891637638612258\n",
      "1100087778366101931\n",
      "1779979416004714189\n",
      "2880067194370816120\n",
      "4660046610375530309\n",
      "7540113804746346429\n",
      "12200160415121876738\n",
      "19740274219868223167\n",
      "31940434634990099905\n",
      "51680708854858323072\n",
      "83621143489848422977\n",
      "135301852344706746049\n",
      "218922995834555169026\n",
      "354224848179261915075\n",
      "573147844013817084101\n"
     ]
    }
   ],
   "source": [
    "#32. WAP to print 1 to 100 prime numbers in fibonacci series.\n",
    "a=0\n",
    "b=1\n",
    "print(a)\n",
    "print(b)\n",
    "num=100\n",
    "while num:\n",
    "    c=a+b\n",
    "    print(c)\n",
    "    a,b=b,c\n",
    "    num-=1\n"
   ]
  },
  {
   "cell_type": "code",
   "execution_count": 2,
   "metadata": {},
   "outputs": [
    {
     "ename": "KeyboardInterrupt",
     "evalue": "",
     "output_type": "error",
     "traceback": [
      "\u001b[1;31m---------------------------------------------------------------------------\u001b[0m",
      "\u001b[1;31mKeyboardInterrupt\u001b[0m                         Traceback (most recent call last)",
      "Cell \u001b[1;32mIn[2], line 6\u001b[0m\n\u001b[0;32m      4\u001b[0m end\u001b[39m=\u001b[39m\u001b[39mlen\u001b[39m(st)\n\u001b[0;32m      5\u001b[0m count\u001b[39m=\u001b[39m\u001b[39m0\u001b[39m\n\u001b[1;32m----> 6\u001b[0m \u001b[39mwhile\u001b[39;00m start\u001b[39m<\u001b[39mend:\n\u001b[0;32m      7\u001b[0m     i\u001b[39m=\u001b[39m\u001b[39m1\u001b[39m\n\u001b[0;32m      8\u001b[0m     \u001b[39mif\u001b[39;00m st[start]\u001b[39m%\u001b[39mi\u001b[39m==\u001b[39m\u001b[39m0\u001b[39m:\n",
      "\u001b[1;31mKeyboardInterrupt\u001b[0m: "
     ]
    }
   ],
   "source": [
    "#33. WAP to print sum of prime numbers in a given collection.\n",
    "st=[1,2,3,4,5,6,7,8,9]\n",
    "start=0\n",
    "end=len(st)\n",
    "count=0\n",
    "while start<=end:\n",
    "    i=1\n",
    "    if st[start]%i==0:\n",
    "        count+=1\n",
    "    i+=1\n",
    "if count==2:\n",
    "    print(st[start])\n",
    "start+=1"
   ]
  },
  {
   "cell_type": "code",
   "execution_count": 7,
   "metadata": {},
   "outputs": [
    {
     "name": "stdout",
     "output_type": "stream",
     "text": [
      "palindrome\n"
     ]
    }
   ],
   "source": [
    "#34. WAP to the given number is palindrome or not.\n",
    "n=1221\n",
    "temp=n\n",
    "res=0\n",
    "while n:\n",
    "    ld=n%10\n",
    "    res=(res*10)+ld\n",
    "    n=n//10\n",
    "if res==temp:\n",
    "    print('palindrome')\n",
    "else:\n",
    "    print('not palindrome')"
   ]
  },
  {
   "cell_type": "code",
   "execution_count": 126,
   "metadata": {},
   "outputs": [
    {
     "name": "stdout",
     "output_type": "stream",
     "text": [
      "shahe\n",
      "shahe\n",
      "shahe\n",
      "shahe\n",
      "shahe\n"
     ]
    }
   ],
   "source": [
    "#35. WAP to check whether the length of the string is even or odd. if even print that string 10 times. of it is not print 5 times.\n",
    "st='shahe'\n",
    "if len(st)%2==0:\n",
    "    i=0\n",
    "    while i<10:\n",
    "        print(st)\n",
    "        i+=1\n",
    "else:\n",
    "    i=0\n",
    "    while i<5:\n",
    "        print(st)\n",
    "        i+=1\n"
   ]
  },
  {
   "cell_type": "code",
   "execution_count": 43,
   "metadata": {},
   "outputs": [
    {
     "name": "stdout",
     "output_type": "stream",
     "text": [
      "A\n",
      "B\n",
      "C\n",
      "D\n",
      "E\n",
      "F\n",
      "G\n",
      "H\n",
      "I\n",
      "J\n",
      "K\n",
      "L\n",
      "M\n",
      "N\n",
      "O\n",
      "P\n",
      "Q\n",
      "R\n",
      "S\n",
      "T\n",
      "U\n",
      "V\n",
      "W\n",
      "X\n",
      "Y\n",
      "Z\n"
     ]
    }
   ],
   "source": [
    "#36. WAP to print uppercase character from A TO Z by using a while loop.\n",
    "start=65\n",
    "end=90\n",
    "while start<=end:\n",
    "    print(chr(start))\n",
    "    start+=1\n"
   ]
  },
  {
   "cell_type": "code",
   "execution_count": 44,
   "metadata": {},
   "outputs": [
    {
     "name": "stdout",
     "output_type": "stream",
     "text": [
      "a\n",
      "b\n",
      "c\n",
      "d\n",
      "e\n",
      "f\n",
      "g\n",
      "h\n",
      "i\n",
      "j\n",
      "k\n",
      "l\n",
      "m\n",
      "n\n",
      "o\n",
      "p\n",
      "q\n",
      "r\n",
      "s\n",
      "t\n",
      "u\n",
      "v\n",
      "w\n",
      "x\n",
      "y\n",
      "z\n"
     ]
    }
   ],
   "source": [
    "#37. WAP to print lowercase character from a TO z by using a while loop.\n",
    "start=97\n",
    "end=122\n",
    "while start<=end:\n",
    "    print(chr(start))\n",
    "    start+=1"
   ]
  },
  {
   "cell_type": "code",
   "execution_count": 48,
   "metadata": {},
   "outputs": [
    {
     "name": "stdout",
     "output_type": "stream",
     "text": [
      "0\n",
      "1\n",
      "2\n",
      "3\n",
      "4\n",
      "5\n",
      "6\n",
      "7\n",
      "8\n",
      "9\n"
     ]
    }
   ],
   "source": [
    "#38. WAP to print uppercase character from A TO Z by using a while loop.\n",
    "start=48\n",
    "end=57\n",
    "while start<=end:\n",
    "    print(chr(start))\n",
    "    start+=1"
   ]
  },
  {
   "cell_type": "code",
   "execution_count": 50,
   "metadata": {},
   "outputs": [
    {
     "name": "stdout",
     "output_type": "stream",
     "text": [
      "E\n",
      "F\n",
      "G\n",
      "H\n",
      "I\n",
      "J\n",
      "K\n",
      "L\n",
      "M\n",
      "N\n",
      "O\n",
      "P\n",
      "Q\n",
      "R\n",
      "S\n",
      "T\n",
      "U\n"
     ]
    }
   ],
   "source": [
    "#39. WAP to print uppercase character from E TO U by using a while loop.\n",
    "start=69\n",
    "end=85\n",
    "while start<=end:\n",
    "    print(chr(start))\n",
    "    start+=1"
   ]
  },
  {
   "cell_type": "code",
   "execution_count": 52,
   "metadata": {},
   "outputs": [
    {
     "name": "stdout",
     "output_type": "stream",
     "text": [
      "Z\n",
      "Y\n",
      "X\n",
      "W\n",
      "V\n",
      "U\n",
      "T\n",
      "S\n",
      "R\n",
      "Q\n",
      "P\n",
      "O\n",
      "N\n",
      "M\n",
      "L\n",
      "K\n",
      "J\n",
      "I\n",
      "H\n",
      "G\n",
      "F\n",
      "E\n",
      "D\n",
      "C\n",
      "B\n",
      "A\n"
     ]
    }
   ],
   "source": [
    "#40. WAP to print uppercase character from Z TO A by using a while loop.\n",
    "start=90\n",
    "end=65\n",
    "while start>=end:\n",
    "    print(chr(start))\n",
    "    start-=1"
   ]
  },
  {
   "cell_type": "code",
   "execution_count": 54,
   "metadata": {},
   "outputs": [
    {
     "name": "stdout",
     "output_type": "stream",
     "text": [
      "U\n",
      "T\n",
      "S\n",
      "R\n",
      "Q\n",
      "P\n",
      "O\n",
      "N\n",
      "M\n",
      "L\n",
      "K\n",
      "J\n",
      "I\n",
      "H\n",
      "G\n"
     ]
    }
   ],
   "source": [
    "#41. WAP to print uppercase character from U TO G by using a while loop.\n",
    "start=85\n",
    "end=71\n",
    "while start>=end:\n",
    "    print(chr(start))\n",
    "    start-=1"
   ]
  },
  {
   "cell_type": "code",
   "execution_count": 55,
   "metadata": {},
   "outputs": [
    {
     "name": "stdout",
     "output_type": "stream",
     "text": [
      "i\n",
      "j\n",
      "k\n",
      "l\n",
      "m\n",
      "n\n",
      "o\n",
      "p\n",
      "q\n",
      "r\n",
      "s\n",
      "t\n",
      "u\n",
      "v\n",
      "w\n",
      "x\n",
      "y\n"
     ]
    }
   ],
   "source": [
    "#42. WAP to print lowercase character from i TO y by using a while loop.\n",
    "start=105\n",
    "end=121\n",
    "while start<=end:\n",
    "    print(chr(start))\n",
    "    start+=1"
   ]
  },
  {
   "cell_type": "code",
   "execution_count": 56,
   "metadata": {},
   "outputs": [
    {
     "name": "stdout",
     "output_type": "stream",
     "text": [
      "z\n",
      "y\n",
      "x\n",
      "w\n",
      "v\n",
      "u\n",
      "t\n",
      "s\n",
      "r\n",
      "q\n",
      "p\n",
      "o\n",
      "n\n",
      "m\n",
      "l\n",
      "k\n",
      "j\n",
      "i\n",
      "h\n",
      "g\n",
      "f\n",
      "e\n",
      "d\n",
      "c\n",
      "b\n",
      "a\n"
     ]
    }
   ],
   "source": [
    "#43. WAP to print lowercase character from z TO a by using a while loop.\n",
    "start=122\n",
    "end=97\n",
    "while start>=end:\n",
    "    print(chr(start))\n",
    "    start-=1"
   ]
  },
  {
   "cell_type": "code",
   "execution_count": 57,
   "metadata": {},
   "outputs": [
    {
     "name": "stdout",
     "output_type": "stream",
     "text": [
      "p\n",
      "o\n",
      "n\n",
      "m\n",
      "l\n",
      "k\n",
      "j\n",
      "i\n",
      "h\n",
      "g\n",
      "f\n",
      "e\n",
      "d\n",
      "c\n"
     ]
    }
   ],
   "source": [
    "#44. WAP to print lowercase character from p TO c by using a while loop.\n",
    "start=112\n",
    "end=99\n",
    "while start>=end:\n",
    "    print(chr(start))\n",
    "    start-=1"
   ]
  },
  {
   "cell_type": "code",
   "execution_count": 61,
   "metadata": {},
   "outputs": [
    {
     "name": "stdout",
     "output_type": "stream",
     "text": [
      "B\n",
      "D\n",
      "F\n",
      "H\n",
      "J\n",
      "L\n",
      "N\n",
      "P\n",
      "R\n",
      "T\n",
      "V\n",
      "X\n",
      "Z\n"
     ]
    }
   ],
   "source": [
    "#45. WAP to print uppercase characters based on even ascii values.\n",
    "start=ord('A')\n",
    "end=ord('Z')\n",
    "while start<=end:\n",
    "    if start%2==0:\n",
    "        print(chr(start))\n",
    "    start+=1"
   ]
  },
  {
   "cell_type": "code",
   "execution_count": 62,
   "metadata": {},
   "outputs": [
    {
     "name": "stdout",
     "output_type": "stream",
     "text": [
      "b\n",
      "d\n",
      "f\n",
      "h\n",
      "j\n",
      "l\n",
      "n\n",
      "p\n",
      "r\n",
      "t\n",
      "v\n",
      "x\n",
      "z\n"
     ]
    }
   ],
   "source": [
    "#46. WAP to print lowercase characters based on even ascii values.\n",
    "start=ord('a')\n",
    "end=ord('z')\n",
    "while start<=end:\n",
    "    if start%2==0:\n",
    "        print(chr(start))\n",
    "    start+=1"
   ]
  },
  {
   "cell_type": "code",
   "execution_count": 63,
   "metadata": {},
   "outputs": [
    {
     "name": "stdout",
     "output_type": "stream",
     "text": [
      "A\n",
      "C\n",
      "E\n",
      "G\n",
      "I\n",
      "K\n",
      "M\n",
      "O\n",
      "Q\n",
      "S\n",
      "U\n",
      "W\n",
      "Y\n"
     ]
    }
   ],
   "source": [
    "#47. WAP to print uppercase characters based on odd ascii values.\n",
    "start=ord('A')\n",
    "end=ord('Z')\n",
    "while start<=end:\n",
    "    if start%2!=0:\n",
    "        print(chr(start))\n",
    "    start+=1"
   ]
  },
  {
   "cell_type": "code",
   "execution_count": 64,
   "metadata": {},
   "outputs": [
    {
     "name": "stdout",
     "output_type": "stream",
     "text": [
      "a\n",
      "c\n",
      "e\n",
      "g\n",
      "i\n",
      "k\n",
      "m\n",
      "o\n",
      "q\n",
      "s\n",
      "u\n",
      "w\n",
      "y\n"
     ]
    }
   ],
   "source": [
    "#48. WAP to print lowercase characters based on odd ascii values.\n",
    "start=ord('a')\n",
    "end=ord('z')\n",
    "while start<=end:\n",
    "    if start%2!=0:\n",
    "        print(chr(start))\n",
    "    start+=1"
   ]
  },
  {
   "cell_type": "code",
   "execution_count": 65,
   "metadata": {},
   "outputs": [
    {
     "name": "stdout",
     "output_type": "stream",
     "text": [
      "B\n",
      "D\n",
      "F\n",
      "H\n",
      "J\n",
      "L\n",
      "N\n",
      "P\n",
      "R\n",
      "T\n",
      "V\n",
      "X\n",
      "Z\n"
     ]
    }
   ],
   "source": [
    "#49. WAP to print all the even characters from A to Z.\n",
    "start=ord('A')\n",
    "end=ord('Z')\n",
    "while start<=end:\n",
    "    if start%2==0:\n",
    "        print(chr(start))\n",
    "    start+=1\n"
   ]
  },
  {
   "cell_type": "code",
   "execution_count": 66,
   "metadata": {},
   "outputs": [
    {
     "name": "stdout",
     "output_type": "stream",
     "text": [
      "a\n",
      "c\n",
      "e\n",
      "g\n",
      "i\n",
      "k\n",
      "m\n",
      "o\n",
      "q\n",
      "s\n",
      "u\n",
      "w\n",
      "y\n"
     ]
    }
   ],
   "source": [
    "#50. WAP to print all the odd  characters from a to z.\n",
    "start=ord('a')\n",
    "end=ord('z')\n",
    "while start<=end:\n",
    "    if start%2!=0:\n",
    "        print(chr(start))\n",
    "    start+=1\n"
   ]
  },
  {
   "cell_type": "code",
   "execution_count": 72,
   "metadata": {},
   "outputs": [
    {
     "name": "stdout",
     "output_type": "stream",
     "text": [
      "4\n"
     ]
    }
   ],
   "source": [
    "#51. WAP to count the number of vowels present in D to V.\n",
    "start=ord('D')\n",
    "end=ord('V')\n",
    "res='AEIOU'\n",
    "count=0\n",
    "while start<=end:\n",
    "    if chr(start) in res:\n",
    "        count+=1\n",
    "    start+=1\n",
    "print(count)\n"
   ]
  },
  {
   "cell_type": "code",
   "execution_count": 74,
   "metadata": {},
   "outputs": [
    {
     "name": "stdout",
     "output_type": "stream",
     "text": [
      "4\n"
     ]
    }
   ],
   "source": [
    "#52. WAP to count the number of vowels present in u to e.\n",
    "start=ord('u')\n",
    "end=ord('e')\n",
    "count=0\n",
    "while start>=end:\n",
    "    if chr(start) in 'aeiou':\n",
    "        count+=1\n",
    "    start-=1\n",
    "print(count)"
   ]
  },
  {
   "cell_type": "code",
   "execution_count": 76,
   "metadata": {},
   "outputs": [
    {
     "name": "stdout",
     "output_type": "stream",
     "text": [
      "10\n",
      "12 144\n",
      "15 225\n",
      "18 324\n",
      "20\n",
      "21 441\n",
      "24 576\n",
      "25\n",
      "27 729\n",
      "30 900\n"
     ]
    }
   ],
   "source": [
    "#53. WAP to print square of the number in between the range from m to n which is multiple of 3. WAP to print a number from range m to n which is divisible by 5.\n",
    "m=10\n",
    "n=30\n",
    "while m<=n:\n",
    "    if m%3==0:\n",
    "        print(m, m**2)\n",
    "    elif m%5==0:\n",
    "        print(m)\n",
    "    m+=1\n"
   ]
  },
  {
   "cell_type": "code",
   "execution_count": 83,
   "metadata": {},
   "outputs": [
    {
     "name": "stdout",
     "output_type": "stream",
     "text": [
      "18\n",
      "9\n"
     ]
    }
   ],
   "source": [
    "#54. WAP which takes an integer number and find the sum of digits and repeat until the sum gets a single digit in the end.\n",
    "# example:\n",
    "# input=5643\n",
    "# then, 5+6+4+3=18\n",
    "#       1+8=9\n",
    "# output=9\n",
    "num=5643\n",
    "temp=num\n",
    "sum1=0\n",
    "while num:\n",
    "    ld=num%10\n",
    "    sum1+=ld\n",
    "    num=num//10\n",
    "print(sum1)\n",
    "sum2=0\n",
    "temp2=sum1 \n",
    "while sum1:\n",
    "    sd=sum1%10\n",
    "    sum2+=sd\n",
    "    sum1=sum1//10\n",
    "print(sum2)\n",
    "\n"
   ]
  },
  {
   "cell_type": "code",
   "execution_count": 90,
   "metadata": {},
   "outputs": [
    {
     "name": "stdout",
     "output_type": "stream",
     "text": [
      "13\n"
     ]
    }
   ],
   "source": [
    "#55. WAP to count the numbers of 2's between 0 to n\n",
    "# Input n=35\n",
    "# Example:2,12,20,21,22,23,24,25,26,27,28,29,32\n",
    "# output=13\n",
    "start=1\n",
    "end=35\n",
    "n='2'\n",
    "count=0\n",
    "while start<=end:\n",
    "    if n in str(start):\n",
    "        count+=1\n",
    "    start+=1\n",
    "print(count)"
   ]
  },
  {
   "cell_type": "code",
   "execution_count": 26,
   "metadata": {},
   "outputs": [
    {
     "ename": "TypeError",
     "evalue": "'>' not supported between instances of 'int' and 'list'",
     "output_type": "error",
     "traceback": [
      "\u001b[1;31m---------------------------------------------------------------------------\u001b[0m",
      "\u001b[1;31mTypeError\u001b[0m                                 Traceback (most recent call last)",
      "Cell \u001b[1;32mIn[26], line 9\u001b[0m\n\u001b[0;32m      7\u001b[0m end\u001b[39m=\u001b[39m\u001b[39mlen\u001b[39m(st)\n\u001b[0;32m      8\u001b[0m \u001b[39mwhile\u001b[39;00m start\u001b[39m<\u001b[39mend:\n\u001b[1;32m----> 9\u001b[0m     \u001b[39mif\u001b[39;00m st[start]\u001b[39m>\u001b[39;49mst[start\u001b[39m+\u001b[39;49m\u001b[39m1\u001b[39;49m:]:\n\u001b[0;32m     10\u001b[0m         \u001b[39mprint\u001b[39m(st[start\u001b[39m+\u001b[39m\u001b[39m1\u001b[39m])\n\u001b[0;32m     11\u001b[0m     start\u001b[39m+\u001b[39m\u001b[39m=\u001b[39m\u001b[39m1\u001b[39m\n",
      "\u001b[1;31mTypeError\u001b[0m: '>' not supported between instances of 'int' and 'list'"
     ]
    }
   ],
   "source": [
    "#56. WAP to find max product of three numbers from the given integer array.\n",
    "# Input arr()=6,3,2,0,10\n",
    "# Example:10*6*3\n",
    "# Output=180\n",
    "st=[6,8,3,2,0,10,0]\n",
    "start=0\n",
    "end=len(st)\n",
    "while start<end:\n",
    "    if st[start]<st[start+1]\n",
    "        print(st[start+1])\n",
    "    start+=1\n",
    "    "
   ]
  },
  {
   "cell_type": "code",
   "execution_count": 20,
   "metadata": {},
   "outputs": [
    {
     "name": "stdout",
     "output_type": "stream",
     "text": [
      "180\n"
     ]
    }
   ],
   "source": [
    "#56.(b) WAP to find max product of three numbers from the given integer array.(without while loop)\n",
    "# Input arr()=6,3,2,0,10\n",
    "# Example:10*6*3\n",
    "# Output=180\n",
    "b=[0,6,10,3,2,0,1]\n",
    "b=sorted(b)\n",
    "print(b[-1]*b[-2]*b[-3])"
   ]
  },
  {
   "cell_type": "code",
   "execution_count": 132,
   "metadata": {},
   "outputs": [
    {
     "name": "stdout",
     "output_type": "stream",
     "text": [
      "s\n",
      "h\n",
      "a\n",
      "h\n",
      "e\n",
      "d\n"
     ]
    }
   ],
   "source": [
    "#59. WAP to print all the items in the given string from range m to n.\n",
    "st='shahed'\n",
    "start=0\n",
    "end=len(st)\n",
    "while start<end:\n",
    "    print(st[start])\n",
    "    start+=1\n"
   ]
  },
  {
   "cell_type": "code",
   "execution_count": 133,
   "metadata": {},
   "outputs": [
    {
     "name": "stdout",
     "output_type": "stream",
     "text": [
      "E\n",
      "F\n",
      "G\n",
      "H\n"
     ]
    }
   ],
   "source": [
    "#60. WAP to print the uppercase characters in a given string.\n",
    "st='abcdEFGH'\n",
    "start=0\n",
    "end=len(st)\n",
    "while start<end:\n",
    "    if 'A'<=st[start]<='Z':\n",
    "        print(st[start])\n",
    "    start+=1\n"
   ]
  },
  {
   "cell_type": "code",
   "execution_count": 135,
   "metadata": {},
   "outputs": [
    {
     "name": "stdout",
     "output_type": "stream",
     "text": [
      "a\n",
      "b\n",
      "c\n",
      "d\n"
     ]
    }
   ],
   "source": [
    "#61. WAP to print the lowercase characters in a given string.\n",
    "st='abcdEFGH'\n",
    "start=0\n",
    "end=len(st)\n",
    "while start<end:\n",
    "    if 'a'<=st[start]<='z':\n",
    "        print(st[start])\n",
    "    start+=1"
   ]
  },
  {
   "cell_type": "code",
   "execution_count": 141,
   "metadata": {},
   "outputs": [
    {
     "name": "stdout",
     "output_type": "stream",
     "text": [
      "1 49\n",
      "2 50\n",
      "3 51\n",
      "4 52\n"
     ]
    }
   ],
   "source": [
    "#62. WAP to print the ascii numbers(digits) characters in a given string.\n",
    "st='abcdEFGH1234'\n",
    "start=0\n",
    "end=len(st)\n",
    "while start<end:\n",
    "    if '0'<=st[start]<='9':\n",
    "        print(st[start],ord(st[start]))\n",
    "    start+=1"
   ]
  },
  {
   "cell_type": "code",
   "execution_count": 142,
   "metadata": {},
   "outputs": [
    {
     "name": "stdout",
     "output_type": "stream",
     "text": [
      "#\n",
      "$\n"
     ]
    }
   ],
   "source": [
    "#63. WAP to print the special characters in a given string.\n",
    "st='abcdEF#$'\n",
    "start=0\n",
    "end=len(st)\n",
    "while start<end:\n",
    "    if not('A'<=st[start]<='Z' or 'a'<=st[start]<='z' or '0'<=st[start]<='9'):\n",
    "        print(st[start])\n",
    "    start+=1"
   ]
  },
  {
   "cell_type": "code",
   "execution_count": 144,
   "metadata": {},
   "outputs": [
    {
     "name": "stdout",
     "output_type": "stream",
     "text": [
      "A\n",
      "E\n",
      "i\n",
      "u\n"
     ]
    }
   ],
   "source": [
    "#64. WAP to print vowels in given string.\n",
    "st='ABCDEiTYu'\n",
    "start=0\n",
    "end=len(st)\n",
    "while start<end:\n",
    "    if st[start] in 'AEIOUaeiou':\n",
    "        print(st[start])\n",
    "    start+=1"
   ]
  },
  {
   "cell_type": "code",
   "execution_count": 145,
   "metadata": {},
   "outputs": [
    {
     "name": "stdout",
     "output_type": "stream",
     "text": [
      "B\n",
      "C\n",
      "D\n",
      "T\n",
      "Y\n"
     ]
    }
   ],
   "source": [
    "#65. WAP to print consonants in a given string.\n",
    "st='ABCDEiTYu'\n",
    "start=0\n",
    "end=len(st)\n",
    "while start<end:\n",
    "    if st[start] not in 'AEIOUaeiou':\n",
    "        print(st[start])\n",
    "    start+=1"
   ]
  },
  {
   "cell_type": "code",
   "execution_count": 150,
   "metadata": {},
   "outputs": [
    {
     "name": "stdout",
     "output_type": "stream",
     "text": [
      "H\n",
      "G\n",
      "F\n",
      "E\n",
      "d\n",
      "c\n",
      "b\n",
      "a\n"
     ]
    }
   ],
   "source": [
    "#66. WAP to print the reverse of characters in a given string.\n",
    "st='abcdEFGH'\n",
    "start=-1\n",
    "end=-(len(st))\n",
    "while start>=end:\n",
    "    print(st[start])\n",
    "    start-=1"
   ]
  },
  {
   "cell_type": "code",
   "execution_count": 155,
   "metadata": {},
   "outputs": [
    {
     "name": "stdout",
     "output_type": "stream",
     "text": [
      "0 a\n",
      "2 c\n",
      "4 e\n",
      "6 g\n"
     ]
    }
   ],
   "source": [
    "#67. WAP to print even position values characters in a given string.\n",
    "st='abcdefgh'\n",
    "start=0\n",
    "end=len(st)\n",
    "while start<end:\n",
    "    if start%2==0:\n",
    "        print(start,st[start])\n",
    "    start+=1\n"
   ]
  },
  {
   "cell_type": "code",
   "execution_count": 156,
   "metadata": {},
   "outputs": [
    {
     "name": "stdout",
     "output_type": "stream",
     "text": [
      "1 b\n",
      "3 d\n",
      "5 f\n",
      "7 h\n"
     ]
    }
   ],
   "source": [
    "#68. WAP to print odd position values characters in a given string.\n",
    "st='abcdefgh'\n",
    "start=0\n",
    "end=len(st)\n",
    "while start<end:\n",
    "    if start%2!=0:\n",
    "        print(start,st[start])\n",
    "    start+=1"
   ]
  },
  {
   "cell_type": "code",
   "execution_count": 168,
   "metadata": {},
   "outputs": [
    {
     "name": "stdout",
     "output_type": "stream",
     "text": [
      "8\n"
     ]
    }
   ],
   "source": [
    "#69. WAP to count the total number of characters in  agiven string.(with length function)\n",
    "st='abcdefgh'\n",
    "start=0\n",
    "end=len(st)\n",
    "count=0\n",
    "while start<end:\n",
    "    if st[start]:\n",
    "        count+=1\n",
    "    start+=1\n",
    "print(count)\n"
   ]
  },
  {
   "cell_type": "code",
   "execution_count": 170,
   "metadata": {},
   "outputs": [
    {
     "name": "stdout",
     "output_type": "stream",
     "text": [
      "8\n"
     ]
    }
   ],
   "source": [
    "#70. WAP to count the total number of characters in  agiven string.(without length function)\n",
    "st='abcdefgh'\n",
    "count=0\n",
    "while st:\n",
    "    # print(st)\n",
    "    count+=1\n",
    "    st=st[:-1]\n",
    "print(count)"
   ]
  },
  {
   "cell_type": "code",
   "execution_count": 174,
   "metadata": {},
   "outputs": [
    {
     "name": "stdout",
     "output_type": "stream",
     "text": [
      "6\n"
     ]
    }
   ],
   "source": [
    "#71. WAP to count alphabets in a given string.\n",
    "st='abcdXY1234$%'\n",
    "start=0\n",
    "end=len(st)\n",
    "count=0\n",
    "while start<end:\n",
    "    if 'A'<=st[start]<='Z' or 'a'<=st[start]<='z':\n",
    "        count+=1\n",
    "    start+=1\n",
    "print(count)"
   ]
  },
  {
   "cell_type": "code",
   "execution_count": 175,
   "metadata": {},
   "outputs": [
    {
     "name": "stdout",
     "output_type": "stream",
     "text": [
      "2\n"
     ]
    }
   ],
   "source": [
    "#72. WAP to count the no. of uppercase in  a given string.\n",
    "st='abcdXY12$%'\n",
    "start=0\n",
    "end=len(st)\n",
    "count=0\n",
    "while start<end:\n",
    "    if 'A'<=st[start]<='Z':\n",
    "        count+=1\n",
    "    start+=1\n",
    "print(count)\n"
   ]
  },
  {
   "cell_type": "code",
   "execution_count": 1,
   "metadata": {},
   "outputs": [
    {
     "name": "stdout",
     "output_type": "stream",
     "text": [
      "4\n"
     ]
    }
   ],
   "source": [
    "#73. WAP to count lowercase in a given string.\n",
    "st='ABCDefgh'\n",
    "start=0\n",
    "end=len(st)\n",
    "count=0\n",
    "while start<end:\n",
    "    if 'a'<=st[start]<='z':\n",
    "        count+=1\n",
    "    start+=1\n",
    "print(count)"
   ]
  },
  {
   "cell_type": "code",
   "execution_count": 33,
   "metadata": {},
   "outputs": [
    {
     "name": "stdout",
     "output_type": "stream",
     "text": [
      "5\n"
     ]
    }
   ],
   "source": [
    "#74. WAP to count number of special symbols in  a given string.\n",
    "st='ab@#cdEF#$@'\n",
    "start=0\n",
    "end=len(st)\n",
    "count=0\n",
    "while start<end:\n",
    "    if not('A'<=st[start]<='Z' or 'a'<=st[start]<='z' or '0'<=st[start]<='9'):\n",
    "        count+=1\n",
    "    start+=1\n",
    "print(count)\n",
    "\n"
   ]
  },
  {
   "cell_type": "code",
   "execution_count": 48,
   "metadata": {},
   "outputs": [
    {
     "name": "stdout",
     "output_type": "stream",
     "text": [
      "5\n"
     ]
    }
   ],
   "source": [
    "#75. WAP to count uppercase and lowercase in  a given string.\n",
    "st='abcDE@#$'\n",
    "start=0\n",
    "end=len(st)\n",
    "count=0\n",
    "while start<end:\n",
    "    if 'a'<=st[start]<='z' or 'A'<=st[start]<='Z':\n",
    "        count+=1\n",
    "    start+=1\n",
    "print(count)\n"
   ]
  },
  {
   "cell_type": "code",
   "execution_count": 49,
   "metadata": {},
   "outputs": [
    {
     "name": "stdout",
     "output_type": "stream",
     "text": [
      "3\n"
     ]
    }
   ],
   "source": [
    "#76. WAP to count number of ascii numbers in  a given string.\n",
    "st='ASdf345#$'\n",
    "start=0\n",
    "end=len(st)\n",
    "count=0\n",
    "while start<end:\n",
    "    if '0'<=st[start]<='9':\n",
    "        count+=1\n",
    "    start+=1\n",
    "print(count)"
   ]
  },
  {
   "cell_type": "code",
   "execution_count": 88,
   "metadata": {},
   "outputs": [
    {
     "ename": "IndentationError",
     "evalue": "expected an indented block after 'if' statement on line 8 (1552920924.py, line 9)",
     "output_type": "error",
     "traceback": [
      "\u001b[1;36m  Cell \u001b[1;32mIn[88], line 9\u001b[1;36m\u001b[0m\n\u001b[1;33m    count+=1\u001b[0m\n\u001b[1;37m    ^\u001b[0m\n\u001b[1;31mIndentationError\u001b[0m\u001b[1;31m:\u001b[0m expected an indented block after 'if' statement on line 8\n"
     ]
    }
   ],
   "source": [
    "#77. WAP to count total number of words in  a given string.\n",
    "st='hi hello how are you'\n",
    "start=0\n",
    "end=len(st)\n",
    "count=0\n",
    "while start<end:\n",
    "    if st[start]:\n",
    "        if st[start]==' ':\n",
    "        count+=1\n",
    "    start+=1\n",
    "print(count)"
   ]
  },
  {
   "cell_type": "code",
   "execution_count": 58,
   "metadata": {},
   "outputs": [
    {
     "name": "stdout",
     "output_type": "stream",
     "text": [
      "4\n"
     ]
    }
   ],
   "source": [
    "#78. WAP to count total number of spaces in a string.\n",
    "st='hi hello how are you'\n",
    "start=0\n",
    "end=len(st)\n",
    "count=0\n",
    "while start<end:\n",
    "    if st[start]==' ':\n",
    "        count+=1\n",
    "    start+=1\n",
    "print(count)"
   ]
  },
  {
   "cell_type": "code",
   "execution_count": 68,
   "metadata": {},
   "outputs": [
    {
     "name": "stdout",
     "output_type": "stream",
     "text": [
      "8\n"
     ]
    }
   ],
   "source": [
    "#79. WAP to count vowels in s string.\n",
    "st='AEiogfdrwesiou'\n",
    "start=0\n",
    "count=0\n",
    "while start<len(st):\n",
    "    if st[start] in 'AEIOUaeiou':\n",
    "        count+=1\n",
    "    start+=1\n",
    "print(count)"
   ]
  },
  {
   "cell_type": "code",
   "execution_count": 71,
   "metadata": {},
   "outputs": [
    {
     "name": "stdout",
     "output_type": "stream",
     "text": [
      "11\n"
     ]
    }
   ],
   "source": [
    "#80. WAP to count consonants in a given string.\n",
    "st='AEiogfdrwesiouaetrghb'\n",
    "start=0\n",
    "count=0\n",
    "while start<len(st):\n",
    "    if st[start] not in 'AEIOUaeiou':\n",
    "        count+=1\n",
    "    start+=1\n",
    "print(count)"
   ]
  },
  {
   "cell_type": "code",
   "execution_count": 74,
   "metadata": {},
   "outputs": [
    {
     "name": "stdout",
     "output_type": "stream",
     "text": [
      "10\n"
     ]
    }
   ],
   "source": [
    "#81. WAP to count vowels and consonants in a string.\n",
    "st='ABCDeiozxc'\n",
    "start=0\n",
    "count=0\n",
    "while start<len(st):\n",
    "    if st[start] in 'AEIOUaeiou' or st[start] not in 'AEIOUaeiou':\n",
    "        count+=1\n",
    "    start+=1\n",
    "print(count)"
   ]
  }
 ],
 "metadata": {
  "kernelspec": {
   "display_name": "Python 3",
   "language": "python",
   "name": "python3"
  },
  "language_info": {
   "codemirror_mode": {
    "name": "ipython",
    "version": 3
   },
   "file_extension": ".py",
   "mimetype": "text/x-python",
   "name": "python",
   "nbconvert_exporter": "python",
   "pygments_lexer": "ipython3",
   "version": "3.11.4"
  },
  "orig_nbformat": 4
 },
 "nbformat": 4,
 "nbformat_minor": 2
}
