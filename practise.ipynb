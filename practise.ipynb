{
 "cells": [
  {
   "cell_type": "code",
   "execution_count": 3,
   "metadata": {},
   "outputs": [
    {
     "name": "stdout",
     "output_type": "stream",
     "text": [
      "1\n",
      "2\n",
      "3\n",
      "4\n",
      "5\n"
     ]
    }
   ],
   "source": [
    "#1. sequence of numbers from left to right\n",
    "num=12345\n",
    "num=str(num)\n",
    "i=0\n",
    "while i<len(num):\n",
    "    print(num[i])\n",
    "    i+=1\n"
   ]
  },
  {
   "cell_type": "code",
   "execution_count": 4,
   "metadata": {},
   "outputs": [
    {
     "name": "stdout",
     "output_type": "stream",
     "text": [
      "5\n",
      "4\n",
      "3\n",
      "2\n",
      "1\n"
     ]
    }
   ],
   "source": [
    "#2. sequence of numbers from right to left\n",
    "num=12345\n",
    "while num:\n",
    "    ld=num%10\n",
    "    print(ld)\n",
    "    num=num//10"
   ]
  },
  {
   "cell_type": "code",
   "execution_count": 7,
   "metadata": {},
   "outputs": [
    {
     "name": "stdout",
     "output_type": "stream",
     "text": [
      "5\n"
     ]
    }
   ],
   "source": [
    "#3. largest digit\n",
    "num=12345\n",
    "res=0\n",
    "while num:\n",
    "    ld=num%10\n",
    "    if res<ld:\n",
    "        res=ld\n",
    "    num=num//10\n",
    "print(res)"
   ]
  },
  {
   "cell_type": "code",
   "execution_count": 9,
   "metadata": {},
   "outputs": [
    {
     "name": "stdout",
     "output_type": "stream",
     "text": [
      "1\n"
     ]
    }
   ],
   "source": [
    "#4. smallest digit\n",
    "num=12345\n",
    "res=10\n",
    "while num:\n",
    "    sd=num%10\n",
    "    if res>sd:\n",
    "        res=sd\n",
    "    num=num//10\n",
    "print(res)"
   ]
  },
  {
   "cell_type": "code",
   "execution_count": 10,
   "metadata": {},
   "outputs": [
    {
     "name": "stdout",
     "output_type": "stream",
     "text": [
      "4\n"
     ]
    }
   ],
   "source": [
    "#5. even largest digit\n",
    "num=12345\n",
    "res=0\n",
    "while num:\n",
    "    ld=num%10\n",
    "    if res<ld and ld%2==0:\n",
    "        res=ld\n",
    "    num=num//10\n",
    "print(res)\n"
   ]
  },
  {
   "cell_type": "code",
   "execution_count": 13,
   "metadata": {},
   "outputs": [
    {
     "name": "stdout",
     "output_type": "stream",
     "text": [
      "2\n"
     ]
    }
   ],
   "source": [
    "#6. even smallest digit\n",
    "num=12345\n",
    "res=10\n",
    "while num:\n",
    "    ld=num%10\n",
    "    if res>sd and ld%2==0:\n",
    "        res=ld\n",
    "    num=num//10\n",
    "print(res)"
   ]
  },
  {
   "cell_type": "code",
   "execution_count": 15,
   "metadata": {},
   "outputs": [
    {
     "name": "stdout",
     "output_type": "stream",
     "text": [
      "5\n"
     ]
    }
   ],
   "source": [
    "#7. odd largest digit\n",
    "num=12345\n",
    "res=0\n",
    "while num:\n",
    "    ld=num%10\n",
    "    if res<ld and ld%2!=0:\n",
    "        res=ld\n",
    "    num=num//10\n",
    "print(res)"
   ]
  },
  {
   "cell_type": "code",
   "execution_count": 14,
   "metadata": {},
   "outputs": [
    {
     "name": "stdout",
     "output_type": "stream",
     "text": [
      "1\n"
     ]
    }
   ],
   "source": [
    "#8. odd smallest digit\n",
    "num=12345\n",
    "res=10\n",
    "while num:\n",
    "    sd=num%10\n",
    "    if res>sd and sd%2!=0:\n",
    "        res=sd\n",
    "    num=num//10\n",
    "print(res)"
   ]
  },
  {
   "cell_type": "code",
   "execution_count": 16,
   "metadata": {},
   "outputs": [
    {
     "name": "stdout",
     "output_type": "stream",
     "text": [
      "15\n"
     ]
    }
   ],
   "source": [
    "#9. sum of all the digits\n",
    "num=12345\n",
    "sum=0\n",
    "while num:\n",
    "    ld=num%10\n",
    "    sum+=ld\n",
    "    num=num//10\n",
    "print(sum)"
   ]
  },
  {
   "cell_type": "code",
   "execution_count": 17,
   "metadata": {},
   "outputs": [
    {
     "name": "stdout",
     "output_type": "stream",
     "text": [
      "120\n"
     ]
    }
   ],
   "source": [
    "#10. product of all the digits\n",
    "num=12345\n",
    "pr=1\n",
    "while num:\n",
    "    ld=num%10\n",
    "    pr*=ld\n",
    "    num=num//10\n",
    "print(pr)"
   ]
  },
  {
   "cell_type": "code",
   "execution_count": 20,
   "metadata": {},
   "outputs": [
    {
     "name": "stdout",
     "output_type": "stream",
     "text": [
      "-5\n"
     ]
    }
   ],
   "source": [
    "#11. difference of values fromn right to left\n",
    "num=12345\n",
    "num2=num%10\n",
    "num=num//10\n",
    "while num:\n",
    "    ld=num%10\n",
    "    num2-=ld\n",
    "    num=num//10\n",
    "print(num2)\n"
   ]
  },
  {
   "cell_type": "code",
   "execution_count": 22,
   "metadata": {},
   "outputs": [
    {
     "name": "stdout",
     "output_type": "stream",
     "text": [
      "-13\n"
     ]
    }
   ],
   "source": [
    "#12. difference of values from left to right\n",
    "num=12345\n",
    "temp=str(num)\n",
    "res=int(temp[0])\n",
    "i=1\n",
    "while i<len(temp):\n",
    "    res-=int(temp[i])\n",
    "    i+=1\n",
    "print(res)"
   ]
  },
  {
   "cell_type": "code",
   "execution_count": 30,
   "metadata": {},
   "outputs": [
    {
     "name": "stdout",
     "output_type": "stream",
     "text": [
      "4\n",
      "2\n"
     ]
    }
   ],
   "source": [
    "#13. even digits\n",
    "num=12345\n",
    "while num:\n",
    "    ld=num%10\n",
    "    if ld%2==0:\n",
    "        print(ld)\n",
    "    num=num//10\n"
   ]
  },
  {
   "cell_type": "code",
   "execution_count": 31,
   "metadata": {},
   "outputs": [
    {
     "name": "stdout",
     "output_type": "stream",
     "text": [
      "5\n",
      "3\n",
      "1\n"
     ]
    }
   ],
   "source": [
    "#14. odd digits\n",
    "num=12345\n",
    "while num:\n",
    "    ld=num%10\n",
    "    if ld%2!=0:\n",
    "        print(ld)\n",
    "    num=num//10"
   ]
  },
  {
   "cell_type": "code",
   "execution_count": 35,
   "metadata": {},
   "outputs": [
    {
     "name": "stdout",
     "output_type": "stream",
     "text": [
      "5\n",
      "6\n",
      "7\n",
      "8\n",
      "9\n",
      "10\n",
      "11\n",
      "12\n"
     ]
    }
   ],
   "source": [
    "#15. sequence of values from m to n.\n",
    "m=int(input())\n",
    "n=int(input())\n",
    "while m<=n:\n",
    "    print(m)\n",
    "    m+=1"
   ]
  },
  {
   "cell_type": "code",
   "execution_count": 36,
   "metadata": {},
   "outputs": [
    {
     "name": "stdout",
     "output_type": "stream",
     "text": [
      "1\n",
      "2\n",
      "3\n",
      "4\n",
      "5\n",
      "6\n",
      "7\n",
      "8\n",
      "9\n",
      "10\n"
     ]
    }
   ],
   "source": [
    "#16. sequence of values from 1 to n.\n",
    "m=1\n",
    "n=int(input())\n",
    "while m<=n:\n",
    "    print(m)\n",
    "    m+=1"
   ]
  },
  {
   "cell_type": "code",
   "execution_count": 38,
   "metadata": {},
   "outputs": [
    {
     "name": "stdout",
     "output_type": "stream",
     "text": [
      "55\n"
     ]
    }
   ],
   "source": [
    "#17. sum of digits from 1 to n.\n",
    "m=1\n",
    "n=int(input())\n",
    "sum=0\n",
    "while m<=n:\n",
    "    sum+=m\n",
    "    m+=1\n",
    "print(sum)"
   ]
  },
  {
   "cell_type": "code",
   "execution_count": 39,
   "metadata": {},
   "outputs": [
    {
     "name": "stdout",
     "output_type": "stream",
     "text": [
      "1\n",
      "3\n",
      "6\n",
      "10\n",
      "15\n"
     ]
    }
   ],
   "source": [
    "#18. sequence of sum of digits from 1 to n.\n",
    "m=1\n",
    "n=int(input())\n",
    "sum=0\n",
    "while m<=n:\n",
    "    sum+=m\n",
    "    print(sum)\n",
    "    m+=1"
   ]
  },
  {
   "cell_type": "code",
   "execution_count": 40,
   "metadata": {},
   "outputs": [
    {
     "name": "stdout",
     "output_type": "stream",
     "text": [
      "120\n"
     ]
    }
   ],
   "source": [
    "#19. product of all the digits or FACTORIAL\n",
    "m=1\n",
    "n=5\n",
    "pr=1\n",
    "while m<=n:\n",
    "    pr*=m\n",
    "    m+=1\n",
    "print(pr)\n"
   ]
  },
  {
   "cell_type": "code",
   "execution_count": 42,
   "metadata": {},
   "outputs": [
    {
     "name": "stdout",
     "output_type": "stream",
     "text": [
      "1\n",
      "2\n",
      "6\n",
      "24\n",
      "120\n"
     ]
    }
   ],
   "source": [
    "#20. sequence of product of digits from 1 to n\n",
    "m=1\n",
    "n=int(input())\n",
    "pr=1\n",
    "while m<=n:\n",
    "    pr*=m\n",
    "    print(pr)\n",
    "    m+=1"
   ]
  },
  {
   "cell_type": "code",
   "execution_count": 2,
   "metadata": {},
   "outputs": [
    {
     "name": "stdout",
     "output_type": "stream",
     "text": [
      "1\n",
      "2\n",
      "3\n",
      "6\n"
     ]
    }
   ],
   "source": [
    "#21. factors of given number.\n",
    "m=1\n",
    "n=int(input())\n",
    "while m<=n:\n",
    "    if n%m==0:\n",
    "        print(m)\n",
    "    m+=1"
   ]
  },
  {
   "cell_type": "code",
   "execution_count": 9,
   "metadata": {},
   "outputs": [
    {
     "name": "stdout",
     "output_type": "stream",
     "text": [
      "4\n"
     ]
    }
   ],
   "source": [
    "#22. count no. of factors in given number.\n",
    "m=1\n",
    "n=int(input())\n",
    "count=0\n",
    "while m<=n:\n",
    "    if n%m==0:\n",
    "        count+=1\n",
    "    m+=1\n",
    "print(count)\n",
    "    "
   ]
  },
  {
   "cell_type": "code",
   "execution_count": 10,
   "metadata": {},
   "outputs": [
    {
     "name": "stdout",
     "output_type": "stream",
     "text": [
      "2\n",
      "7 is a prime number\n"
     ]
    }
   ],
   "source": [
    "#23. given number is prime number or not.\n",
    "m=1\n",
    "n=int(input())\n",
    "count=0\n",
    "while m<=n:\n",
    "    if n%m==0:\n",
    "        count+=1\n",
    "    m+=1\n",
    "print(count)\n",
    "if count==2:\n",
    "    print(n, 'is a prime number')\n",
    "else:\n",
    "    print(n, 'is not a prime number')"
   ]
  },
  {
   "cell_type": "code",
   "execution_count": 18,
   "metadata": {},
   "outputs": [
    {
     "name": "stdout",
     "output_type": "stream",
     "text": [
      "12\n"
     ]
    }
   ],
   "source": [
    "#24. sum of factors in a given number.\n",
    "m=1\n",
    "n=int(input())\n",
    "sum=0\n",
    "while m<=n:\n",
    "    if n%m==0:\n",
    "        sum+=m\n",
    "    m+=1\n",
    "print(sum)"
   ]
  },
  {
   "cell_type": "code",
   "execution_count": 26,
   "metadata": {},
   "outputs": [
    {
     "name": "stdout",
     "output_type": "stream",
     "text": [
      "8\n",
      "10007 is a prime number\n"
     ]
    }
   ],
   "source": [
    "#25. sum of all the digits and it is prime or not.\n",
    "num=10007\n",
    "sum=0\n",
    "while num:\n",
    "    ld=num%10\n",
    "    sum+=ld\n",
    "    num=num//10\n",
    "print(sum)\n",
    "m=1\n",
    "num=10007\n",
    "count=0\n",
    "while m<=num:\n",
    "    if num%m==0:\n",
    "        count+=1\n",
    "    m+=1\n",
    "if count==2:\n",
    "    print(num, 'is a prime number')\n",
    "else:\n",
    "    print(num, 'is not a prime number')\n",
    "\n",
    "\n"
   ]
  },
  {
   "cell_type": "code",
   "execution_count": 42,
   "metadata": {},
   "outputs": [
    {
     "name": "stdout",
     "output_type": "stream",
     "text": [
      "6  is a perfect number\n"
     ]
    }
   ],
   "source": [
    "#26. given number is perfect number or not.\n",
    "m=1\n",
    "n=6\n",
    "sum=0\n",
    "while m<n:\n",
    "    if n%m==0:\n",
    "        sum+=m\n",
    "    m+=1\n",
    "if sum==n:\n",
    "    print(n, ' is a perfect number')\n",
    "else:\n",
    "    print(n, 'is not a perfect number')\n",
    "\n"
   ]
  },
  {
   "cell_type": "code",
   "execution_count": 40,
   "metadata": {},
   "outputs": [
    {
     "name": "stdout",
     "output_type": "stream",
     "text": [
      "28\n",
      "28 is a perfect number\n"
     ]
    }
   ],
   "source": [
    "#27. product of all the digits and resultant value is pefect number or not.\n",
    "m=1\n",
    "n=47\n",
    "pr=1\n",
    "while n:\n",
    "    ld=n%10\n",
    "    pr*=ld\n",
    "    n=n//10\n",
    "print(pr)\n",
    "x=1\n",
    "y=pr\n",
    "res=0\n",
    "while x<y:\n",
    "    if y%x==0:\n",
    "        res+=x\n",
    "    x+=1\n",
    "if res==y:\n",
    "    print(pr, 'is a perfect number')\n",
    "else:\n",
    "    print(pr, 'is not a perfect number')\n"
   ]
  },
  {
   "cell_type": "code",
   "execution_count": 47,
   "metadata": {},
   "outputs": [
    {
     "name": "stdout",
     "output_type": "stream",
     "text": [
      "0\n",
      "1\n",
      "1\n",
      "2\n",
      "3\n",
      "5\n",
      "8\n",
      "13\n",
      "21\n",
      "34\n"
     ]
    }
   ],
   "source": [
    "#28. fibonacci series upto nth value.\n",
    "n=int(input())\n",
    "a=0\n",
    "b=1\n",
    "print(a)\n",
    "print(b)\n",
    "while n:\n",
    "    c=a+b\n",
    "    print(c)\n",
    "    a,b=b,c\n",
    "    n-=1\n"
   ]
  },
  {
   "cell_type": "code",
   "execution_count": 58,
   "metadata": {},
   "outputs": [
    {
     "name": "stdout",
     "output_type": "stream",
     "text": [
      "321\n"
     ]
    }
   ],
   "source": [
    "#29. reverse the number.\n",
    "n=123\n",
    "m=0\n",
    "while n:\n",
    "    ld=n%10\n",
    "    m=(m*10)+ld\n",
    "    n=n//10\n",
    "print(m)\n"
   ]
  },
  {
   "cell_type": "code",
   "execution_count": 70,
   "metadata": {},
   "outputs": [
    {
     "name": "stdout",
     "output_type": "stream",
     "text": [
      "1221 is a palindrome\n"
     ]
    }
   ],
   "source": [
    "#30. Given number is palindrome or not.\n",
    "n=1221\n",
    "temp=n\n",
    "m=0\n",
    "while n:\n",
    "    ld=n%10\n",
    "    m=(m*10)+ld\n",
    "    n=n//10\n",
    "if m==temp:\n",
    "    print(m,'is a palindrome')\n",
    "else:\n",
    "    print(m,'is not a palindrome')"
   ]
  },
  {
   "cell_type": "code",
   "execution_count": 86,
   "metadata": {},
   "outputs": [
    {
     "name": "stdout",
     "output_type": "stream",
     "text": [
      "145\n",
      "145 is a strong number\n"
     ]
    }
   ],
   "source": [
    "#31. given number is a strong number or not.\n",
    "n=145\n",
    "temp=n\n",
    "sum1=0\n",
    "while n:\n",
    "    ld=n%10\n",
    "    m=1\n",
    "    pr=1\n",
    "    while m<=ld:\n",
    "        pr*=m\n",
    "        m+=1\n",
    "    sum1+=pr\n",
    "    n=n//10\n",
    "print(sum1)\n",
    "if sum1==temp:\n",
    "    print(temp, 'is a strong number')\n",
    "else:\n",
    "    print(temp, 'is not a strong number')\n"
   ]
  },
  {
   "cell_type": "code",
   "execution_count": 11,
   "metadata": {},
   "outputs": [
    {
     "name": "stdout",
     "output_type": "stream",
     "text": [
      "153 is a armstrong number\n"
     ]
    }
   ],
   "source": [
    "#32. given number is Armstrong number or not.\n",
    "n=153\n",
    "temp=n\n",
    "sum1=0\n",
    "while n:\n",
    "    ld=n%10\n",
    "    sum1+=ld**3\n",
    "    n=n//10\n",
    "if(sum1==temp):\n",
    "    print(temp, 'is a armstrong number')\n",
    "else:\n",
    "    print(temp, 'is not a armstrong number')\n"
   ]
  },
  {
   "cell_type": "code",
   "execution_count": 13,
   "metadata": {},
   "outputs": [
    {
     "name": "stdout",
     "output_type": "stream",
     "text": [
      "3\n"
     ]
    }
   ],
   "source": [
    "#33. count the no. of digits in a given number.\n",
    "n=152\n",
    "count=0\n",
    "while n:\n",
    "    ld=n%10\n",
    "    count+=1\n",
    "    n=n//10\n",
    "print(count)"
   ]
  },
  {
   "cell_type": "code",
   "execution_count": 17,
   "metadata": {},
   "outputs": [
    {
     "name": "stdout",
     "output_type": "stream",
     "text": [
      "1124 is a spy number\n"
     ]
    }
   ],
   "source": [
    "#34. given value is a Spy number or not.\n",
    "n=1124\n",
    "temp=n\n",
    "sum1=0\n",
    "pr=1\n",
    "while n:\n",
    "    ld=n%10\n",
    "    sum1+=ld\n",
    "    pr*=ld\n",
    "    n=n//10\n",
    "if(sum1==pr):\n",
    "    print(temp, 'is a spy number')\n",
    "else:\n",
    "    print(temp, 'is not a spy number')"
   ]
  },
  {
   "cell_type": "code",
   "execution_count": 23,
   "metadata": {},
   "outputs": [
    {
     "name": "stdout",
     "output_type": "stream",
     "text": [
      "1 => 1\n",
      "2 => 2\n",
      "3 => 6\n",
      "4 => 24\n",
      "5 => 120\n",
      "6 => 720\n",
      "7 => 5040\n",
      "8 => 40320\n",
      "9 => 362880\n",
      "10 => 3628800\n"
     ]
    }
   ],
   "source": [
    "#35. series of factorials from 1 to n.\n",
    "m=1\n",
    "n=int(input())\n",
    "pr=1\n",
    "while m<=n:\n",
    "    pr*=m\n",
    "    print(m,'=>',pr)\n",
    "    m+=1\n"
   ]
  },
  {
   "cell_type": "code",
   "execution_count": 35,
   "metadata": {},
   "outputs": [
    {
     "name": "stdout",
     "output_type": "stream",
     "text": [
      "2\n",
      "3\n",
      "5\n",
      "7\n",
      "11\n",
      "13\n",
      "17\n",
      "19\n",
      "23\n",
      "29\n",
      "31\n",
      "37\n",
      "41\n",
      "43\n",
      "47\n",
      "53\n",
      "59\n",
      "61\n",
      "67\n",
      "71\n",
      "73\n",
      "79\n",
      "83\n",
      "89\n",
      "97\n"
     ]
    }
   ],
   "source": [
    "#36. series of prime numbers from 1 to 100.\n",
    "start=1\n",
    "end=100\n",
    "while start<=end:\n",
    "    m=1\n",
    "    n=start\n",
    "    count=0\n",
    "    while m<=n:\n",
    "        if n%m==0:\n",
    "            count+=1\n",
    "        m+=1\n",
    "    if count==2:\n",
    "        print(n)\n",
    "    start+=1"
   ]
  },
  {
   "cell_type": "code",
   "execution_count": 45,
   "metadata": {},
   "outputs": [
    {
     "name": "stdout",
     "output_type": "stream",
     "text": [
      "0\n",
      "1\n",
      "2\n",
      "145\n"
     ]
    }
   ],
   "source": [
    "#37. series of strong numbers.\n",
    "start=0\n",
    "end=2000\n",
    "while start<=end:\n",
    "    m=1\n",
    "    n=start\n",
    "    temp=n\n",
    "    sum1=0\n",
    "    while m<=n:\n",
    "        ld=n%10\n",
    "        x=1\n",
    "        y=ld\n",
    "        pr=1\n",
    "        while x<=y:\n",
    "            pr*=x\n",
    "            x+=1\n",
    "        sum1+=pr\n",
    "        n=n//10\n",
    "    if sum1==temp:\n",
    "        print(sum1)\n",
    "    start+=1\n",
    "\n",
    "        "
   ]
  },
  {
   "cell_type": "code",
   "execution_count": 55,
   "metadata": {},
   "outputs": [
    {
     "ename": "KeyboardInterrupt",
     "evalue": "",
     "output_type": "error",
     "traceback": [
      "\u001b[1;31m---------------------------------------------------------------------------\u001b[0m",
      "\u001b[1;31mKeyboardInterrupt\u001b[0m                         Traceback (most recent call last)",
      "Cell \u001b[1;32mIn[55], line 10\u001b[0m\n\u001b[0;32m      8\u001b[0m count\u001b[39m=\u001b[39m\u001b[39m0\u001b[39m\n\u001b[0;32m      9\u001b[0m sum1\u001b[39m=\u001b[39m\u001b[39m0\u001b[39m\n\u001b[1;32m---> 10\u001b[0m \u001b[39mwhile\u001b[39;00m n:\n\u001b[0;32m     11\u001b[0m     count\u001b[39m+\u001b[39m\u001b[39m=\u001b[39m\u001b[39m1\u001b[39m\n\u001b[0;32m     12\u001b[0m n\u001b[39m=\u001b[39mn\u001b[39m/\u001b[39m\u001b[39m/\u001b[39m\u001b[39m10\u001b[39m\n",
      "\u001b[1;31mKeyboardInterrupt\u001b[0m: "
     ]
    }
   ],
   "source": [
    "#38. series of Armstrong numbers from 1 to 100000.\n",
    "start=1\n",
    "end=100000\n",
    "while start<=end:\n",
    "    n=start\n",
    "    s=n\n",
    "    temp=n\n",
    "    count=0\n",
    "    sum1=0\n",
    "    while n:\n",
    "        count+=1\n",
    "    n=n//10\n",
    "while temp:\n",
    "    ld=temp%10\n",
    "    sum1+=ld**count\n",
    "    temp=temp//10\n",
    "if s==sum1:\n",
    "    print(sum1)\n",
    "start+=1"
   ]
  },
  {
   "cell_type": "code",
   "execution_count": 68,
   "metadata": {},
   "outputs": [
    {
     "ename": "KeyboardInterrupt",
     "evalue": "",
     "output_type": "error",
     "traceback": [
      "\u001b[1;31m---------------------------------------------------------------------------\u001b[0m",
      "\u001b[1;31mKeyboardInterrupt\u001b[0m                         Traceback (most recent call last)",
      "Cell \u001b[1;32mIn[68], line 4\u001b[0m\n\u001b[0;32m      2\u001b[0m start\u001b[39m=\u001b[39m\u001b[39m1\u001b[39m\n\u001b[0;32m      3\u001b[0m end\u001b[39m=\u001b[39m\u001b[39m100000\u001b[39m\n\u001b[1;32m----> 4\u001b[0m \u001b[39mwhile\u001b[39;00m start\u001b[39m<\u001b[39m\u001b[39m=\u001b[39mend:\n\u001b[0;32m      5\u001b[0m     n\u001b[39m=\u001b[39mstart\n\u001b[0;32m      6\u001b[0m     temp\u001b[39m=\u001b[39mn\n",
      "\u001b[1;31mKeyboardInterrupt\u001b[0m: "
     ]
    }
   ],
   "source": [
    "#39. series of spy numnbers from 1 to 100000.\n",
    "start=1\n",
    "end=100000\n",
    "while start<=end:\n",
    "    n=start\n",
    "    temp=n\n",
    "    sum1=0\n",
    "    pr=1\n",
    "    while temp:\n",
    "        ld=temp%10\n",
    "        sum1=ld+sum1\n",
    "        pr=ld*pr\n",
    "        temp=temp//10\n",
    "if(n==pr):\n",
    "        print(pr)"
   ]
  },
  {
   "cell_type": "code",
   "execution_count": 72,
   "metadata": {},
   "outputs": [
    {
     "name": "stdout",
     "output_type": "stream",
     "text": [
      "1\n",
      "2\n",
      "3\n",
      "4\n",
      "5\n",
      "6\n",
      "7\n",
      "8\n",
      "9\n",
      "11\n",
      "22\n",
      "33\n",
      "44\n",
      "55\n",
      "66\n",
      "77\n",
      "88\n",
      "99\n",
      "101\n",
      "111\n",
      "121\n",
      "131\n",
      "141\n",
      "151\n",
      "161\n",
      "171\n",
      "181\n",
      "191\n",
      "202\n",
      "212\n",
      "222\n",
      "232\n",
      "242\n",
      "252\n",
      "262\n",
      "272\n",
      "282\n",
      "292\n",
      "303\n",
      "313\n",
      "323\n",
      "333\n",
      "343\n",
      "353\n",
      "363\n",
      "373\n",
      "383\n",
      "393\n",
      "404\n",
      "414\n",
      "424\n",
      "434\n",
      "444\n",
      "454\n",
      "464\n",
      "474\n",
      "484\n",
      "494\n",
      "505\n",
      "515\n",
      "525\n",
      "535\n",
      "545\n",
      "555\n",
      "565\n",
      "575\n",
      "585\n",
      "595\n",
      "606\n",
      "616\n",
      "626\n",
      "636\n",
      "646\n",
      "656\n",
      "666\n",
      "676\n",
      "686\n",
      "696\n",
      "707\n",
      "717\n",
      "727\n",
      "737\n",
      "747\n",
      "757\n",
      "767\n",
      "777\n",
      "787\n",
      "797\n",
      "808\n",
      "818\n",
      "828\n",
      "838\n",
      "848\n",
      "858\n",
      "868\n",
      "878\n",
      "888\n",
      "898\n",
      "909\n",
      "919\n",
      "929\n",
      "939\n",
      "949\n",
      "959\n",
      "969\n",
      "979\n",
      "989\n",
      "999\n",
      "1001\n",
      "1111\n",
      "1221\n",
      "1331\n",
      "1441\n",
      "1551\n",
      "1661\n",
      "1771\n",
      "1881\n",
      "1991\n",
      "2002\n",
      "2112\n",
      "2222\n",
      "2332\n",
      "2442\n",
      "2552\n",
      "2662\n",
      "2772\n",
      "2882\n",
      "2992\n",
      "3003\n",
      "3113\n",
      "3223\n",
      "3333\n",
      "3443\n",
      "3553\n",
      "3663\n",
      "3773\n",
      "3883\n",
      "3993\n",
      "4004\n",
      "4114\n",
      "4224\n",
      "4334\n",
      "4444\n",
      "4554\n",
      "4664\n",
      "4774\n",
      "4884\n",
      "4994\n",
      "5005\n",
      "5115\n",
      "5225\n",
      "5335\n",
      "5445\n",
      "5555\n",
      "5665\n",
      "5775\n",
      "5885\n",
      "5995\n",
      "6006\n",
      "6116\n",
      "6226\n",
      "6336\n",
      "6446\n",
      "6556\n",
      "6666\n",
      "6776\n",
      "6886\n",
      "6996\n",
      "7007\n",
      "7117\n",
      "7227\n",
      "7337\n",
      "7447\n",
      "7557\n",
      "7667\n",
      "7777\n",
      "7887\n",
      "7997\n",
      "8008\n",
      "8118\n",
      "8228\n",
      "8338\n",
      "8448\n",
      "8558\n",
      "8668\n",
      "8778\n",
      "8888\n",
      "8998\n",
      "9009\n",
      "9119\n",
      "9229\n",
      "9339\n",
      "9449\n",
      "9559\n",
      "9669\n",
      "9779\n",
      "9889\n",
      "9999\n"
     ]
    }
   ],
   "source": [
    "#40. series of palindrome from 1 to 10000.\n",
    "start=1\n",
    "end=10000\n",
    "while start<=end:\n",
    "    n=start\n",
    "    temp=n\n",
    "    rev=0\n",
    "    while n:\n",
    "        ld=n%10\n",
    "        rev=(rev*10)+ld\n",
    "        n=n//10\n",
    "    if rev==temp:\n",
    "        print(rev)\n",
    "    start+=1\n"
   ]
  },
  {
   "cell_type": "code",
   "execution_count": 78,
   "metadata": {},
   "outputs": [
    {
     "name": "stdout",
     "output_type": "stream",
     "text": [
      "60\n",
      "6\n"
     ]
    }
   ],
   "source": [
    "#41. sum of digits and resultant should be single digit.\n",
    "n=12345678912345\n",
    "sum1=0\n",
    "while n:\n",
    "    ld=n%10\n",
    "    sum1+=ld\n",
    "    n=n//10\n",
    "print(sum1)\n",
    "temp=sum1\n",
    "sum2=0\n",
    "while sum1:\n",
    "    ld=sum1%10\n",
    "    sum2+=ld\n",
    "    sum1=sum1//10\n",
    "print(sum2)"
   ]
  },
  {
   "cell_type": "code",
   "execution_count": 83,
   "metadata": {},
   "outputs": [
    {
     "name": "stdout",
     "output_type": "stream",
     "text": [
      "5\n",
      "3\n"
     ]
    }
   ],
   "source": [
    "#42. extract middle digit of given number.\n",
    "n=12345\n",
    "temp=n\n",
    "count=0\n",
    "while n:\n",
    "    count+=1\n",
    "    n=n//10\n",
    "print(count)\n",
    "count=count//2\n",
    "while count:\n",
    "    temp=temp//10\n",
    "    count-=1\n",
    "    ld=temp%10\n",
    "print(ld)\n",
    "\n"
   ]
  }
 ],
 "metadata": {
  "kernelspec": {
   "display_name": "Python 3",
   "language": "python",
   "name": "python3"
  },
  "language_info": {
   "codemirror_mode": {
    "name": "ipython",
    "version": 3
   },
   "file_extension": ".py",
   "mimetype": "text/x-python",
   "name": "python",
   "nbconvert_exporter": "python",
   "pygments_lexer": "ipython3",
   "version": "3.11.4"
  },
  "orig_nbformat": 4
 },
 "nbformat": 4,
 "nbformat_minor": 2
}
