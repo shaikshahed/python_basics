{
 "cells": [
  {
   "cell_type": "code",
   "execution_count": 4,
   "metadata": {},
   "outputs": [
    {
     "name": "stdout",
     "output_type": "stream",
     "text": [
      "positive\n"
     ]
    }
   ],
   "source": [
    "#1. WAP to check whether a number is positive or negative. If Positive print positive message or else print Negative Number.\n",
    "n=24\n",
    "if(n>=0):\n",
    "    print('positive')\n",
    "else:\n",
    "    print(n)"
   ]
  },
  {
   "cell_type": "code",
   "execution_count": 5,
   "metadata": {},
   "outputs": [
    {
     "name": "stdout",
     "output_type": "stream",
     "text": [
      "Odd\n"
     ]
    }
   ],
   "source": [
    "#2. WAP to check whether a number is even or odd. If even, print message an even or else print message as odd.\n",
    "a=3\n",
    "if(a%2==0):\n",
    "    print('Even')\n",
    "else:\n",
    "    print('Odd') "
   ]
  },
  {
   "cell_type": "code",
   "execution_count": 9,
   "metadata": {},
   "outputs": [
    {
     "name": "stdout",
     "output_type": "stream",
     "text": [
      "5  is not greater than 10\n"
     ]
    }
   ],
   "source": [
    "#3. Write a program to check whether a given number is greater than 10 or not. if it is greater than 10 print message as greater or else print that number with not a greater than.\n",
    "a=5\n",
    "if(a>10):\n",
    "    print('greater')\n",
    "else:\n",
    "    print(a,' is not greater than 10') "
   ]
  },
  {
   "cell_type": "code",
   "execution_count": 10,
   "metadata": {},
   "outputs": [
    {
     "name": "stdout",
     "output_type": "stream",
     "text": [
      "Good Morning\n"
     ]
    }
   ],
   "source": [
    "#4. WAP to check whether the given two input numbers are divisible by 3 and 5. If it is divisible, print “Good Morning”, if it is not divisible print “Good Evening”.\n",
    "a=15\n",
    "if(a%3==0 and a%5==0):\n",
    "    print('Good Morning')\n",
    "else:\n",
    "    print('Good Evening')"
   ]
  },
  {
   "cell_type": "code",
   "execution_count": null,
   "metadata": {},
   "outputs": [],
   "source": [
    "#5. WAP to accept two integers and check whether those two values are equal or not.If equal, multiply to value or else to display the quotation value. \n"
   ]
  },
  {
   "cell_type": "code",
   "execution_count": 11,
   "metadata": {},
   "outputs": [
    {
     "name": "stdout",
     "output_type": "stream",
     "text": [
      "b is largest\n"
     ]
    }
   ],
   "source": [
    "#6. WAP to find the largest of two numbers.\n",
    "a=24\n",
    "b=30\n",
    "if(a>b):\n",
    "    print('a is largest')\n",
    "else:\n",
    "    print('b is largest')"
   ]
  },
  {
   "cell_type": "code",
   "execution_count": null,
   "metadata": {},
   "outputs": [],
   "source": [
    "#7. WAP to check whether the input number is greater than 10 or not if it is greater than 10 print messages as greater with number. if it is not a greater than 10 print than 10 print messages as greater with number. if it is not a greater than 10 print that number. \n",
    " "
   ]
  },
  {
   "cell_type": "code",
   "execution_count": 19,
   "metadata": {},
   "outputs": [
    {
     "name": "stdout",
     "output_type": "stream",
     "text": [
      "-2\n"
     ]
    }
   ],
   "source": [
    "#8. WAP to the given number integer, if n is greater than 21,print the absolute difference between n and 21 otherwise print twice the absolute difference.\n",
    "n=20\n",
    "if(n>21):\n",
    "    m=n-21\n",
    "    print((m)*(-1))\n",
    "else:\n",
    "    m=n-21\n",
    "    print((m+m))\n"
   ]
  },
  {
   "cell_type": "code",
   "execution_count": 20,
   "metadata": {},
   "outputs": [
    {
     "name": "stdout",
     "output_type": "stream",
     "text": [
      "b is smallest\n"
     ]
    }
   ],
   "source": [
    "#9. WAP to find the smallest of two numbers. \n",
    "a=10\n",
    "b=9\n",
    "if(a<b):\n",
    "    print('a is smallest')\n",
    "else:\n",
    "    print('b is smallest')"
   ]
  },
  {
   "cell_type": "code",
   "execution_count": 23,
   "metadata": {},
   "outputs": [
    {
     "name": "stdout",
     "output_type": "stream",
     "text": [
      "24 Even number\n"
     ]
    }
   ],
   "source": [
    "#10. WAP to check whether the given number is even or odd. If it is even then make it as an add number, if it is an odd number then make it as even number. \n",
    "a=23\n",
    "if(a%2==0):\n",
    "    a+=1\n",
    "    print(a, 'odd number')\n",
    "else:\n",
    "    a+=1\n",
    "    print(a, 'Even number') "
   ]
  },
  {
   "cell_type": "code",
   "execution_count": 3,
   "metadata": {},
   "outputs": [
    {
     "name": "stdout",
     "output_type": "stream",
     "text": [
      "9\n"
     ]
    }
   ],
   "source": [
    "#11. WAP to check whether the given number is divisible by 3 or not if yes, print the number or else print the cube of the numbers.\n",
    "n=9\n",
    "if(n%3==0):\n",
    "    print(n)\n",
    "else:\n",
    "    print(n**3)"
   ]
  },
  {
   "cell_type": "code",
   "execution_count": 5,
   "metadata": {},
   "outputs": [
    {
     "name": "stdout",
     "output_type": "stream",
     "text": [
      "5\n",
      "<class 'str'>\n"
     ]
    }
   ],
   "source": [
    "#12. WAP to check whether the given input is divisible by 3 and 5. If yes print the actual number or else print string of that number.\n",
    "n=5\n",
    "if(n%3==0 and n%5==0):\n",
    "    print(n)\n",
    "else:\n",
    "    m=str(n)\n",
    "    print(m)\n",
    "    print(type(m))"
   ]
  },
  {
   "cell_type": "code",
   "execution_count": 6,
   "metadata": {},
   "outputs": [
    {
     "name": "stdout",
     "output_type": "stream",
     "text": [
      "225\n"
     ]
    }
   ],
   "source": [
    "#13. WAP to check whether the given number lies between 1 to 19, if it is true square that number or else false cube that number  and display the number.\n",
    "n=15\n",
    "if(1<n<19):\n",
    "    print(n**2)\n",
    "else:\n",
    "    print(n**3)"
   ]
  },
  {
   "cell_type": "code",
   "execution_count": 10,
   "metadata": {},
   "outputs": [
    {
     "name": "stdout",
     "output_type": "stream",
     "text": [
      "PASS 42\n"
     ]
    }
   ],
   "source": [
    "#14. WAP to check whether the student has passed or failed. If the student got more than 40 marks, print ‘PASS’ along with those marks, if it is not printed ‘FAIL’ along with those marks..\n",
    "n=42\n",
    "if(n>40):\n",
    "    print('PASS', n)\n",
    "else:\n",
    "    print('FAIL', n)  "
   ]
  },
  {
   "cell_type": "code",
   "execution_count": 14,
   "metadata": {},
   "outputs": [
    {
     "name": "stdout",
     "output_type": "stream",
     "text": [
      "8\n"
     ]
    }
   ],
   "source": [
    "#15. WAP to check whether a given value is even and in range of 47 to 58 and not in 0 or odd. if condition is True, to perform display the ascii character. or else to perform floor division with 5 and display it.\n",
    "n=56\n",
    "if(n%2==0 and 47<n<58 and not(0 or n%2!=0)):\n",
    "    print(chr(n))\n",
    "else:\n",
    "    m=n//5\n",
    "    print(m)"
   ]
  },
  {
   "cell_type": "code",
   "execution_count": 17,
   "metadata": {},
   "outputs": [
    {
     "name": "stdout",
     "output_type": "stream",
     "text": [
      "[126]\n"
     ]
    }
   ],
   "source": [
    "#16. WAP to check whether a given value is less than 125 and in between 47 to 125 or not. if condition is True, to perform store the given value as key and value as a character into the dict or else to append the value in list and display it.\n",
    "n=126\n",
    "if(47<n<125):\n",
    "    d={}\n",
    "    d[n]=chr(n)\n",
    "    print(d)\n",
    "else:\n",
    "    m=[]\n",
    "    m.append(n)\n",
    "    print(m)"
   ]
  },
  {
   "cell_type": "code",
   "execution_count": 21,
   "metadata": {},
   "outputs": [
    {
     "name": "stdout",
     "output_type": "stream",
     "text": [
      "alphabet y\n"
     ]
    }
   ],
   "source": [
    "#17. WAP to check whether a given character is in the alphabet or not. if alphabet,display the alphabet with character or else display the not alphabet with character.\n",
    "ch='y'\n",
    "if('A'<=ch<='Z' or 'a'<=ch<='z'):\n",
    "    print('alphabet',ch)\n",
    "else:\n",
    "    print('not alphabet',ch)"
   ]
  },
  {
   "cell_type": "code",
   "execution_count": 23,
   "metadata": {},
   "outputs": [
    {
     "name": "stdout",
     "output_type": "stream",
     "text": [
      "uppercase A\n"
     ]
    }
   ],
   "source": [
    "#18. WAP to check whether a given character is uppercase or other character. if uppercase, display the uppercase with character or else display the other character with character.\n",
    "ch='A'\n",
    "if('A'<=ch<='Z'):\n",
    "    print('uppercase', ch)\n",
    "else:\n",
    "    print('other character', ch)"
   ]
  },
  {
   "cell_type": "code",
   "execution_count": 25,
   "metadata": {},
   "outputs": [
    {
     "name": "stdout",
     "output_type": "stream",
     "text": [
      "lowercase a\n"
     ]
    }
   ],
   "source": [
    "#19. WAP to check whether a given character is lowercase or other character. if lowercase, display the lowercase with character or else display the other character with character.\n",
    "ch='a'\n",
    "if('a'<=ch<='z'):\n",
    "    print('lowercase', ch)\n",
    "else:\n",
    "    print('other character', ch)"
   ]
  },
  {
   "cell_type": "code",
   "execution_count": 28,
   "metadata": {},
   "outputs": [
    {
     "name": "stdout",
     "output_type": "stream",
     "text": [
      "h\n"
     ]
    }
   ],
   "source": [
    "#20. WAP to check whether a given character is uppercase or other character. if uppercase, convert to lowercase .or else display the ascii number.\n",
    "ch='H'\n",
    "if('A'<=ch<='Z'):\n",
    "    m=chr(ord(ch)+32)\n",
    "    print(m)\n",
    "else:\n",
    "    print(ord(ch))"
   ]
  },
  {
   "cell_type": "code",
   "execution_count": 30,
   "metadata": {},
   "outputs": [
    {
     "name": "stdout",
     "output_type": "stream",
     "text": [
      "t\n"
     ]
    }
   ],
   "source": [
    "#21. WAP to check whether the given character is in lowercase or uppercase. If it is in lowercase, convert it into uppercase, or else it is in uppercase and convert it into lowercase. Display the value.\n",
    "ch='T'\n",
    "if('a'<=ch<='z'):\n",
    "    print(chr(ord(ch)-32))\n",
    "else:\n",
    "    print(chr(ord(ch)+32))"
   ]
  },
  {
   "cell_type": "code",
   "execution_count": 66,
   "metadata": {},
   "outputs": [
    {
     "name": "stdout",
     "output_type": "stream",
     "text": [
      "d\n"
     ]
    }
   ],
   "source": [
    "#22. WAP to check whether the given string of the first character is a special symbol or not. If a special symbol, to extract and display the middle character or else to reverse the string and display the half of the string.\n",
    "ch='@bcdef'\n",
    "if(ch[0]!=('A'<=ch<='Z' or 'a'<=ch<='z' or '0'<=ch<='9')):\n",
    "    print(ch[len(ch)//2])\n",
    "else:\n",
    "    m=ch[::-1]\n",
    "    print(m[0:len(m)//2])\n"
   ]
  },
  {
   "cell_type": "code",
   "execution_count": 75,
   "metadata": {},
   "outputs": [
    {
     "name": "stdout",
     "output_type": "stream",
     "text": [
      "VOWEL\n"
     ]
    }
   ],
   "source": [
    "#23. WAP to check whether the input character is a vowel or not. If it is vowel print ‘VOWEL’ along with that character, if it is not just print ‘CONSONANT’.\n",
    "ch='a'\n",
    "if(ch in 'AEIOUaeiou'):\n",
    "    print('VOWEL')\n",
    "else:\n",
    "    print('CONSONANT')"
   ]
  },
  {
   "cell_type": "code",
   "execution_count": 74,
   "metadata": {},
   "outputs": [
    {
     "name": "stdout",
     "output_type": "stream",
     "text": [
      "f\n"
     ]
    }
   ],
   "source": [
    "#24.WAP to check whether a given character is a vowel or consonant. if vowel, to print the next character of a given character or else print previous characters.\n",
    "ch='e'\n",
    "if(ch in 'AEIOUaeiou'):\n",
    "    print(chr(ord(ch)+1))\n",
    "else:\n",
    "    print(chr(ord(ch)-1))"
   ]
  },
  {
   "cell_type": "code",
   "execution_count": 83,
   "metadata": {},
   "outputs": [
    {
     "name": "stdout",
     "output_type": "stream",
     "text": [
      "edcba\n"
     ]
    }
   ],
   "source": [
    "#25. WAP to check whether a given string of first character is alphabet or not if the alphabet prints, reverse the string or else print the middle character.\n",
    "ch='abcde'\n",
    "if(ch[0]=='A'<=ch<='Z' or 'a'<=ch<='z'):\n",
    "    m=ch[::-1]\n",
    "    print(m)\n",
    "else:\n",
    "    print(ch[len(ch)//2])"
   ]
  },
  {
   "cell_type": "code",
   "execution_count": 85,
   "metadata": {},
   "outputs": [
    {
     "name": "stdout",
     "output_type": "stream",
     "text": [
      "A\n"
     ]
    }
   ],
   "source": [
    "#26. WAP to check whether the given input character is uppercase or lowercase. If the input character is upper case convert into lower case and vice versa..\n",
    "ch='a'\n",
    "if('A'<=ch<='Z'):\n",
    "    res=chr(ord(ch)+32)\n",
    "    print(res)\n",
    "else:\n",
    "    res=chr(ord(ch)-32)\n",
    "    print(res) "
   ]
  },
  {
   "cell_type": "code",
   "execution_count": 87,
   "metadata": {},
   "outputs": [
    {
     "name": "stdout",
     "output_type": "stream",
     "text": [
      "def\n"
     ]
    }
   ],
   "source": [
    "#27. WAP to check whether a given string is less than 3 characters, to print the entire string otherwise to print after third positions to the remaining string.\n",
    "ch='abcdef'\n",
    "if(len(ch)<3):\n",
    "    print(ch)\n",
    "else:\n",
    "    res=ch[3:]\n",
    "    print(res)"
   ]
  },
  {
   "cell_type": "code",
   "execution_count": 94,
   "metadata": {},
   "outputs": [
    {
     "name": "stdout",
     "output_type": "stream",
     "text": [
      "abcdefbye\n"
     ]
    }
   ],
   "source": [
    "#28. WAP to check whether a given length of the string is even or not. if even, to append the new string called \"bye\" or else print the first and last characters.\n",
    "ch='abcdef'\n",
    "if(len(ch)%2==0):\n",
    "    ch+='bye'    \n",
    "    print(ch)\n",
    "else:\n",
    "    print(ch[0],ch[-1])"
   ]
  },
  {
   "cell_type": "code",
   "execution_count": 104,
   "metadata": {},
   "outputs": [
    {
     "name": "stdout",
     "output_type": "stream",
     "text": [
      "bcde\n"
     ]
    }
   ],
   "source": [
    "#29. WAP to check whether a given length of the string is odd or not. if odd, to append the new string(\"Haii\") from the starting of the given string, or else to avoid the starting character and ending character of the given  string and to display the remaining characters.\n",
    "ch='abcdef'\n",
    "if(len(ch)%2!=0):\n",
    "    res='Haii'+ch[0:]\n",
    "    print(res)\n",
    "else:\n",
    "    res=ch[1:len(ch)-1]\n",
    "    print(res)"
   ]
  },
  {
   "cell_type": "code",
   "execution_count": 114,
   "metadata": {},
   "outputs": [
    {
     "name": "stdout",
     "output_type": "stream",
     "text": [
      "dcba\n"
     ]
    }
   ],
   "source": [
    "#30. WAP to check whether the last of the given string is a special character or not, if the special character prints reverse the string except the last character or else to check if the length of the string is odd or not, if odd to extract the middle character to the end of the string.\n",
    "ch='abcde'\n",
    "if(ch[-1]!='A'<=ch<='Z' or 'a'<=ch<='z'):\n",
    "    res=ch[-2::-1]\n",
    "    print(res)\n",
    "elif(len(ch)%2!=0):\n",
    "    res=ch[len(ch)//2]\n",
    "    ch[-1]+=res\n",
    "    print(ch)"
   ]
  },
  {
   "cell_type": "code",
   "execution_count": 2,
   "metadata": {},
   "outputs": [
    {
     "name": "stdout",
     "output_type": "stream",
     "text": [
      "leap year\n"
     ]
    }
   ],
   "source": [
    "#31. WAP to check whether a given year is a leap year or not. if leap year, print leap year.\n",
    "n=2000\n",
    "if(n%2==0 and n%4==0 and n%100==0):\n",
    "    print('leap year')\n",
    "else:\n",
    "    print('not a leap year')"
   ]
  },
  {
   "cell_type": "code",
   "execution_count": 2,
   "metadata": {},
   "outputs": [
    {
     "name": "stdout",
     "output_type": "stream",
     "text": [
      "60 is greatest number\n"
     ]
    }
   ],
   "source": [
    "#32. WAP to find out the greatest of two numbers and display the greatest number. if the greatest number, display the greatest message with value..\n",
    "a=50\n",
    "b=60\n",
    "if(a>b):\n",
    "    print(a,'is greatest number')\n",
    "else:\n",
    "    print(b,'is greatest number') "
   ]
  },
  {
   "cell_type": "code",
   "execution_count": 3,
   "metadata": {},
   "outputs": [
    {
     "name": "stdout",
     "output_type": "stream",
     "text": [
      "value is available\n"
     ]
    }
   ],
   "source": [
    "#33. WAP to check whether the given value is present inside the given collection or not.if value is present, display the value is available or else the value is not present.\n",
    "a=[10,20,'str',['a',20]]\n",
    "b=20\n",
    "if(b in a):\n",
    "    print('value is available')\n",
    "else:\n",
    "    print('value is not available')"
   ]
  },
  {
   "cell_type": "code",
   "execution_count": 28,
   "metadata": {},
   "outputs": [
    {
     "name": "stdout",
     "output_type": "stream",
     "text": [
      "ebcda\n"
     ]
    }
   ],
   "source": [
    "#34. WAP whether a given string, if string length is more than 2, then it displays a new string with the first and last characters switched, otherwise the display the 3 copies of given string.\n",
    "st='abcde'\n",
    "if(len(st)>2):\n",
    "    st2=st[-1]+st[1:len(st)-1]+st[0]\n",
    "    print(st2)\n",
    "else:\n",
    "    print(st,id(st))\n",
    "    import copy\n",
    "    b=st\n",
    "    print(b,id(b))\n",
    "    b=st.copy()\n",
    "    print(b,id(b))\n",
    "    b=copy.deepcopy(st)\n",
    "    print(b,id(b))\n"
   ]
  },
  {
   "cell_type": "code",
   "execution_count": 23,
   "metadata": {},
   "outputs": [
    {
     "name": "stdout",
     "output_type": "stream",
     "text": [
      "[1.0, [2, 'str', [1, 2]], -3]\n"
     ]
    }
   ],
   "source": [
    "#35. WAP to check whether a given value is a list and first and last values should be integer if condition is satisfied first value is True division by 3 and perform the bitwise not for last value and those result values are stored in same positions in given list or else, to perform length of the collection power by 2 and display value.\n",
    "l=[3,2,'str',[1,2],1]\n",
    "if(type(l[0])==int and type(l[-1]==int)):\n",
    "    res1=l[0]/3\n",
    "    res2=~(l[-1]+1)\n",
    "    print([res1,l[1:-1],res2])\n",
    "else:\n",
    "    res=len(l)**2\n",
    "    print(res)"
   ]
  },
  {
   "cell_type": "code",
   "execution_count": 40,
   "metadata": {},
   "outputs": [
    {
     "name": "stdout",
     "output_type": "stream",
     "text": [
      "abcdijklefgh\n"
     ]
    }
   ],
   "source": [
    "#36. WAP to check whether a given value is a string or not and length of the value should be more than 7, if condition is satisfied to append the new string in the middle of the given string or else to perform the replications with 3 and display the result.\n",
    "ch='abcdefgh'\n",
    "if(type(ch)==str and len(ch)>7):\n",
    "    res=ch[0:len(ch)//2]+'ijkl'+ch[len(ch)//2:]\n",
    "    print(res)"
   ]
  },
  {
   "cell_type": "code",
   "execution_count": 54,
   "metadata": {},
   "outputs": [
    {
     "name": "stdout",
     "output_type": "stream",
     "text": [
      "['dcdaefghi']\n"
     ]
    }
   ],
   "source": [
    "#37. WAP to check if the given string of first and second character should be sequence or not. if the sequence prints the first, second and last two characters, or else the first half string is reversed and the remaining half string should be normal and display it.\n",
    "st='adcdefghi'\n",
    "if(ord(st[0])+1==ord(st[1])):\n",
    "    res=st[0],st[1],st[-2],st[-1]\n",
    "    print(res)\n",
    "else:\n",
    "    print([st[len(st)//2-1::-1]+st[len(st)//2:]])"
   ]
  },
  {
   "cell_type": "code",
   "execution_count": 59,
   "metadata": {},
   "outputs": [
    {
     "name": "stdout",
     "output_type": "stream",
     "text": [
      "(10,)\n"
     ]
    }
   ],
   "source": [
    "#38. WAP to check whether a given value is present inside the collection or not. If present, print the value or else print value is not found.\n",
    "n=[1,2,3,4,'str',(10,),{'a':20}]\n",
    "m=(10,)\n",
    "if(m in n):\n",
    "    print(m)\n",
    "else:\n",
    "    print('value is not found')"
   ]
  },
  {
   "cell_type": "code",
   "execution_count": 67,
   "metadata": {},
   "outputs": [
    {
     "name": "stdout",
     "output_type": "stream",
     "text": [
      "20\n"
     ]
    }
   ],
   "source": [
    "#39. WAP to check whether a given key is present in the dict or not. if key is present display the value or else add key and new value inside the dict.\n",
    "d={'a':10,'b':20,'c':30}\n",
    "m='b'\n",
    "if(m in d):\n",
    "    print(d['b'])"
   ]
  },
  {
   "cell_type": "code",
   "execution_count": 73,
   "metadata": {},
   "outputs": [
    {
     "name": "stdout",
     "output_type": "stream",
     "text": [
      "{1, 2, 3.0, 'str'}\n"
     ]
    }
   ],
   "source": [
    "#40. WAP to check whether a given collection is set or not. if set, append the new value, or else eliminate the duplicate values in collection. final results should be set type.\n",
    "s=[1,2,3.0,'str',1,2]\n",
    "if(type(s)==set):\n",
    "    res={5,6}\n",
    "    s|=res\n",
    "    print(s)\n",
    "else:\n",
    "    print(set(s))"
   ]
  },
  {
   "cell_type": "code",
   "execution_count": 74,
   "metadata": {},
   "outputs": [
    {
     "name": "stdout",
     "output_type": "stream",
     "text": [
      "18 eligible\n"
     ]
    }
   ],
   "source": [
    "#41. WAP to read the age of a candidate and determine whether it is eligible for his/her own vote or not.it eligible print age and eligible messages or else print not eligible.\n",
    "n=18\n",
    "if(n>=18):\n",
    "    print(n,'eligible')\n",
    "else:\n",
    "    print('Not eligible') "
   ]
  },
  {
   "cell_type": "code",
   "execution_count": 87,
   "metadata": {},
   "outputs": [
    {
     "name": "stdout",
     "output_type": "stream",
     "text": [
      "2\n"
     ]
    }
   ],
   "source": [
    "#42. WAP to check whether a given value is even and in between 47 to 58 and not in 0 or odd. if condition is True, to perform display the ascii character or else to perform floor division with 5 and display it.\n",
    "n=50\n",
    "if(n%2==0 and 47<n<58 and not(0 or n%2!=0)):\n",
    "    res=chr(n)\n",
    "    print(res)\n",
    "else:\n",
    "    res=n//5\n",
    "    print(res)"
   ]
  },
  {
   "cell_type": "code",
   "execution_count": 94,
   "metadata": {},
   "outputs": [
    {
     "name": "stdout",
     "output_type": "stream",
     "text": [
      "palindrome madam\n"
     ]
    }
   ],
   "source": [
    "#43. WAP to check whether the given string is palindrome or not if it is a palindrome string palindrome along with the string if it is not a palindrome print not palindrome.\n",
    "st='madam'\n",
    "if(st[0:]==st[-1::-1]):\n",
    "    print('palindrome',st)\n",
    "else:\n",
    "    print('not a palindrome')"
   ]
  },
  {
   "cell_type": "code",
   "execution_count": 103,
   "metadata": {},
   "outputs": [
    {
     "name": "stdout",
     "output_type": "stream",
     "text": [
      "12221 is a palindrome\n"
     ]
    }
   ],
   "source": [
    "#44. WAP to check whether a given number is palindrome or not. If palindrome, display the given value as a palindrome or else not a palindrome.\n",
    "n=12221\n",
    "res=str(n)\n",
    "if(res[0:]==res[-1::-1]):\n",
    "    print(n,'is a palindrome')\n",
    "else:\n",
    "    print('not a palindrome')"
   ]
  }
 ],
 "metadata": {
  "kernelspec": {
   "display_name": "Python 3",
   "language": "python",
   "name": "python3"
  },
  "language_info": {
   "codemirror_mode": {
    "name": "ipython",
    "version": 3
   },
   "file_extension": ".py",
   "mimetype": "text/x-python",
   "name": "python",
   "nbconvert_exporter": "python",
   "pygments_lexer": "ipython3",
   "version": "3.11.4"
  },
  "orig_nbformat": 4
 },
 "nbformat": 4,
 "nbformat_minor": 2
}
