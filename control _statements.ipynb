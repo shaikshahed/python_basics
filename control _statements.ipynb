{
 "cells": [
  {
   "cell_type": "code",
   "execution_count": 105,
   "metadata": {},
   "outputs": [
    {
     "name": "stdout",
     "output_type": "stream",
     "text": [
      "positive\n"
     ]
    }
   ],
   "source": [
    "#1. WAP to check whether a given number is positive. If positive,print a message positive.\n",
    "n=85\n",
    "if(n>0):\n",
    "    print('positive')"
   ]
  },
  {
   "cell_type": "code",
   "execution_count": 4,
   "metadata": {},
   "outputs": [
    {
     "name": "stdout",
     "output_type": "stream",
     "text": [
      "helloworld\n"
     ]
    }
   ],
   "source": [
    "#2. WAP to display helloworld if the number is greater than 1 and lesser than 5.\n",
    "n=4\n",
    "if(1<n<5):\n",
    "    print('helloworld')"
   ]
  },
  {
   "cell_type": "code",
   "execution_count": 5,
   "metadata": {},
   "outputs": [
    {
     "name": "stdout",
     "output_type": "stream",
     "text": [
      "(24+0j)\n"
     ]
    }
   ],
   "source": [
    "#3. WAP to check whether the given number is divisible by 2 and 6.If the condition is satisfied,convert the given number into a complex number.\n",
    "n=24\n",
    "if(n%2==0 and n%6==0):\n",
    "    print(complex(n))"
   ]
  },
  {
   "cell_type": "code",
   "execution_count": 7,
   "metadata": {},
   "outputs": [
    {
     "name": "stdout",
     "output_type": "stream",
     "text": [
      "['3', '0']\n"
     ]
    }
   ],
   "source": [
    "#4. WAP to check whether a given input is divisible by 3 or 5.If the condition is satisfied, the number is converted to a list.\n",
    "n=30\n",
    "if(n%3==0 and n%5==0):\n",
    "    print(list(str(n)))"
   ]
  },
  {
   "cell_type": "code",
   "execution_count": 13,
   "metadata": {},
   "outputs": [
    {
     "name": "stdout",
     "output_type": "stream",
     "text": [
      "40 is multiple of 5\n"
     ]
    }
   ],
   "source": [
    "#5. WAP to check whether a given number is multiple of 5 or not.\n",
    "n=40\n",
    "if(n%10==0 or n%10==5):\n",
    "    print(n, 'is multiple of 5')"
   ]
  },
  {
   "cell_type": "code",
   "execution_count": 16,
   "metadata": {},
   "outputs": [
    {
     "name": "stdout",
     "output_type": "stream",
     "text": [
      "0\n"
     ]
    }
   ],
   "source": [
    "#6. WAP to check whether the given input is 0 or not if prints 0.\n",
    "n=0\n",
    "if(n==0):\n",
    "    print(0)"
   ]
  },
  {
   "cell_type": "code",
   "execution_count": 17,
   "metadata": {},
   "outputs": [
    {
     "name": "stdout",
     "output_type": "stream",
     "text": [
      "Negative\n"
     ]
    }
   ],
   "source": [
    "\n",
    "#7. WAP whether a given number is negative.If negative,print a message negative.\n",
    "n=-5\n",
    "if(n<0):\n",
    "    print('Negative')"
   ]
  },
  {
   "cell_type": "code",
   "execution_count": 18,
   "metadata": {},
   "outputs": [
    {
     "name": "stdout",
     "output_type": "stream",
     "text": [
      "['8']\n"
     ]
    }
   ],
   "source": [
    "#8. WAP to check whether a number is even or odd.If even store the value inside the list.\n",
    "n=8\n",
    "if(n%2==0):\n",
    "    print(list(str(n)))"
   ]
  },
  {
   "cell_type": "code",
   "execution_count": 20,
   "metadata": {},
   "outputs": [
    {
     "name": "stdout",
     "output_type": "stream",
     "text": [
      "('9',)\n"
     ]
    }
   ],
   "source": [
    "#9. WAP to check whether a number is odd or not.If odd, store the value inside the tuple.\n",
    "n=9\n",
    "if(n%2!=0):\n",
    "    print(tuple(str(n)))"
   ]
  },
  {
   "cell_type": "code",
   "execution_count": 22,
   "metadata": {},
   "outputs": [
    {
     "name": "stdout",
     "output_type": "stream",
     "text": [
      "16\n"
     ]
    }
   ],
   "source": [
    "#10. WAP to check whether the given number is even or not.If it yes, to print the power of 4 in a given number.\n",
    "n=2\n",
    "if(n%2==0):\n",
    "    print(n**4)"
   ]
  },
  {
   "cell_type": "code",
   "execution_count": null,
   "metadata": {},
   "outputs": [],
   "source": [
    "#11. WAP to take the input from the user as a number and check whether it is a number or not. if yes. take the number and add some value and print it."
   ]
  },
  {
   "cell_type": "code",
   "execution_count": 28,
   "metadata": {},
   "outputs": [
    {
     "name": "stdout",
     "output_type": "stream",
     "text": [
      "hellloworld\n"
     ]
    }
   ],
   "source": [
    "#12. WAP to display helloworld if the number is greater than 1 and less than 5.\n",
    "n=4\n",
    "if(1<n<5):\n",
    "    print('hellloworld')"
   ]
  },
  {
   "cell_type": "code",
   "execution_count": 29,
   "metadata": {},
   "outputs": [
    {
     "name": "stdout",
     "output_type": "stream",
     "text": [
      "1225\n"
     ]
    }
   ],
   "source": [
    "#13. WAP to check whether a given value is divisible by 5 and 7.If the value is divisible ,to display the square of the values.\n",
    "n=35\n",
    "if(n%5==0 and n%7==0):\n",
    "    print(n**2)"
   ]
  },
  {
   "cell_type": "code",
   "execution_count": 34,
   "metadata": {},
   "outputs": [
    {
     "name": "stdout",
     "output_type": "stream",
     "text": [
      "31\n"
     ]
    }
   ],
   "source": [
    "#14. WAP to check whether the given value's last digit is greater than 5  or not.If greater, to perform the bitwise right shift operator.(skipping value is 2)\n",
    "n=126\n",
    "if(n%10>5):\n",
    "    print(n>>2)"
   ]
  },
  {
   "cell_type": "code",
   "execution_count": 1,
   "metadata": {},
   "outputs": [
    {
     "name": "stdout",
     "output_type": "stream",
     "text": [
      "81\n"
     ]
    }
   ],
   "source": [
    "#15. WAP to check whether a given value is divisible by 3 and less than 30.If the value is divisible ,to display the square of the values.\n",
    "n=9\n",
    "if(n%3==0 and n<30):\n",
    "    print(n**2)"
   ]
  },
  {
   "cell_type": "code",
   "execution_count": 2,
   "metadata": {},
   "outputs": [
    {
     "name": "stdout",
     "output_type": "stream",
     "text": [
      "4096\n"
     ]
    }
   ],
   "source": [
    "#16. WAP to check whether a given value is an even number and divisible by 4. If satisfied ,to display the cube of the  values.\n",
    "n=16\n",
    "if(n%4==0 and n%2==0):\n",
    "    print(n**3)\n"
   ]
  },
  {
   "cell_type": "code",
   "execution_count": 11,
   "metadata": {},
   "outputs": [
    {
     "name": "stdout",
     "output_type": "stream",
     "text": [
      "['4']\n"
     ]
    }
   ],
   "source": [
    "#17. WAP to check whether a given value is even or not. If the even number stores the value inside the list.\n",
    "n=4\n",
    "if(n%2==0):\n",
    "    print(list(str(n)))\n"
   ]
  },
  {
   "cell_type": "code",
   "execution_count": 37,
   "metadata": {},
   "outputs": [
    {
     "name": "stdout",
     "output_type": "stream",
     "text": [
      "8\n"
     ]
    }
   ],
   "source": [
    "#18. WAP to check whether a given value is a negative or even number. If satisfied ,to display the last digit of the  values.\n",
    "n=(-68)*(-1)\n",
    "if(n<0 or n%2==0):\n",
    "    print(n%10)\n"
   ]
  },
  {
   "cell_type": "code",
   "execution_count": null,
   "metadata": {},
   "outputs": [
    {
     "name": "stdout",
     "output_type": "stream",
     "text": [
      "-125\n"
     ]
    }
   ],
   "source": [
    "#19. WAP to check whether a given value is a negative or odd number and divisible by 4. If satisfied ,to display the cube of the  values.\n",
    "a=5*(-1)\n",
    "if(a<0 or a%2!=0 and a%4==0):\n",
    "    print(a**3)\n"
   ]
  },
  {
   "cell_type": "code",
   "execution_count": 5,
   "metadata": {},
   "outputs": [
    {
     "name": "stdout",
     "output_type": "stream",
     "text": [
      "H\n"
     ]
    }
   ],
   "source": [
    "#20. WAP to check whether a given ascii value is divisible by 4 and even value. If satisfied, to display the ascii character.\n",
    "n=72\n",
    "if(n%4==0 and n%2==0):\n",
    "    print(chr(n))"
   ]
  },
  {
   "cell_type": "code",
   "execution_count": 6,
   "metadata": {},
   "outputs": [
    {
     "name": "stdout",
     "output_type": "stream",
     "text": [
      "P\n"
     ]
    }
   ],
   "source": [
    "#21. WAP to check whether a given value is present in between 45 to 125 and the number should be divisible by 4 and 5 and even value. If satisfied, to display the ascii character.\n",
    "n=80\n",
    "if(45<n<125 and n%4==0 and n%5==0 and n%2==0):\n",
    "    print(chr(n))"
   ]
  },
  {
   "cell_type": "code",
   "execution_count": 7,
   "metadata": {},
   "outputs": [
    {
     "name": "stdout",
     "output_type": "stream",
     "text": [
      "200\n"
     ]
    }
   ],
   "source": [
    "#22. WAP to check whether a given value is present in between 25 to 100 and the number should be divisible by 4 and 5. If satisfied, to display  multiplication of given value with 5.\n",
    "n=40\n",
    "if(25<n<100 and n%4==0 and n%5==0):\n",
    "    print(n*5)"
   ]
  },
  {
   "cell_type": "code",
   "execution_count": 46,
   "metadata": {},
   "outputs": [
    {
     "name": "stdout",
     "output_type": "stream",
     "text": [
      "4\n"
     ]
    }
   ],
   "source": [
    "#23. WAP to check whether a given number is an integer and odd number. If the condition is satisfied, the integer is divisible by 5 and displays the result.\n",
    "n=9\n",
    "if(type(n)==int and n%2!=0):\n",
    "    m=n%5\n",
    "    print(m)"
   ]
  },
  {
   "cell_type": "code",
   "execution_count": 10,
   "metadata": {},
   "outputs": [
    {
     "name": "stdout",
     "output_type": "stream",
     "text": [
      "156\n",
      "<class 'str'>\n"
     ]
    }
   ],
   "source": [
    "#24. WAP to check whether a given value is an integer or not. If integer, the given value is converted to string and displays the result.\n",
    "a=156\n",
    "if(type(a)==int):\n",
    "    b=str(a)\n",
    "    print(b)\n",
    "    print(type(b))"
   ]
  },
  {
   "cell_type": "code",
   "execution_count": 27,
   "metadata": {},
   "outputs": [
    {
     "name": "stdout",
     "output_type": "stream",
     "text": [
      "2\n"
     ]
    }
   ],
   "source": [
    "#25. WAP to check whether a given value is less than 125 and greater than 60 or not.If the condition is satisfied, take the name and extract the middle character and display it.\n",
    "n=120\n",
    "if(60<n<125):\n",
    "    m=list(str(n))\n",
    "    print(len(m)//2+1)"
   ]
  },
  {
   "cell_type": "code",
   "execution_count": 29,
   "metadata": {},
   "outputs": [
    {
     "name": "stdout",
     "output_type": "stream",
     "text": [
      "4\n"
     ]
    }
   ],
   "source": [
    "#26. WAP to check whether a given two integers are equal or not. If both are equal, to perform addition and display the result.\n",
    "n=2\n",
    "m=2\n",
    "if(n==m):\n",
    "    n+=m\n",
    "    print(n)"
   ]
  },
  {
   "cell_type": "code",
   "execution_count": 31,
   "metadata": {},
   "outputs": [
    {
     "name": "stdout",
     "output_type": "stream",
     "text": [
      "1\n"
     ]
    }
   ],
   "source": [
    "#27. WAP to check whether two values are equal or not. if equal, to perform multiplication of two numbers and that result is division by 3 and display the value.\n",
    "n=4\n",
    "m=4\n",
    "if(n==m):\n",
    "    a=(n*m)%3\n",
    "    print(a)"
   ]
  },
  {
   "cell_type": "code",
   "execution_count": 23,
   "metadata": {},
   "outputs": [
    {
     "name": "stdout",
     "output_type": "stream",
     "text": [
      "{'a': 97}\n"
     ]
    }
   ],
   "source": [
    "#28. WAP to check whether a character is in the alphabet or not. If the alphabet, store the value inside the dict(key as a character and value as an ascii value).\n",
    "n='a'\n",
    "d={}\n",
    "if('A'<=n<='Z' or 'a'<=n<='z'):\n",
    "    m=ord(n)\n",
    "    d|={n:m}\n",
    "    print(d)"
   ]
  },
  {
   "cell_type": "code",
   "execution_count": 14,
   "metadata": {},
   "outputs": [
    {
     "name": "stdout",
     "output_type": "stream",
     "text": [
      "{'A': 65}\n"
     ]
    }
   ],
   "source": [
    "#29. WAP to check whether a character is in the uppercase or not. If the uppercase,store the value inside the dict(key as a character and value as an ascii value).\n",
    "n='A'\n",
    "if(65<=ord(n)<=90):\n",
    "    d={}\n",
    "    m=ord(n)\n",
    "    d|={n:m}\n",
    "    print(d)"
   ]
  },
  {
   "cell_type": "code",
   "execution_count": 21,
   "metadata": {},
   "outputs": [
    {
     "name": "stdout",
     "output_type": "stream",
     "text": [
      "{'a': 97}\n"
     ]
    }
   ],
   "source": [
    "#30. WAP to check whether a character is in the uppercase or not. If the uppercase,convert to lowercase and store the value inside the dict(character as a key and ascii value as a value).\n",
    "n='A'\n",
    "d={}\n",
    "if('A'<=n<='Z'):\n",
    "    m=chr(ord(n)+32)\n",
    "    p=ord(m)\n",
    "    d|={m:p}\n",
    "    print(d)"
   ]
  },
  {
   "cell_type": "code",
   "execution_count": 11,
   "metadata": {},
   "outputs": [
    {
     "name": "stdout",
     "output_type": "stream",
     "text": [
      "aaaaa\n"
     ]
    }
   ],
   "source": [
    "#31. WAP to check whether a character is in the lowercase or not. If the lowercase, to perform the replication operation on that character.\n",
    "n='a'\n",
    "if('a'<=n<='z'):\n",
    "    m=(n)*5\n",
    "    print(m)"
   ]
  },
  {
   "cell_type": "code",
   "execution_count": 10,
   "metadata": {},
   "outputs": [
    {
     "name": "stdout",
     "output_type": "stream",
     "text": [
      "65\n"
     ]
    }
   ],
   "source": [
    "#32. WAP to check whether a character is in the ascii number or not. If the ascii number, to convert into integer.\n",
    "n='A'\n",
    "if(65<=ord(n)<=90 or 97<=ord(n)<=122 or 47<=ord(n)<=57):\n",
    "   print(int(ord(n)))"
   ]
  },
  {
   "cell_type": "code",
   "execution_count": 24,
   "metadata": {},
   "outputs": [
    {
     "name": "stdout",
     "output_type": "stream",
     "text": [
      "$ 36\n"
     ]
    }
   ],
   "source": [
    "#33. WAP to check whether a character is in the special symbol or not. If the special symbol, to display a symbol with ascii value. \n",
    "n='$'\n",
    "if(not(65<=ord(n)<=90 or 97<=ord(n)<=122 or 47<=ord(n)<=57)):\n",
    "    m=ord(n)\n",
    "    print(n,m)"
   ]
  },
  {
   "cell_type": "code",
   "execution_count": 16,
   "metadata": {},
   "outputs": [
    {
     "name": "stdout",
     "output_type": "stream",
     "text": [
      "66\n"
     ]
    }
   ],
   "source": [
    "#34. WAP to check whether a character is an even number or not. If the even number, to display an even number.\n",
    "n='B'\n",
    "if(ord(n)%2==0):\n",
    "    print(ord(n))"
   ]
  },
  {
   "cell_type": "code",
   "execution_count": 19,
   "metadata": {},
   "outputs": [
    {
     "name": "stdout",
     "output_type": "stream",
     "text": [
      "900\n"
     ]
    }
   ],
   "source": [
    "#35. WAP to check whether a Given two integers a and b, if any of the integers is 10 or if their sum is 10, to perform the sum of the numbers and to display  the square of the result..\n",
    "a=10\n",
    "b=20\n",
    "if(a==10 or b==10 or a+b==10):\n",
    "    a+=b\n",
    "    print(a**2)"
   ]
  },
  {
   "cell_type": "code",
   "execution_count": 20,
   "metadata": {},
   "outputs": [
    {
     "name": "stdout",
     "output_type": "stream",
     "text": [
      "B\n"
     ]
    }
   ],
   "source": [
    "#36. WAP to check whether a character is in the vowel or not. If the vowel,print the next character.\n",
    "ch='A'\n",
    "if(ch in 'AEIOUaeiou'):\n",
    "    n=chr(ord(ch)+1)\n",
    "    print(n)"
   ]
  },
  {
   "cell_type": "code",
   "execution_count": 22,
   "metadata": {},
   "outputs": [
    {
     "name": "stdout",
     "output_type": "stream",
     "text": [
      "D\n"
     ]
    }
   ],
   "source": [
    "#37. WAP to check whether a character is in the not a vowel. If it's not a vowel,print the previous character.\n",
    "ch='E'\n",
    "if(ch in 'AEIOUaeiou'):\n",
    "    n=chr(ord(ch)-1)\n",
    "    print(n)"
   ]
  },
  {
   "cell_type": "code",
   "execution_count": 48,
   "metadata": {},
   "outputs": [
    {
     "name": "stdout",
     "output_type": "stream",
     "text": [
      "single value data type\n"
     ]
    }
   ],
   "source": [
    "#38. WAP to check whether a given value is a single value data type or not. If single value, display the given value as a single value data type.\n",
    "n=None\n",
    "if(type(n) in [int,float,bool,complex,bytes,type(None)]):\n",
    "    print('single value data type')"
   ]
  },
  {
   "cell_type": "code",
   "execution_count": 42,
   "metadata": {},
   "outputs": [
    {
     "name": "stdout",
     "output_type": "stream",
     "text": [
      "(1, 2, 3)\n"
     ]
    }
   ],
   "source": [
    "#39. WAP to check whether a given value is a multi-value data type or not. If multi value, store the given value inside the tuple and display it.\n",
    "n=[1,2,3]\n",
    "if(type(n) in [str,list,tuple,set,dict]):\n",
    "    m=tuple(n)\n",
    "    print(m)\n",
    "    "
   ]
  },
  {
   "cell_type": "code",
   "execution_count": 58,
   "metadata": {},
   "outputs": [
    {
     "name": "stdout",
     "output_type": "stream",
     "text": [
      "{'strgy'}\n",
      "<class 'set'>\n"
     ]
    }
   ],
   "source": [
    "#40. WAP to check whether a given value is an immutable data type or not. If an immutable data type value, store the given value inside the set and display it. \n",
    "n='strgy'\n",
    "if(type(n) in [int,float,complex,bytes,bool,type(None),tuple,str]):\n",
    "    s={n}\n",
    "    print(s)\n",
    "    print(type(s))\n"
   ]
  },
  {
   "cell_type": "code",
   "execution_count": 65,
   "metadata": {},
   "outputs": [
    {
     "name": "stdout",
     "output_type": "stream",
     "text": [
      "odd\n",
      "9\n"
     ]
    }
   ],
   "source": [
    "#41. WAP to check whether the middle element of a given list is odd or not. If it is odd then print odd then print the number else directly print the number.\n",
    "l=[1,2,3,9,5,6,7]\n",
    "m=l[len(l)//2]\n",
    "if(m%2!=0):\n",
    "    print('odd')\n",
    "    print(m)\n",
    "else:\n",
    "    print(m)"
   ]
  },
  {
   "cell_type": "code",
   "execution_count": 77,
   "metadata": {},
   "outputs": [
    {
     "name": "stdout",
     "output_type": "stream",
     "text": [
      "notpyspiders\n"
     ]
    }
   ],
   "source": [
    "#42. WAP Return a new string with \"not\" prefixed to the front of the original string.Return the string unmodified if the string already has the word \"not\" at the beginning. \n",
    "s='notpyspiders'\n",
    "if(s[0:3]=='not'):\n",
    "    print(s)\n",
    "else:\n",
    "    t='nott'\n",
    "    print(t+s)\n",
    "\n",
    "    "
   ]
  },
  {
   "cell_type": "code",
   "execution_count": null,
   "metadata": {},
   "outputs": [],
   "source": [
    "#43. WAP to check whether a given string(str) and one integer(n) value, to display a new string that is devoid of the character at index n. if you are given a non-empty string and an int n.\n",
    "# The value of n will be a legitimate character index from the original string, therefore it will fall within the range of 0 to len(str)-1, inclusive.  "
   ]
  },
  {
   "cell_type": "code",
   "execution_count": 84,
   "metadata": {},
   "outputs": [
    {
     "name": "stdout",
     "output_type": "stream",
     "text": [
      "140707190735624\n",
      "140707190735624\n"
     ]
    }
   ],
   "source": [
    "#44. WAP to check whether the two variables are pointing to the same memory location or not if they are pointing to the same memory location then print the address of both the variables.\n",
    "a=256\n",
    "b=256\n",
    "if(id(a)==id(b)):\n",
    "    print(id(a))\n",
    "    print(id(b))"
   ]
  },
  {
   "cell_type": "code",
   "execution_count": 85,
   "metadata": {},
   "outputs": [
    {
     "name": "stdout",
     "output_type": "stream",
     "text": [
      "abcd\n"
     ]
    }
   ],
   "source": [
    "#45.WAP to check whether the given length of the string is even or not. If the condition is satisfied, display the sequence of characters from zero position to length of collection -2.\n",
    "s='abcdef'\n",
    "if(len(s)%2==0):\n",
    "    t=s[0:len(s)-2]\n",
    "    print(t) "
   ]
  },
  {
   "cell_type": "code",
   "execution_count": 86,
   "metadata": {},
   "outputs": [
    {
     "name": "stdout",
     "output_type": "stream",
     "text": [
      "efgh abcd\n"
     ]
    }
   ],
   "source": [
    "#46. WAP to check whether the two given strings are having the same values or not. If both are not the same values then swap the values of one variable to another variable after swapping print the two values.\n",
    "a='abcd'\n",
    "b='efgh'\n",
    "if(a!=b):\n",
    "    temp=a\n",
    "    a=b\n",
    "    b=temp\n",
    "    print(a,b)"
   ]
  },
  {
   "cell_type": "code",
   "execution_count": 87,
   "metadata": {},
   "outputs": [
    {
     "name": "stdout",
     "output_type": "stream",
     "text": [
      "{'#': 35}\n"
     ]
    }
   ],
   "source": [
    "#47. WAP to check whether a given  character is a special symbol or not. If satisfied, store the symbol as a key and value as a ascii value of the given character inside the dictionary.\n",
    "n='#'\n",
    "if(not(65<=ord(n)<=90 or 97<=ord(n)<=122 or 47<=ord(n)<=57)):\n",
    "    m=ord(n)\n",
    "    d={n:m}\n",
    "    print(d)"
   ]
  },
  {
   "cell_type": "code",
   "execution_count": 93,
   "metadata": {},
   "outputs": [
    {
     "name": "stdout",
     "output_type": "stream",
     "text": [
      "{'a': 10, 'b': 20, 'c': 30}\n"
     ]
    }
   ],
   "source": [
    "#48. WAP to check whether a given key is not present in the dictionary or not. If the key is not present, append the new key inside the dictionary.\n",
    "d={'a':10,'b':20}\n",
    "if('c' not in d):\n",
    "    d['c']=30\n",
    "    print(d)"
   ]
  },
  {
   "cell_type": "code",
   "execution_count": 95,
   "metadata": {},
   "outputs": [
    {
     "name": "stdout",
     "output_type": "stream",
     "text": [
      "dbca\n",
      "dbca\n"
     ]
    }
   ],
   "source": [
    "#49. WAP whether a given string, and it displays a new string with the first and last characters switched.\n",
    "a='abcd'\n",
    "b=a[-1]+a[-3:-1]+a[-4]\n",
    "c=a[3]+a[1:3]+a[0]\n",
    "print(b)\n",
    "print(c)"
   ]
  },
  {
   "cell_type": "code",
   "execution_count": 100,
   "metadata": {},
   "outputs": [
    {
     "name": "stdout",
     "output_type": "stream",
     "text": [
      "2\n"
     ]
    }
   ],
   "source": [
    "#50. WAP to check whether the last digit should be 2  in the given number then print the last digit.\n",
    "n=122\n",
    "if(n%10==2):\n",
    "    print(n%10)"
   ]
  },
  {
   "cell_type": "code",
   "execution_count": 101,
   "metadata": {},
   "outputs": [
    {
     "name": "stdout",
     "output_type": "stream",
     "text": [
      "abcd 4\n",
      "efgh 4\n"
     ]
    }
   ],
   "source": [
    "#51. WAP to check whether both string collections are equal or not if it is not equal print the both strings along with the length of a string if both are equal ignore it.\n",
    "a='abcd'\n",
    "b='efgh'\n",
    "if(a!=b):\n",
    "    print(a,len(a))\n",
    "    print(b,len(b))"
   ]
  }
 ],
 "metadata": {
  "kernelspec": {
   "display_name": "Python 3",
   "language": "python",
   "name": "python3"
  },
  "language_info": {
   "codemirror_mode": {
    "name": "ipython",
    "version": 3
   },
   "file_extension": ".py",
   "mimetype": "text/x-python",
   "name": "python",
   "nbconvert_exporter": "python",
   "pygments_lexer": "ipython3",
   "version": "3.11.4"
  },
  "orig_nbformat": 4
 },
 "nbformat": 4,
 "nbformat_minor": 2
}
