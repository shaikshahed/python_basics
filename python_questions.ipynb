{
 "cells": [
  {
   "cell_type": "code",
   "execution_count": 1,
   "metadata": {},
   "outputs": [
    {
     "name": "stdout",
     "output_type": "stream",
     "text": [
      "helloworld\n"
     ]
    }
   ],
   "source": [
    "#1. WAS to print 'helloworld' by using shell.\n",
    "a='helloworld'\n",
    "print(a)"
   ]
  },
  {
   "cell_type": "code",
   "execution_count": 5,
   "metadata": {},
   "outputs": [
    {
     "name": "stdout",
     "output_type": "stream",
     "text": [
      "helloworld\n"
     ]
    }
   ],
   "source": [
    "#2. WAS to print 'helloworld' by using print function.\n",
    "a='helloworld'\n",
    "print(a)"
   ]
  },
  {
   "cell_type": "code",
   "execution_count": 6,
   "metadata": {},
   "outputs": [
    {
     "name": "stdout",
     "output_type": "stream",
     "text": [
      "50\n"
     ]
    }
   ],
   "source": [
    "#3. WAS to initialize variable and value as 50.\n",
    "a=50\n",
    "print(a)"
   ]
  },
  {
   "cell_type": "code",
   "execution_count": 7,
   "metadata": {},
   "outputs": [
    {
     "name": "stdout",
     "output_type": "stream",
     "text": [
      "150 120 250\n"
     ]
    }
   ],
   "source": [
    "#4. WAS to initialize multivariables values as 150,120,250,take your own variables.\n",
    "a,b,c = 150,120,250\n",
    "print(a,b,c)"
   ]
  },
  {
   "cell_type": "code",
   "execution_count": 9,
   "metadata": {},
   "outputs": [
    {
     "name": "stdout",
     "output_type": "stream",
     "text": [
      "<class 'tuple'>\n",
      "<class 'list'>\n"
     ]
    }
   ],
   "source": [
    "#5. WAS to print the type of the data in given value.\n",
    "a=(10,20)\n",
    "b=[10,20]\n",
    "print(type(a))\n",
    "print(type(b))"
   ]
  },
  {
   "cell_type": "code",
   "execution_count": 10,
   "metadata": {},
   "outputs": [
    {
     "name": "stdout",
     "output_type": "stream",
     "text": [
      "1539728828224\n"
     ]
    }
   ],
   "source": [
    "#6. WAS to print address of the memory block in given value.\n",
    "a=[1,2,3]\n",
    "print(id(a))"
   ]
  },
  {
   "cell_type": "code",
   "execution_count": 19,
   "metadata": {},
   "outputs": [
    {
     "name": "stdout",
     "output_type": "stream",
     "text": [
      "shahed\n",
      "['name', 'age', 'place']\n",
      "['shahed', 22, 'MBNR']\n",
      "[('name', 'shahed'), ('age', 22), ('place', 'MBNR')]\n"
     ]
    }
   ],
   "source": [
    "#7. WAS to print your details,first store your details,extract the values and display it.\n",
    "a={'name':'shahed','age':22,'place':'MBNR'}\n",
    "print(a['name'])\n",
    "print(list(a.keys()))\n",
    "print(list(a.values()))\n",
    "print((list(a.items())))"
   ]
  },
  {
   "cell_type": "code",
   "execution_count": 20,
   "metadata": {},
   "outputs": [
    {
     "name": "stdout",
     "output_type": "stream",
     "text": [
      "bye hai\n"
     ]
    }
   ],
   "source": [
    "#8. WAS to swap the two values with a temp variable.\n",
    "a='hai'\n",
    "b='bye'\n",
    "temp=a\n",
    "a=b\n",
    "b=temp\n",
    "print(a,b)"
   ]
  },
  {
   "cell_type": "code",
   "execution_count": 21,
   "metadata": {},
   "outputs": [
    {
     "name": "stdout",
     "output_type": "stream",
     "text": [
      "20 10\n"
     ]
    }
   ],
   "source": [
    "#9. WAS to swap the two values without a temp variable.\n",
    "a=10\n",
    "b=20\n",
    "a,b=b,a\n",
    "print(a,b)"
   ]
  },
  {
   "cell_type": "code",
   "execution_count": 23,
   "metadata": {},
   "outputs": [
    {
     "name": "stdout",
     "output_type": "stream",
     "text": [
      "qspiders\n",
      "[10, 20]\n"
     ]
    }
   ],
   "source": [
    "#10. WAS to initialize a value and print the value, after print the value then reinitialize the new value to the existing variable and display the value.\n",
    "a={'a':'qspiders'}\n",
    "print(a['a'])\n",
    "a=[10,20]\n",
    "print(a)"
   ]
  },
  {
   "cell_type": "code",
   "execution_count": 1,
   "metadata": {},
   "outputs": [
    {
     "name": "stdout",
     "output_type": "stream",
     "text": [
      "['1', '5', '0']\n"
     ]
    }
   ],
   "source": [
    "#11. WAS to convert single value to multi value datatype.\n",
    "a=150\n",
    "print(list(str(a)))"
   ]
  },
  {
   "cell_type": "code",
   "execution_count": 6,
   "metadata": {},
   "outputs": [
    {
     "name": "stdout",
     "output_type": "stream",
     "text": [
      "helloworld\n",
      "[10, 20, 30, 'h', 'a', 'i']\n",
      "[100, 200, 300, 400, 500]\n",
      "[1, 2, 3, 'a', 'b']\n",
      "['a', 'b', 'c', 'e', 'd']\n"
     ]
    }
   ],
   "source": [
    "#12. WAS to concat the two multi value data types(str,list,tuple,set,dict).\n",
    "#(a)concat 2 strings\n",
    "a='hello'\n",
    "a+='world'\n",
    "print(a)\n",
    "#(b) concat list with string\n",
    "b=[10,20,30]\n",
    "b+='hai'\n",
    "print(b)\n",
    "#(c) list with tuple\n",
    "c=[100,200,300]\n",
    "c+=(400,500)\n",
    "print(c)\n",
    "#(d) tuple with list is not possible directly. indirectly it is possible i.e; by using typecasting\n",
    "\n",
    "#(e) list with dict\n",
    "e=[1,2,3]\n",
    "e+={'a':4,'b':5}\n",
    "print(e)\n",
    "#(f) list with set\n",
    "f=['a','b','c']\n",
    "f+={'d','e'}\n",
    "print(f)\n",
    "\n",
    "\n",
    "\n"
   ]
  },
  {
   "cell_type": "code",
   "execution_count": 8,
   "metadata": {},
   "outputs": [
    {
     "name": "stdout",
     "output_type": "stream",
     "text": [
      "10\n",
      "3\n"
     ]
    }
   ],
   "source": [
    "#13. WAS to check the length of the collection.\n",
    "a='helloworld'\n",
    "print(len(a))\n",
    "b=(10,20,30)\n",
    "print(len(b))"
   ]
  },
  {
   "cell_type": "code",
   "execution_count": 13,
   "metadata": {},
   "outputs": [
    {
     "name": "stdout",
     "output_type": "stream",
     "text": [
      "30\n",
      "l\n"
     ]
    }
   ],
   "source": [
    "#14. WAS to check find out the middle value of given collection.\n",
    "a=[10,20,30,40,50]\n",
    "print(a[len(a)//2])\n",
    "b='hello'\n",
    "print(b[len(b)//2])"
   ]
  },
  {
   "cell_type": "code",
   "execution_count": 14,
   "metadata": {},
   "outputs": [
    {
     "name": "stdout",
     "output_type": "stream",
     "text": [
      "helloworld\n"
     ]
    }
   ],
   "source": [
    "#15. WAS to concat the new string into the strarting of given string.\n",
    "a='world'\n",
    "a='hello'+a\n",
    "print(a)"
   ]
  },
  {
   "cell_type": "code",
   "execution_count": 15,
   "metadata": {},
   "outputs": [
    {
     "name": "stdout",
     "output_type": "stream",
     "text": [
      "helloworld\n"
     ]
    }
   ],
   "source": [
    "#16. WAS to concat the new string into the ending of the given string.\n",
    "a='hello'\n",
    "a+='world'\n",
    "print(a)"
   ]
  },
  {
   "cell_type": "code",
   "execution_count": 20,
   "metadata": {},
   "outputs": [
    {
     "name": "stdout",
     "output_type": "stream",
     "text": [
      "hey how r u\n",
      "[1, 2, 3, 10, 20, 4, 5, 6]\n"
     ]
    }
   ],
   "source": [
    "#17. WAS to concat the new string into the middle of the given string.\n",
    "a='hey r u'\n",
    "a=a[0:len(a)//2]+' how'+a[len(a)//2:]\n",
    "print(a)\n",
    "\n",
    "b=[1,2,3,4,5,6]\n",
    "b=b[0:len(b)//2]+[10,20]+b[len(b)//2:]\n",
    "print(b)"
   ]
  },
  {
   "cell_type": "code",
   "execution_count": 9,
   "metadata": {},
   "outputs": [
    {
     "name": "stdout",
     "output_type": "stream",
     "text": [
      "pysplders\n"
     ]
    }
   ],
   "source": [
    "#18. WAS to modify the new character into the middle of the given string.\n",
    "a='pyspiders'\n",
    "a=a[0:len(a)//2]+'l'+a[len(a)//2+1:]\n",
    "print(a)"
   ]
  },
  {
   "cell_type": "code",
   "execution_count": 10,
   "metadata": {},
   "outputs": [
    {
     "name": "stdout",
     "output_type": "stream",
     "text": [
      "pySPIders\n"
     ]
    }
   ],
   "source": [
    "#19. WAS to modify the sequence of characters in given string.\n",
    "a='pyspiders'\n",
    "a=a[0:2]+'SPI'+a[5:]\n",
    "print(a)"
   ]
  },
  {
   "cell_type": "code",
   "execution_count": 12,
   "metadata": {},
   "outputs": [
    {
     "name": "stdout",
     "output_type": "stream",
     "text": [
      "helloWorld\n"
     ]
    }
   ],
   "source": [
    "#20. WAS to replace the old character into the new character of the given string.\n",
    "a='helloworld'\n",
    "a=a[0:5]+'W'+a[6:]\n",
    "print(a)"
   ]
  },
  {
   "cell_type": "code",
   "execution_count": 13,
   "metadata": {},
   "outputs": [
    {
     "name": "stdout",
     "output_type": "stream",
     "text": [
      "pyspders\n"
     ]
    }
   ],
   "source": [
    "#21. WAS to delete the specific character in the given string.\n",
    "a='pyspiders'\n",
    "a=a[0:4]+a[5:]\n",
    "print(a)"
   ]
  },
  {
   "cell_type": "code",
   "execution_count": 15,
   "metadata": {},
   "outputs": [
    {
     "name": "stdout",
     "output_type": "stream",
     "text": [
      "pyspiders qspiders\n"
     ]
    }
   ],
   "source": [
    "#22. WAS to concat the new string into the specific position of the given string.\n",
    "a='pyspidersders'\n",
    "a=a[0:9]+' qspi'+a[9:]\n",
    "print(a)"
   ]
  },
  {
   "cell_type": "code",
   "execution_count": 16,
   "metadata": {},
   "outputs": [
    {
     "name": "stdout",
     "output_type": "stream",
     "text": [
      "how you\n"
     ]
    }
   ],
   "source": [
    "#23. WAS to delete the sequence of characters in the given string.\n",
    "a='how are you'\n",
    "a=a[0:4]+a[8:]\n",
    "print(a)"
   ]
  },
  {
   "cell_type": "code",
   "execution_count": 17,
   "metadata": {},
   "outputs": [
    {
     "name": "stdout",
     "output_type": "stream",
     "text": [
      "[10, 20, 30, 40, 50]\n"
     ]
    }
   ],
   "source": [
    "#24. WAS to concat the new value into the starting of the given list.\n",
    "a=[30,40,50]\n",
    "a[0:0]=[10,20]\n",
    "print(a)"
   ]
  },
  {
   "cell_type": "code",
   "execution_count": 20,
   "metadata": {},
   "outputs": [
    {
     "name": "stdout",
     "output_type": "stream",
     "text": [
      "[10, 20, 'hai', 'how', 'are', 'you', 40]\n",
      "[10, 20, 'hai', 'how', 'are', 'you', 40]\n"
     ]
    }
   ],
   "source": [
    "#25. WAS to concat the new value into the ending of the given list.\n",
    "a=[10,20,'hai']\n",
    "a+=['how','are','you',40]\n",
    "print(a)\n",
    "\n",
    "#(OR)\n",
    "\n",
    "b=[10,20,'hai']\n",
    "b[3:3]=['how','are','you',40]\n",
    "print(b)         "
   ]
  },
  {
   "cell_type": "code",
   "execution_count": 27,
   "metadata": {},
   "outputs": [
    {
     "name": "stdout",
     "output_type": "stream",
     "text": [
      "[10, 20, 'hello', 'how', 'are', 'you']\n"
     ]
    }
   ],
   "source": [
    "#26. WAS to concat the new value into the middle of the given list.\n",
    "a=[10,20,'how','are','you']\n",
    "a[len(a)//2:len(a)//2]=['hello']\n",
    "print(a)\n",
    "\n",
    "\n"
   ]
  },
  {
   "cell_type": "code",
   "execution_count": 1,
   "metadata": {},
   "outputs": [
    {
     "name": "stdout",
     "output_type": "stream",
     "text": [
      "[10, 20, 'a', 'b', 30, 40]\n"
     ]
    }
   ],
   "source": [
    "#27. WAS to concat the new value to the specific position of the given list.\n",
    "a=[10,20,30,40]\n",
    "a[2:2]=['a','b']\n",
    "print(a)"
   ]
  }
 ],
 "metadata": {
  "kernelspec": {
   "display_name": "Python 3",
   "language": "python",
   "name": "python3"
  },
  "language_info": {
   "codemirror_mode": {
    "name": "ipython",
    "version": 3
   },
   "file_extension": ".py",
   "mimetype": "text/x-python",
   "name": "python",
   "nbconvert_exporter": "python",
   "pygments_lexer": "ipython3",
   "version": "3.11.4"
  },
  "orig_nbformat": 4
 },
 "nbformat": 4,
 "nbformat_minor": 2
}
