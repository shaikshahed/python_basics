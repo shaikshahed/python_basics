{
 "cells": [
  {
   "cell_type": "code",
   "execution_count": 38,
   "metadata": {},
   "outputs": [
    {
     "ename": "SyntaxError",
     "evalue": "invalid syntax (307626741.py, line 3)",
     "output_type": "error",
     "traceback": [
      "\u001b[1;36m  Cell \u001b[1;32mIn[38], line 3\u001b[1;36m\u001b[0m\n\u001b[1;33m    end=[::1]\u001b[0m\n\u001b[1;37m         ^\u001b[0m\n\u001b[1;31mSyntaxError\u001b[0m\u001b[1;31m:\u001b[0m invalid syntax\n"
     ]
    }
   ],
   "source": [
    "st='madhav'\n",
    "start=0\n",
    "end=[::1]\n",
    "count=0\n",
    "while start>end:\n",
    "    if st[start]:\n",
    "        count+=1\n",
    "    start+=1\n",
    "print(count)"
   ]
  },
  {
   "cell_type": "code",
   "execution_count": null,
   "metadata": {},
   "outputs": [
    {
     "name": "stdout",
     "output_type": "stream",
     "text": [
      "3\n"
     ]
    }
   ],
   "source": [
    "st='MADhav'\n",
    "start=0\n",
    "end=len(st)\n",
    "count=0\n",
    "while start<end:\n",
    "    if 'A'<=st[start]<'Z':\n",
    "        count+=1\n",
    "    start+=1\n",
    "print(count)"
   ]
  },
  {
   "cell_type": "code",
   "execution_count": null,
   "metadata": {},
   "outputs": [
    {
     "name": "stdout",
     "output_type": "stream",
     "text": [
      "e\n"
     ]
    }
   ],
   "source": [
    "st='PYSpideRS'\n",
    "start=0\n",
    "end=len(st)\n",
    "n=\"\"\n",
    "while start<end:\n",
    "    if 'a'<=st[start]<='z':\n",
    "        n=st[start]\n",
    "    start+=1\n",
    "print(n)\n"
   ]
  },
  {
   "cell_type": "code",
   "execution_count": null,
   "metadata": {},
   "outputs": [
    {
     "name": "stdout",
     "output_type": "stream",
     "text": [
      "valid\n"
     ]
    }
   ],
   "source": [
    "st='ABCa*123'\n",
    "start=0\n",
    "end=len(st)\n",
    "while start<end:\n",
    "    if 8<=len(st[start])<=16 or 'A'<=st[start]<='Z' or 'a'<=st[start]<='z' or '0'<st[start]<='9' or not('A'<=st[start]<='Z' or 'a'<=st[start]<='z' or '0'<st[start]<='9'):\n",
    "        start+=1\n",
    "print('valid')"
   ]
  },
  {
   "cell_type": "code",
   "execution_count": null,
   "metadata": {},
   "outputs": [
    {
     "name": "stdout",
     "output_type": "stream",
     "text": [
      "pyspi12$%\n"
     ]
    }
   ],
   "source": [
    "#30/08/2023\n",
    "st='PYSpi12$%'\n",
    "start=0\n",
    "end=len(st)\n",
    "uc=''\n",
    "while start<end:\n",
    "    if 'A'<=st[start]<='Z':\n",
    "        uc+=chr(ord(st[start])+32)\n",
    "    else:\n",
    "        uc+=st[start]\n",
    "    start+=1\n",
    "print(uc)\n",
    "\n",
    "\n"
   ]
  },
  {
   "cell_type": "code",
   "execution_count": null,
   "metadata": {},
   "outputs": [
    {
     "name": "stdout",
     "output_type": "stream",
     "text": [
      "hello_world\n"
     ]
    }
   ],
   "source": [
    "st='HELLO WORLD'\n",
    "start=0\n",
    "end=len(st)\n",
    "uc=''\n",
    "while start<end:\n",
    "    if 'A'<=st[start]<='Z':\n",
    "        uc+=chr(ord(st[start])+32)\n",
    "    elif st[start]==' ':\n",
    "        uc+='_'\n",
    "    else:\n",
    "        uc+=st[start]\n",
    "    start+=1\n",
    "print(uc)"
   ]
  },
  {
   "cell_type": "code",
   "execution_count": null,
   "metadata": {},
   "outputs": [
    {
     "ename": "IndexError",
     "evalue": "string index out of range",
     "output_type": "error",
     "traceback": [
      "\u001b[1;31m---------------------------------------------------------------------------\u001b[0m",
      "\u001b[1;31mIndexError\u001b[0m                                Traceback (most recent call last)",
      "Cell \u001b[1;32mIn[18], line 6\u001b[0m\n\u001b[0;32m      4\u001b[0m uc\u001b[39m=\u001b[39m\u001b[39m'\u001b[39m\u001b[39m'\u001b[39m\n\u001b[0;32m      5\u001b[0m \u001b[39mwhile\u001b[39;00m start\u001b[39m<\u001b[39m\u001b[39m=\u001b[39mend:\n\u001b[1;32m----> 6\u001b[0m     \u001b[39mif\u001b[39;00m(\u001b[39m'\u001b[39m\u001b[39mA\u001b[39m\u001b[39m'\u001b[39m\u001b[39m<\u001b[39m\u001b[39m=\u001b[39mst[start]\u001b[39m<\u001b[39m\u001b[39m=\u001b[39m\u001b[39m'\u001b[39m\u001b[39mZ\u001b[39m\u001b[39m'\u001b[39m):\n\u001b[0;32m      7\u001b[0m         uc\u001b[39m+\u001b[39m\u001b[39m=\u001b[39m\u001b[39mchr\u001b[39m(\u001b[39mord\u001b[39m(st[start])\u001b[39m+\u001b[39m\u001b[39m32\u001b[39m)\n\u001b[0;32m      8\u001b[0m     \u001b[39melif\u001b[39;00m st[start]\u001b[39m==\u001b[39m\u001b[39m'\u001b[39m\u001b[39m \u001b[39m\u001b[39m'\u001b[39m:\n",
      "\u001b[1;31mIndexError\u001b[0m: string index out of range"
     ]
    }
   ],
   "source": [
    "st='HELLO WORLD'\n",
    "start=0\n",
    "end=len(st)\n",
    "uc=''\n",
    "while start<=end:\n",
    "    if 'A'<=st[start]<='Z':\n",
    "        uc+=chr(ord(st[start])+32)\n",
    "    elif st[start]==' ':\n",
    "        uc+='_'\n",
    "    else:\n",
    "        uc+=st[start]\n",
    "    start+=1\n",
    "print(uc)\n"
   ]
  },
  {
   "cell_type": "code",
   "execution_count": 6,
   "metadata": {},
   "outputs": [
    {
     "name": "stdout",
     "output_type": "stream",
     "text": [
      "Hello worldHello worldHello worldHello worldHello worldHello worldHello worldHello worldHello worldHello worldHello worldHello world\n"
     ]
    }
   ],
   "source": [
    "st='hello world'\n",
    "start=0\n",
    "end=len(st)\n",
    "res=''\n",
    "while start<=end:\n",
    "    if 'a'<=st[0]<='z':\n",
    "        res+=chr(ord(st[0])-32)+st[1:]\n",
    "    else:\n",
    "        res+=st[0]\n",
    "    start+=1\n",
    "print(res)\n",
    "\n",
    "\n",
    "\n",
    "# st='hello world'\n",
    "# res=''\n",
    "# if 'a'<=st[0]<='z':\n",
    "#     res+=chr(ord(st[0])-32)\n",
    "# else:\n",
    "#     res+=st[0]\n",
    "# start=1\n",
    "# while start<len(st):\n",
    "#     if 'A'<=st[start]<='Z':\n",
    "#         res+=chr(ord(st[start])+32)\n",
    "#     else:\n",
    "#         res+=st[start]\n",
    "#     start+=1\n",
    "# print(res)\n"
   ]
  },
  {
   "cell_type": "code",
   "execution_count": 56,
   "metadata": {},
   "outputs": [
    {
     "name": "stdout",
     "output_type": "stream",
     "text": [
      "__hello_world__\n"
     ]
    }
   ],
   "source": [
    "st='hello world'\n",
    "start=0\n",
    "end=len(st)\n",
    "res=''\n",
    "while start<end:\n",
    "    if 'A'<=st[start]<='Z':\n",
    "        res+=chr(ord(st[start])+32)\n",
    "    elif st[start]==' ':\n",
    "        res+='_'\n",
    "    elif 'a'<=st[start]<='z':\n",
    "        res+=st[start]\n",
    "    start+=1\n",
    "res='__'+res+'__'\n",
    "print(res)"
   ]
  },
  {
   "cell_type": "code",
   "execution_count": 12,
   "metadata": {},
   "outputs": [
    {
     "name": "stdout",
     "output_type": "stream",
     "text": [
      "lol\n",
      "helowrd\n"
     ]
    }
   ],
   "source": [
    "st='helloworld'\n",
    "uni=''\n",
    "dup=''\n",
    "start=0\n",
    "end=len(st)\n",
    "while start<end:\n",
    "    if st[start] in uni:\n",
    "        dup+=st[start]\n",
    "    else:\n",
    "        uni+=st[start]\n",
    "    start+=1\n",
    "print(dup)\n",
    "print(uni)\n",
    "\n"
   ]
  },
  {
   "cell_type": "code",
   "execution_count": 9,
   "metadata": {},
   "outputs": [
    {
     "name": "stdout",
     "output_type": "stream",
     "text": [
      "helowrd\n",
      "h 1\n",
      "e 1\n",
      "l 3\n",
      "o 2\n",
      "w 1\n",
      "r 1\n",
      "d 1\n"
     ]
    }
   ],
   "source": [
    "st='helloworld'\n",
    "uni=''\n",
    "start=0\n",
    "end=len(st)\n",
    "count=0\n",
    "while start<end:\n",
    "    if st[start] not in uni:\n",
    "        uni+=st[start]\n",
    "    start+=1\n",
    "print(uni)\n",
    "i=0\n",
    "while i<len(uni):\n",
    "    count=0\n",
    "    j=0  #we can use start also in place of j.\n",
    "    while j<len(st):\n",
    "        if uni[i]==st[j]:\n",
    "            count+=1\n",
    "        j+=1\n",
    "    print(uni[i],count)\n",
    "    i+=1\n",
    "\n",
    "        "
   ]
  },
  {
   "cell_type": "code",
   "execution_count": 12,
   "metadata": {},
   "outputs": [
    {
     "name": "stdout",
     "output_type": "stream",
     "text": [
      "{'h': 1, 'e': 1, 'l': 3, 'o': 2, 'w': 1, 'r': 1, 'd': 1}\n"
     ]
    }
   ],
   "source": [
    "st='helloworld'\n",
    "res={}\n",
    "start=0\n",
    "end=len(st)\n",
    "while start<end:\n",
    "    if st[start] not in res:\n",
    "        res[st[start]]=1\n",
    "    else:\n",
    "        res[st[start]]+=1\n",
    "    start+=1\n",
    "print(res)"
   ]
  },
  {
   "cell_type": "code",
   "execution_count": null,
   "metadata": {},
   "outputs": [],
   "source": []
  }
 ],
 "metadata": {
  "kernelspec": {
   "display_name": "Python 3",
   "language": "python",
   "name": "python3"
  },
  "language_info": {
   "codemirror_mode": {
    "name": "ipython",
    "version": 3
   },
   "file_extension": ".py",
   "mimetype": "text/x-python",
   "name": "python",
   "nbconvert_exporter": "python",
   "pygments_lexer": "ipython3",
   "version": "3.11.4"
  },
  "orig_nbformat": 4
 },
 "nbformat": 4,
 "nbformat_minor": 2
}
