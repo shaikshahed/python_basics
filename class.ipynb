{
 "cells": [
  {
   "cell_type": "code",
   "execution_count": 5,
   "metadata": {},
   "outputs": [
    {
     "name": "stdout",
     "output_type": "stream",
     "text": [
      "6\n"
     ]
    }
   ],
   "source": [
    "st='madhav'\n",
    "start=0\n",
    "count=0\n",
    "while st:\n",
    "    st=st[:-1]\n",
    "    count+=1\n",
    "print(count)"
   ]
  },
  {
   "cell_type": "code",
   "execution_count": null,
   "metadata": {},
   "outputs": [
    {
     "name": "stdout",
     "output_type": "stream",
     "text": [
      "3\n"
     ]
    }
   ],
   "source": [
    "st='MADhav'\n",
    "start=0\n",
    "end=len(st)\n",
    "count=0\n",
    "while start<end:\n",
    "    if 'A'<=st[start]<'Z':\n",
    "        count+=1\n",
    "    start+=1\n",
    "print(count)"
   ]
  },
  {
   "cell_type": "code",
   "execution_count": 7,
   "metadata": {},
   "outputs": [
    {
     "name": "stdout",
     "output_type": "stream",
     "text": [
      "pide\n"
     ]
    }
   ],
   "source": [
    "st='PYSpideRS'\n",
    "start=0\n",
    "end=len(st)\n",
    "n=\"\"\n",
    "while start<end:\n",
    "    if 'a'<=st[start]<='z':\n",
    "        n+=st[start]\n",
    "    start+=1\n",
    "print(n)\n"
   ]
  },
  {
   "cell_type": "code",
   "execution_count": null,
   "metadata": {},
   "outputs": [
    {
     "name": "stdout",
     "output_type": "stream",
     "text": [
      "valid\n"
     ]
    }
   ],
   "source": [
    "st='ABCa*123'\n",
    "start=0\n",
    "end=len(st)\n",
    "while start<end:\n",
    "    if 8<=len(st[start])<=16 or 'A'<=st[start]<='Z' or 'a'<=st[start]<='z' or '0'<st[start]<='9' or not('A'<=st[start]<='Z' or 'a'<=st[start]<='z' or '0'<st[start]<='9'):\n",
    "        start+=1\n",
    "print('valid')"
   ]
  },
  {
   "cell_type": "code",
   "execution_count": null,
   "metadata": {},
   "outputs": [
    {
     "name": "stdout",
     "output_type": "stream",
     "text": [
      "pyspi12$%\n"
     ]
    }
   ],
   "source": [
    "#30/08/2023\n",
    "st='PYSpi12$%'\n",
    "start=0\n",
    "end=len(st)\n",
    "uc=''\n",
    "while start<end:\n",
    "    if 'A'<=st[start]<='Z':\n",
    "        uc+=chr(ord(st[start])+32)\n",
    "    else:\n",
    "        uc+=st[start]\n",
    "    start+=1\n",
    "print(uc)\n",
    "\n",
    "\n"
   ]
  },
  {
   "cell_type": "code",
   "execution_count": 10,
   "metadata": {},
   "outputs": [
    {
     "name": "stdout",
     "output_type": "stream",
     "text": [
      "hello_world\n"
     ]
    }
   ],
   "source": [
    "#snake case\n",
    "st='HELLO WORLD'\n",
    "start=0\n",
    "end=len(st)\n",
    "uc=''\n",
    "while start<end:\n",
    "    if 'A'<=st[start]<='Z':\n",
    "        uc+=chr(ord(st[start])+32)\n",
    "    elif st[start]==' ':\n",
    "        uc+='_'\n",
    "    else:\n",
    "        uc+=st[start]\n",
    "    start+=1\n",
    "print(uc)\n"
   ]
  },
  {
   "cell_type": "code",
   "execution_count": null,
   "metadata": {},
   "outputs": [
    {
     "ename": "IndexError",
     "evalue": "string index out of range",
     "output_type": "error",
     "traceback": [
      "\u001b[1;31m---------------------------------------------------------------------------\u001b[0m",
      "\u001b[1;31mIndexError\u001b[0m                                Traceback (most recent call last)",
      "Cell \u001b[1;32mIn[18], line 6\u001b[0m\n\u001b[0;32m      4\u001b[0m uc\u001b[39m=\u001b[39m\u001b[39m'\u001b[39m\u001b[39m'\u001b[39m\n\u001b[0;32m      5\u001b[0m \u001b[39mwhile\u001b[39;00m start\u001b[39m<\u001b[39m\u001b[39m=\u001b[39mend:\n\u001b[1;32m----> 6\u001b[0m     \u001b[39mif\u001b[39;00m(\u001b[39m'\u001b[39m\u001b[39mA\u001b[39m\u001b[39m'\u001b[39m\u001b[39m<\u001b[39m\u001b[39m=\u001b[39mst[start]\u001b[39m<\u001b[39m\u001b[39m=\u001b[39m\u001b[39m'\u001b[39m\u001b[39mZ\u001b[39m\u001b[39m'\u001b[39m):\n\u001b[0;32m      7\u001b[0m         uc\u001b[39m+\u001b[39m\u001b[39m=\u001b[39m\u001b[39mchr\u001b[39m(\u001b[39mord\u001b[39m(st[start])\u001b[39m+\u001b[39m\u001b[39m32\u001b[39m)\n\u001b[0;32m      8\u001b[0m     \u001b[39melif\u001b[39;00m st[start]\u001b[39m==\u001b[39m\u001b[39m'\u001b[39m\u001b[39m \u001b[39m\u001b[39m'\u001b[39m:\n",
      "\u001b[1;31mIndexError\u001b[0m: string index out of range"
     ]
    }
   ],
   "source": [
    "st='HELLO WORLD'\n",
    "start=0\n",
    "end=len(st)\n",
    "uc=''\n",
    "while start<=end:\n",
    "    if 'A'<=st[start]<='Z':\n",
    "        uc+=chr(ord(st[start])+32)\n",
    "    elif st[start]==' ':\n",
    "        uc+='_'\n",
    "    else:\n",
    "        uc+=st[start]\n",
    "    start+=1\n",
    "print(uc)\n"
   ]
  },
  {
   "cell_type": "code",
   "execution_count": 1,
   "metadata": {},
   "outputs": [
    {
     "name": "stdout",
     "output_type": "stream",
     "text": [
      "Hello world\n"
     ]
    }
   ],
   "source": [
    "st='hello world'\n",
    "res=''\n",
    "if 'a'<=st[0]<='z':\n",
    "    res+=chr(ord(st[0])-32)\n",
    "else:\n",
    "    res+=st[0]\n",
    "start=1\n",
    "while start<len(st):\n",
    "    if 'A'<=st[start]<='Z':\n",
    "        res+=chr(ord(st[start])+32)\n",
    "    else:\n",
    "        res+=st[start]\n",
    "    start+=1\n",
    "print(res)\n"
   ]
  },
  {
   "cell_type": "code",
   "execution_count": 9,
   "metadata": {},
   "outputs": [
    {
     "name": "stdout",
     "output_type": "stream",
     "text": [
      "__hello_world__\n"
     ]
    }
   ],
   "source": [
    "#Dragon case\n",
    "st='HEllo world#$'\n",
    "start=0\n",
    "end=len(st)\n",
    "res=''\n",
    "while start<end:\n",
    "    if 'A'<=st[start]<='Z':\n",
    "        res+=chr(ord(st[start])+32)\n",
    "    elif st[start]==' ':\n",
    "        res+='_'\n",
    "    elif 'a'<=st[start]<='z':\n",
    "        res+=st[start]\n",
    "    start+=1\n",
    "res='__'+res+'__'\n",
    "print(res)"
   ]
  },
  {
   "cell_type": "code",
   "execution_count": 12,
   "metadata": {},
   "outputs": [
    {
     "name": "stdout",
     "output_type": "stream",
     "text": [
      "lol\n",
      "helowrd\n"
     ]
    }
   ],
   "source": [
    "st='helloworld'\n",
    "uni=''\n",
    "dup=''\n",
    "start=0\n",
    "end=len(st)\n",
    "while start<end:\n",
    "    if st[start] in uni:\n",
    "        dup+=st[start]\n",
    "    else:\n",
    "        uni+=st[start]\n",
    "    start+=1\n",
    "print(dup)\n",
    "print(uni)\n",
    "\n"
   ]
  },
  {
   "cell_type": "code",
   "execution_count": 3,
   "metadata": {},
   "outputs": [
    {
     "name": "stdout",
     "output_type": "stream",
     "text": [
      "helowrd\n",
      "h 1\n",
      "e 1\n",
      "l 3\n",
      "o 2\n",
      "w 1\n",
      "r 1\n",
      "d 1\n"
     ]
    }
   ],
   "source": [
    "st='helloworld'\n",
    "uni=''\n",
    "start=0\n",
    "end=len(st)\n",
    "count=0\n",
    "while start<end:\n",
    "    if st[start] not in uni:\n",
    "        uni+=st[start]\n",
    "    start+=1\n",
    "print(uni)\n",
    "i=0\n",
    "while i<len(uni):\n",
    "    count=0\n",
    "    j=0  #we can use start also in place of j.\n",
    "    while j<len(st):\n",
    "        if uni[i]==st[j]:\n",
    "            count+=1\n",
    "        j+=1\n",
    "    print(uni[i],count)\n",
    "    i+=1\n",
    "\n",
    "        "
   ]
  },
  {
   "cell_type": "code",
   "execution_count": 12,
   "metadata": {},
   "outputs": [
    {
     "name": "stdout",
     "output_type": "stream",
     "text": [
      "{'h': 1, 'e': 1, 'l': 3, 'o': 2, 'w': 1, 'r': 1, 'd': 1}\n"
     ]
    }
   ],
   "source": [
    "st='helloworld'\n",
    "res={}\n",
    "start=0\n",
    "end=len(st)\n",
    "while start<end:\n",
    "    if st[start] not in res:\n",
    "        res[st[start]]=1\n",
    "    else:\n",
    "        res[st[start]]+=1\n",
    "    start+=1\n",
    "print(res)"
   ]
  },
  {
   "cell_type": "code",
   "execution_count": 1,
   "metadata": {},
   "outputs": [
    {
     "name": "stdout",
     "output_type": "stream",
     "text": [
      "2\n"
     ]
    }
   ],
   "source": [
    "st='abcdXY12$%'\n",
    "start=0\n",
    "end=len(st)\n",
    "count=0\n",
    "while start<end:\n",
    "    if 'A'<=st[start]<='Z':\n",
    "        count+=1\n",
    "    start+=1\n",
    "print(count)"
   ]
  },
  {
   "cell_type": "code",
   "execution_count": 8,
   "metadata": {},
   "outputs": [
    {
     "name": "stdout",
     "output_type": "stream",
     "text": [
      "6\n",
      "valid email\n"
     ]
    }
   ],
   "source": [
    "#WAP to check given email id is vaild or not.if vaild display email id else display invaild emailid.\n",
    "# 1. email should not have any special character except @,. 2.@ should be one and after @ minimum one dot(.) max 2 dots\n",
    "st=\"lalith@gmail.com.in\"\n",
    "i=0\n",
    "temp=0\n",
    "while i<len(st):\n",
    "    if not('A'<=st[i]<='Z' or 'a'<=st[i]<='z' or '0'<=st[i]<='9'or st[i] in '@.'):\n",
    "        temp+=1\n",
    "    i+=1\n",
    "if temp==0:\n",
    "        if '@'in st and '.' in st:\n",
    "            n=0\n",
    "            pos=None\n",
    "            count=0\n",
    "            while n<len(st):\n",
    "                if '@'==st[n]:\n",
    "                    pos=n\n",
    "                    count+=1\n",
    "                n+=1\n",
    "            if count==1:\n",
    "                print(pos)\n",
    "                if '.'in st[pos:]:\n",
    "                    c=0\n",
    "                    while pos<len(st):\n",
    "                        if '.'==st[pos]:\n",
    "                            c+=1\n",
    "                        pos+=1\n",
    "                    if 1<=c<=2:\n",
    "                        print(\"valid email\")\n",
    "                    else:\n",
    "                        (\"invaild\")\n",
    "                else:\n",
    "                    print(\"invalid email\")\n",
    "            else:\n",
    "                print(\"invaild email\")\n",
    "        else:\n",
    "            print(\"invaild email\")\n",
    "else:\n",
    "    print(\"invalid email\")"
   ]
  },
  {
   "cell_type": "code",
   "execution_count": 5,
   "metadata": {},
   "outputs": [
    {
     "ename": "KeyboardInterrupt",
     "evalue": "",
     "output_type": "error",
     "traceback": [
      "\u001b[1;31m---------------------------------------------------------------------------\u001b[0m",
      "\u001b[1;31mKeyboardInterrupt\u001b[0m                         Traceback (most recent call last)",
      "Cell \u001b[1;32mIn[5], line 5\u001b[0m\n\u001b[0;32m      3\u001b[0m pos\u001b[39m=\u001b[39m\u001b[39m0\u001b[39m\n\u001b[0;32m      4\u001b[0m res\u001b[39m=\u001b[39m\u001b[39m'\u001b[39m\u001b[39m'\u001b[39m\n\u001b[1;32m----> 5\u001b[0m \u001b[39mwhile\u001b[39;00m i\u001b[39m<\u001b[39m\u001b[39mlen\u001b[39m(st):\n\u001b[0;32m      6\u001b[0m     \u001b[39mif\u001b[39;00m pos\u001b[39m==\u001b[39m\u001b[39m'\u001b[39m\u001b[39m \u001b[39m\u001b[39m'\u001b[39m:\n\u001b[0;32m      7\u001b[0m         res\u001b[39m+\u001b[39m\u001b[39m=\u001b[39mst[\u001b[39m0\u001b[39m:pos]\n",
      "\u001b[1;31mKeyboardInterrupt\u001b[0m: "
     ]
    }
   ],
   "source": [
    "st='hai hello haiii'\n",
    "i=0\n",
    "pos=0\n",
    "res=''\n",
    "while i<len(st):\n",
    "    if pos==' ':\n",
    "        res+=st[0:pos]\n",
    "        print(res)\n",
    "i+=1\n"
   ]
  },
  {
   "cell_type": "code",
   "execution_count": 38,
   "metadata": {},
   "outputs": [
    {
     "name": "stdout",
     "output_type": "stream",
     "text": [
      "hi hello how are you al\n"
     ]
    }
   ],
   "source": [
    "st='hi hello how are you all'\n",
    "start=0\n",
    "end=len(st)\n",
    "res=''\n",
    "while start<end:\n",
    "        if st[start]!=' ':\n",
    "            res+=st[start:start-1]\n",
    "        start+=1\n",
    "print(res)"
   ]
  },
  {
   "cell_type": "code",
   "execution_count": 9,
   "metadata": {},
   "outputs": [
    {
     "name": "stdout",
     "output_type": "stream",
     "text": [
      "['haihelloworldiloveindiailikepython']\n"
     ]
    }
   ],
   "source": [
    "st='  hai hello world i love india i     like python  '\n",
    "#o/p=[['hai','hello'],['world'],['i','i','india']['python'],['love','like']]\n",
    "l=[[''],[[]]][st[0]=='']\n",
    "i=0\n",
    "while i<len(st):\n",
    "    if st[i]!=' ':\n",
    "        l[-1]+=st[i]\n",
    "    else:\n",
    "        if len(st)-1==1 and st[i+1]!=' ':\n",
    "            l+=['']\n",
    "    i+=1\n",
    "print(l)"
   ]
  },
  {
   "cell_type": "code",
   "execution_count": 15,
   "metadata": {},
   "outputs": [
    {
     "name": "stdout",
     "output_type": "stream",
     "text": [
      "sha123hed\n"
     ]
    }
   ],
   "source": [
    "a='shahed'\n",
    "b=a[0:3]+'123'+a[3:]\n",
    "print(b)"
   ]
  },
  {
   "cell_type": "code",
   "execution_count": null,
   "metadata": {},
   "outputs": [],
   "source": [
    "st='  hai hello world i love india i     like python  '\n",
    "#o/p=[['hai','hello'],['world'],['i','i','india']['python'],['love','like']]\n",
    "l=[[''],[[]]][st[0]=='']\n",
    "\n",
    "i=0\n",
    "while i<len(st):\n",
    "    if st[i]!=' ':\n",
    "        l[-1]+=st[i]\n",
    "    else:\n",
    "        if len(st)-1==1 and st[i+1]!=' ':\n",
    "            l+=['']\n",
    "    i+=1\n",
    "print(l)"
   ]
  }
 ],
 "metadata": {
  "kernelspec": {
   "display_name": "Python 3",
   "language": "python",
   "name": "python3"
  },
  "language_info": {
   "codemirror_mode": {
    "name": "ipython",
    "version": 3
   },
   "file_extension": ".py",
   "mimetype": "text/x-python",
   "name": "python",
   "nbconvert_exporter": "python",
   "pygments_lexer": "ipython3",
   "version": "3.11.4"
  },
  "orig_nbformat": 4
 },
 "nbformat": 4,
 "nbformat_minor": 2
}
