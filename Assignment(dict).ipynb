{
 "cells": [
  {
   "cell_type": "code",
   "execution_count": 3,
   "metadata": {},
   "outputs": [
    {
     "name": "stdout",
     "output_type": "stream",
     "text": [
      "{'a': {'10': (10, 'girish', 'helloworld', 'i love india', {'d': ['python', 'django', 'java'], (10,): {'venugopal', 'kashi'}})}}\n",
      "girish\n",
      "hsirig\n",
      "srg\n",
      "grs\n",
      "gi\n",
      "hii\n",
      "hello\n",
      "world\n",
      "helloworld\n",
      "dlrowolleh\n",
      "drwle\n",
      "hlool\n",
      "hol\n",
      "dwe\n",
      "i love india\n",
      "india\n",
      "love india\n",
      "aidni evol i\n",
      "adieo\n",
      "nohtyp\n"
     ]
    }
   ],
   "source": [
    "d={'a':{'10':(10,'girish','helloworld','i love india',{'d':['python','django','java'],(10,):{'venugopal','kashi'}})}}\n",
    "print(d)\n",
    "print(d['a']['10'][1])                     #1 \n",
    "print(d['a']['10'][1][-1::-1])             #2 \n",
    "print(d['a']['10'][1][-2::-2])             #3 \n",
    "print(d['a']['10'][1][0:5:2])              #4 \n",
    "print(d['a']['10'][1][0:2])                #5 \n",
    "print(d['a']['10'][1][-1:-7:-2])           #6 \n",
    "print(d['a']['10'][2][0:5])                #7 \n",
    "print(d['a']['10'][2][5:])                 #8 \n",
    "print(d['a']['10'][2][0:])                 #9 \n",
    "print(d['a']['10'][2][-1::-1])             #10 \n",
    "print(d['a']['10'][2][-1::-2])             #11 \n",
    "print(d['a']['10'][2][0::2])               #12 \n",
    "print(d['a']['10'][2][0::4])               #13 \n",
    "print(d['a']['10'][2][-1::-4])             #14 \n",
    "print(d['a']['10'][3])                     #15 \n",
    "print(d['a']['10'][3][7:])                 #16 \n",
    "print(d['a']['10'][3][2:])                 #17\n",
    "print(d['a']['10'][3][-1::-1])             #18 \n",
    "print(d['a']['10'][3][-1:-10:-2])          #19 \n",
    "print(d['a']['10'][4]['d'][0][-1::-1])     #20 \n"
   ]
  },
  {
   "cell_type": "code",
   "execution_count": 4,
   "metadata": {},
   "outputs": [
    {
     "name": "stdout",
     "output_type": "stream",
     "text": [
      "ognajd\n",
      "ja\n",
      "avaj\n",
      "['python', 'django', 'java']\n",
      "['java', 'django', 'python']\n",
      "['python', 'java']\n",
      "['java', 'python']\n",
      "ksi\n",
      "vng\n",
      "ah\n",
      "ha\n",
      "(10, 'girish', 'helloworld', 'i love india')\n",
      "('i love india', 'helloworld', 'girish', 10)\n",
      "(10, 'helloworld')\n",
      "('girish', 'helloworld')\n",
      "('i love india', 10)\n",
      "('helloworld', 10)\n",
      "[10, 'python', 'kashi']\n",
      "('kashi', 'java', 'girish')\n",
      "('ihsak', 'nohtyp')\n"
     ]
    }
   ],
   "source": [
    "print(d['a']['10'][4]['d'][1][-1::-1])     #21 \n",
    "print(d['a']['10'][4]['d'][2][0:2])        #22 \n",
    "print(d['a']['10'][4]['d'][2][-1::-1])     #23 \n",
    "print(d['a']['10'][4]['d'][0:3])           #24\n",
    "print(d['a']['10'][4]['d'][::-1])          #25 \n",
    "print(d['a']['10'][4]['d'][0:3:2])         #26\n",
    "print(d['a']['10'][4]['d'][-1::-2])        #27\n",
    "print(list(d['a']['10'][4][(10,)])[1][0:5:2])        #28\n",
    "print(list(d['a']['10'][4][(10,)])[0][0:5:2])        #29\n",
    "print(list(d['a']['10'][4][(10,)])[1][1:6:2])        #30\n",
    "print(list(d['a']['10'][4][(10,)])[1][-2:-7:-2])     #31\n",
    "print(d['a']['10'][0:4])                             #32\n",
    "print(d['a']['10'][-2::-1])                          #33 \n",
    "print(d['a']['10'][0:3:2])                           #34 \n",
    "print(d['a']['10'][1:3])                             #35 \n",
    "print(d['a']['10'][-2:-6:-3])                        #36 \n",
    "print(d['a']['10'][-3:-6:-2])                        #37                             \n",
    "print([d['a']['10'][0],d['a']['10'][4]['d'][0],list(d['a']['10'][4][(10,)])[1]])           #38 \n",
    "print((list(d['a']['10'][-1][(10,)])[-1],d['a']['10'][-1]['d'][-1],d['a']['10'][1]))       #39 \n",
    "print((list(d['a']['10'][-1][(10,)])[1][-1::-1],d['a']['10'][-1]['d'][0][-1::-1]))         #40"
   ]
  }
 ],
 "metadata": {
  "kernelspec": {
   "display_name": "Python 3",
   "language": "python",
   "name": "python3"
  },
  "language_info": {
   "codemirror_mode": {
    "name": "ipython",
    "version": 3
   },
   "file_extension": ".py",
   "mimetype": "text/x-python",
   "name": "python",
   "nbconvert_exporter": "python",
   "pygments_lexer": "ipython3",
   "version": "3.11.4"
  },
  "orig_nbformat": 4
 },
 "nbformat": 4,
 "nbformat_minor": 2
}
